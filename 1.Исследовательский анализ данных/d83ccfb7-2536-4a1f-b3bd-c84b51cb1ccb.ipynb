{
 "cells": [
  {
   "cell_type": "markdown",
   "metadata": {},
   "source": [
    "# Исследование объявлений о продаже квартир\n",
    "\n",
    "В вашем распоряжении данные сервиса Яндекс.Недвижимость — архив объявлений о продаже квартир в Санкт-Петербурге и соседних населённых пунктов за несколько лет. Нужно научиться определять рыночную стоимость объектов недвижимости. Ваша задача — установить параметры. Это позволит построить автоматизированную систему: она отследит аномалии и мошенническую деятельность. \n",
    "\n",
    "По каждой квартире на продажу доступны два вида данных. Первые вписаны пользователем, вторые — получены автоматически на основе картографических данных. Например, расстояние до центра, аэропорта, ближайшего парка и водоёма. "
   ]
  },
  {
   "cell_type": "markdown",
   "metadata": {},
   "source": [
    "### Откройте файл с данными и изучите общую информацию. "
   ]
  },
  {
   "cell_type": "code",
   "execution_count": 1,
   "metadata": {},
   "outputs": [],
   "source": [
    "import pandas as pd\n",
    "import matplotlib.pyplot as plt\n",
    "\n",
    "data = pd.read_csv('/datasets/real_estate_data.csv', sep='\\t')"
   ]
  },
  {
   "cell_type": "code",
   "execution_count": 2,
   "metadata": {},
   "outputs": [
    {
     "name": "stdout",
     "output_type": "stream",
     "text": [
      "   total_images  last_price  total_area first_day_exposition  rooms  \\\n",
      "0            20  13000000.0       108.0  2019-03-07T00:00:00      3   \n",
      "1             7   3350000.0        40.4  2018-12-04T00:00:00      1   \n",
      "2            10   5196000.0        56.0  2015-08-20T00:00:00      2   \n",
      "3             0  64900000.0       159.0  2015-07-24T00:00:00      3   \n",
      "4             2  10000000.0       100.0  2018-06-19T00:00:00      2   \n",
      "\n",
      "   ceiling_height  floors_total  living_area  floor is_apartment  ...  \\\n",
      "0            2.70          16.0         51.0      8          NaN  ...   \n",
      "1             NaN          11.0         18.6      1          NaN  ...   \n",
      "2             NaN           5.0         34.3      4          NaN  ...   \n",
      "3             NaN          14.0          NaN      9          NaN  ...   \n",
      "4            3.03          14.0         32.0     13          NaN  ...   \n",
      "\n",
      "   kitchen_area  balcony    locality_name  airports_nearest  \\\n",
      "0          25.0      NaN  Санкт-Петербург           18863.0   \n",
      "1          11.0      2.0   посёлок Шушары           12817.0   \n",
      "2           8.3      0.0  Санкт-Петербург           21741.0   \n",
      "3           NaN      0.0  Санкт-Петербург           28098.0   \n",
      "4          41.0      NaN  Санкт-Петербург           31856.0   \n",
      "\n",
      "  cityCenters_nearest  parks_around3000  parks_nearest  ponds_around3000  \\\n",
      "0             16028.0               1.0          482.0               2.0   \n",
      "1             18603.0               0.0            NaN               0.0   \n",
      "2             13933.0               1.0           90.0               2.0   \n",
      "3              6800.0               2.0           84.0               3.0   \n",
      "4              8098.0               2.0          112.0               1.0   \n",
      "\n",
      "   ponds_nearest  days_exposition  \n",
      "0          755.0              NaN  \n",
      "1            NaN             81.0  \n",
      "2          574.0            558.0  \n",
      "3          234.0            424.0  \n",
      "4           48.0            121.0  \n",
      "\n",
      "[5 rows x 22 columns]\n",
      "<class 'pandas.core.frame.DataFrame'>\n",
      "RangeIndex: 23699 entries, 0 to 23698\n",
      "Data columns (total 22 columns):\n",
      " #   Column                Non-Null Count  Dtype  \n",
      "---  ------                --------------  -----  \n",
      " 0   total_images          23699 non-null  int64  \n",
      " 1   last_price            23699 non-null  float64\n",
      " 2   total_area            23699 non-null  float64\n",
      " 3   first_day_exposition  23699 non-null  object \n",
      " 4   rooms                 23699 non-null  int64  \n",
      " 5   ceiling_height        14504 non-null  float64\n",
      " 6   floors_total          23613 non-null  float64\n",
      " 7   living_area           21796 non-null  float64\n",
      " 8   floor                 23699 non-null  int64  \n",
      " 9   is_apartment          2775 non-null   object \n",
      " 10  studio                23699 non-null  bool   \n",
      " 11  open_plan             23699 non-null  bool   \n",
      " 12  kitchen_area          21421 non-null  float64\n",
      " 13  balcony               12180 non-null  float64\n",
      " 14  locality_name         23650 non-null  object \n",
      " 15  airports_nearest      18157 non-null  float64\n",
      " 16  cityCenters_nearest   18180 non-null  float64\n",
      " 17  parks_around3000      18181 non-null  float64\n",
      " 18  parks_nearest         8079 non-null   float64\n",
      " 19  ponds_around3000      18181 non-null  float64\n",
      " 20  ponds_nearest         9110 non-null   float64\n",
      " 21  days_exposition       20518 non-null  float64\n",
      "dtypes: bool(2), float64(14), int64(3), object(3)\n",
      "memory usage: 3.7+ MB\n"
     ]
    },
    {
     "data": {
      "text/html": [
       "<div>\n",
       "<style scoped>\n",
       "    .dataframe tbody tr th:only-of-type {\n",
       "        vertical-align: middle;\n",
       "    }\n",
       "\n",
       "    .dataframe tbody tr th {\n",
       "        vertical-align: top;\n",
       "    }\n",
       "\n",
       "    .dataframe thead th {\n",
       "        text-align: right;\n",
       "    }\n",
       "</style>\n",
       "<table border=\"1\" class=\"dataframe\">\n",
       "  <thead>\n",
       "    <tr style=\"text-align: right;\">\n",
       "      <th></th>\n",
       "      <th>total_images</th>\n",
       "      <th>last_price</th>\n",
       "      <th>total_area</th>\n",
       "      <th>rooms</th>\n",
       "      <th>ceiling_height</th>\n",
       "      <th>floors_total</th>\n",
       "      <th>living_area</th>\n",
       "      <th>floor</th>\n",
       "      <th>kitchen_area</th>\n",
       "      <th>balcony</th>\n",
       "      <th>airports_nearest</th>\n",
       "      <th>cityCenters_nearest</th>\n",
       "      <th>parks_around3000</th>\n",
       "      <th>parks_nearest</th>\n",
       "      <th>ponds_around3000</th>\n",
       "      <th>ponds_nearest</th>\n",
       "      <th>days_exposition</th>\n",
       "    </tr>\n",
       "  </thead>\n",
       "  <tbody>\n",
       "    <tr>\n",
       "      <th>count</th>\n",
       "      <td>23699.000000</td>\n",
       "      <td>2.369900e+04</td>\n",
       "      <td>23699.000000</td>\n",
       "      <td>23699.000000</td>\n",
       "      <td>14504.000000</td>\n",
       "      <td>23613.000000</td>\n",
       "      <td>21796.000000</td>\n",
       "      <td>23699.000000</td>\n",
       "      <td>21421.000000</td>\n",
       "      <td>12180.000000</td>\n",
       "      <td>18157.000000</td>\n",
       "      <td>18180.000000</td>\n",
       "      <td>18181.000000</td>\n",
       "      <td>8079.000000</td>\n",
       "      <td>18181.000000</td>\n",
       "      <td>9110.000000</td>\n",
       "      <td>20518.000000</td>\n",
       "    </tr>\n",
       "    <tr>\n",
       "      <th>mean</th>\n",
       "      <td>9.858475</td>\n",
       "      <td>6.541549e+06</td>\n",
       "      <td>60.348651</td>\n",
       "      <td>2.070636</td>\n",
       "      <td>2.771499</td>\n",
       "      <td>10.673824</td>\n",
       "      <td>34.457852</td>\n",
       "      <td>5.892358</td>\n",
       "      <td>10.569807</td>\n",
       "      <td>1.150082</td>\n",
       "      <td>28793.672193</td>\n",
       "      <td>14191.277833</td>\n",
       "      <td>0.611408</td>\n",
       "      <td>490.804555</td>\n",
       "      <td>0.770255</td>\n",
       "      <td>517.980900</td>\n",
       "      <td>180.888634</td>\n",
       "    </tr>\n",
       "    <tr>\n",
       "      <th>std</th>\n",
       "      <td>5.682529</td>\n",
       "      <td>1.088701e+07</td>\n",
       "      <td>35.654083</td>\n",
       "      <td>1.078405</td>\n",
       "      <td>1.261056</td>\n",
       "      <td>6.597173</td>\n",
       "      <td>22.030445</td>\n",
       "      <td>4.885249</td>\n",
       "      <td>5.905438</td>\n",
       "      <td>1.071300</td>\n",
       "      <td>12630.880622</td>\n",
       "      <td>8608.386210</td>\n",
       "      <td>0.802074</td>\n",
       "      <td>342.317995</td>\n",
       "      <td>0.938346</td>\n",
       "      <td>277.720643</td>\n",
       "      <td>219.727988</td>\n",
       "    </tr>\n",
       "    <tr>\n",
       "      <th>min</th>\n",
       "      <td>0.000000</td>\n",
       "      <td>1.219000e+04</td>\n",
       "      <td>12.000000</td>\n",
       "      <td>0.000000</td>\n",
       "      <td>1.000000</td>\n",
       "      <td>1.000000</td>\n",
       "      <td>2.000000</td>\n",
       "      <td>1.000000</td>\n",
       "      <td>1.300000</td>\n",
       "      <td>0.000000</td>\n",
       "      <td>0.000000</td>\n",
       "      <td>181.000000</td>\n",
       "      <td>0.000000</td>\n",
       "      <td>1.000000</td>\n",
       "      <td>0.000000</td>\n",
       "      <td>13.000000</td>\n",
       "      <td>1.000000</td>\n",
       "    </tr>\n",
       "    <tr>\n",
       "      <th>25%</th>\n",
       "      <td>6.000000</td>\n",
       "      <td>3.400000e+06</td>\n",
       "      <td>40.000000</td>\n",
       "      <td>1.000000</td>\n",
       "      <td>2.520000</td>\n",
       "      <td>5.000000</td>\n",
       "      <td>18.600000</td>\n",
       "      <td>2.000000</td>\n",
       "      <td>7.000000</td>\n",
       "      <td>0.000000</td>\n",
       "      <td>18585.000000</td>\n",
       "      <td>9238.000000</td>\n",
       "      <td>0.000000</td>\n",
       "      <td>288.000000</td>\n",
       "      <td>0.000000</td>\n",
       "      <td>294.000000</td>\n",
       "      <td>45.000000</td>\n",
       "    </tr>\n",
       "    <tr>\n",
       "      <th>50%</th>\n",
       "      <td>9.000000</td>\n",
       "      <td>4.650000e+06</td>\n",
       "      <td>52.000000</td>\n",
       "      <td>2.000000</td>\n",
       "      <td>2.650000</td>\n",
       "      <td>9.000000</td>\n",
       "      <td>30.000000</td>\n",
       "      <td>4.000000</td>\n",
       "      <td>9.100000</td>\n",
       "      <td>1.000000</td>\n",
       "      <td>26726.000000</td>\n",
       "      <td>13098.500000</td>\n",
       "      <td>0.000000</td>\n",
       "      <td>455.000000</td>\n",
       "      <td>1.000000</td>\n",
       "      <td>502.000000</td>\n",
       "      <td>95.000000</td>\n",
       "    </tr>\n",
       "    <tr>\n",
       "      <th>75%</th>\n",
       "      <td>14.000000</td>\n",
       "      <td>6.800000e+06</td>\n",
       "      <td>69.900000</td>\n",
       "      <td>3.000000</td>\n",
       "      <td>2.800000</td>\n",
       "      <td>16.000000</td>\n",
       "      <td>42.300000</td>\n",
       "      <td>8.000000</td>\n",
       "      <td>12.000000</td>\n",
       "      <td>2.000000</td>\n",
       "      <td>37273.000000</td>\n",
       "      <td>16293.000000</td>\n",
       "      <td>1.000000</td>\n",
       "      <td>612.000000</td>\n",
       "      <td>1.000000</td>\n",
       "      <td>729.000000</td>\n",
       "      <td>232.000000</td>\n",
       "    </tr>\n",
       "    <tr>\n",
       "      <th>max</th>\n",
       "      <td>50.000000</td>\n",
       "      <td>7.630000e+08</td>\n",
       "      <td>900.000000</td>\n",
       "      <td>19.000000</td>\n",
       "      <td>100.000000</td>\n",
       "      <td>60.000000</td>\n",
       "      <td>409.700000</td>\n",
       "      <td>33.000000</td>\n",
       "      <td>112.000000</td>\n",
       "      <td>5.000000</td>\n",
       "      <td>84869.000000</td>\n",
       "      <td>65968.000000</td>\n",
       "      <td>3.000000</td>\n",
       "      <td>3190.000000</td>\n",
       "      <td>3.000000</td>\n",
       "      <td>1344.000000</td>\n",
       "      <td>1580.000000</td>\n",
       "    </tr>\n",
       "  </tbody>\n",
       "</table>\n",
       "</div>"
      ],
      "text/plain": [
       "       total_images    last_price    total_area         rooms  ceiling_height  \\\n",
       "count  23699.000000  2.369900e+04  23699.000000  23699.000000    14504.000000   \n",
       "mean       9.858475  6.541549e+06     60.348651      2.070636        2.771499   \n",
       "std        5.682529  1.088701e+07     35.654083      1.078405        1.261056   \n",
       "min        0.000000  1.219000e+04     12.000000      0.000000        1.000000   \n",
       "25%        6.000000  3.400000e+06     40.000000      1.000000        2.520000   \n",
       "50%        9.000000  4.650000e+06     52.000000      2.000000        2.650000   \n",
       "75%       14.000000  6.800000e+06     69.900000      3.000000        2.800000   \n",
       "max       50.000000  7.630000e+08    900.000000     19.000000      100.000000   \n",
       "\n",
       "       floors_total   living_area         floor  kitchen_area       balcony  \\\n",
       "count  23613.000000  21796.000000  23699.000000  21421.000000  12180.000000   \n",
       "mean      10.673824     34.457852      5.892358     10.569807      1.150082   \n",
       "std        6.597173     22.030445      4.885249      5.905438      1.071300   \n",
       "min        1.000000      2.000000      1.000000      1.300000      0.000000   \n",
       "25%        5.000000     18.600000      2.000000      7.000000      0.000000   \n",
       "50%        9.000000     30.000000      4.000000      9.100000      1.000000   \n",
       "75%       16.000000     42.300000      8.000000     12.000000      2.000000   \n",
       "max       60.000000    409.700000     33.000000    112.000000      5.000000   \n",
       "\n",
       "       airports_nearest  cityCenters_nearest  parks_around3000  parks_nearest  \\\n",
       "count      18157.000000         18180.000000      18181.000000    8079.000000   \n",
       "mean       28793.672193         14191.277833          0.611408     490.804555   \n",
       "std        12630.880622          8608.386210          0.802074     342.317995   \n",
       "min            0.000000           181.000000          0.000000       1.000000   \n",
       "25%        18585.000000          9238.000000          0.000000     288.000000   \n",
       "50%        26726.000000         13098.500000          0.000000     455.000000   \n",
       "75%        37273.000000         16293.000000          1.000000     612.000000   \n",
       "max        84869.000000         65968.000000          3.000000    3190.000000   \n",
       "\n",
       "       ponds_around3000  ponds_nearest  days_exposition  \n",
       "count      18181.000000    9110.000000     20518.000000  \n",
       "mean           0.770255     517.980900       180.888634  \n",
       "std            0.938346     277.720643       219.727988  \n",
       "min            0.000000      13.000000         1.000000  \n",
       "25%            0.000000     294.000000        45.000000  \n",
       "50%            1.000000     502.000000        95.000000  \n",
       "75%            1.000000     729.000000       232.000000  \n",
       "max            3.000000    1344.000000      1580.000000  "
      ]
     },
     "execution_count": 2,
     "metadata": {},
     "output_type": "execute_result"
    }
   ],
   "source": [
    "print(data.head())\n",
    "data.info()\n",
    "data.describe()"
   ]
  },
  {
   "cell_type": "code",
   "execution_count": 3,
   "metadata": {
    "scrolled": true
   },
   "outputs": [
    {
     "data": {
      "image/png": "[encoded data removed]",
      "text/plain": [
       "<Figure size 1080x1440 with 20 Axes>"
      ]
     },
     "metadata": {
      "needs_background": "light"
     },
     "output_type": "display_data"
    }
   ],
   "source": [
    "data.hist(figsize=(15, 20));"
   ]
  },
  {
   "cell_type": "markdown",
   "metadata": {},
   "source": [
    "В данных замечены следующие проблемы:\n",
    "\n",
    "-  Пропуски\n",
    "-  Категориальные значения\n",
    "-  Неверный формат времени\n",
    "-  Неправильные названия столбцов\n",
    "-  Выбросы и аномальные значения"
   ]
  },
  {
   "cell_type": "markdown",
   "metadata": {},
   "source": [
    "### Предобработка данных"
   ]
  },
  {
   "cell_type": "code",
   "execution_count": 4,
   "metadata": {},
   "outputs": [],
   "source": [
    "# заменим название столбца\n",
    "data.rename(columns = {'cityCenters_nearest':'center_nearest'}, inplace=True)"
   ]
  },
  {
   "cell_type": "markdown",
   "metadata": {},
   "source": [
    "-  balcony - параметр, который указал пользователь, соответственно, если стоит пропуск - скорее всего балконов нет, можно заменить на нулевое значение.\n",
    "-  floors_total коррелируется со столбцом floor, заменим пропуски на медианные значения, сгруппировав данные.\n",
    "-  ceiling_height потолки это довольно стандартизированная величина, поэтому можно безболезненно заменить их медианой\n",
    "-  kitchen_area хорошо коррелируется со столбцом total_area, поэтому, сгруппировав данные, заменим пропуски на медианные значени по группам.\n",
    "-  floors_total коррелируется со столбцом floor, заменим пропуски на медианные значения, сгруппировав данные.\n",
    "-  Пропуски в населенных пунктах можно удалить. Мы не можем быть уверены, что эти квартиры принадлежат Санкт-Перербургу."
   ]
  },
  {
   "cell_type": "code",
   "execution_count": 5,
   "metadata": {},
   "outputs": [
    {
     "name": "stdout",
     "output_type": "stream",
     "text": [
      "total_images                0\n",
      "last_price                  0\n",
      "total_area                  0\n",
      "first_day_exposition        0\n",
      "rooms                       0\n",
      "ceiling_height           9195\n",
      "floors_total               86\n",
      "living_area              1903\n",
      "floor                       0\n",
      "is_apartment            20924\n",
      "studio                      0\n",
      "open_plan                   0\n",
      "kitchen_area             2278\n",
      "balcony                 11519\n",
      "locality_name              49\n",
      "airports_nearest         5542\n",
      "center_nearest           5519\n",
      "parks_around3000         5518\n",
      "parks_nearest           15620\n",
      "ponds_around3000         5518\n",
      "ponds_nearest           14589\n",
      "days_exposition          3181\n",
      "dtype: int64\n"
     ]
    }
   ],
   "source": [
    "# пропуски\n",
    "print (data.isna().sum())\n",
    "\n",
    "# меняем пропуски на нулевое значение\n",
    "data['balcony'] = data['balcony'].fillna(0)\n",
    "\n",
    "# заполняем пропуски на медианное значение\n",
    "data['ceiling_height'] = data['ceiling_height'].fillna(data['ceiling_height'].median())\n",
    "data['floors_total'] = data['floors_total'].fillna(data.groupby('floor')['floors_total'].transform('median'))\n",
    "data['living_area'] = data['living_area'].fillna(data.groupby(['total_area', 'rooms'])['living_area'].transform('median'))\n",
    "data['kitchen_area'] = data['kitchen_area'].fillna(data.groupby('total_area')['kitchen_area'].transform('median'))\n",
    "\n",
    "# удаляем пропуски в населенных пунктах\n",
    "data.dropna(subset = ['locality_name'], inplace = True)"
   ]
  },
  {
   "cell_type": "markdown",
   "metadata": {},
   "source": [
    "-  first_day_exposition - необходимо перевести в формат Datatime\n",
    "-  привести значения в столбце locality_name к единому стилю\n",
    "-  округлить значения в столбце last_price до тысячи\n",
    "-  total_area, last_price, living_area, kitchen_area, airports_nearest, center_nearest, parks_nearest, ponds_nearest, - нужно округлить и заменить на целочисленные значения.\n",
    "-  floors_total, balcony, parks_around3000, ponds_around3000, days_exposition - заменить на целочисленные значения."
   ]
  },
  {
   "cell_type": "code",
   "execution_count": 6,
   "metadata": {},
   "outputs": [],
   "source": [
    "# меняем формат времени\n",
    "data['first_day_exposition'] = pd.to_datetime(data['first_day_exposition'], format = '%Y-%m-%dT%H:%M:%S')\n",
    "\n",
    "# заменим букву ё на букву е\n",
    "# приведем все к нижнему регистру\n",
    "data['locality_name'] = data['locality_name'].str.replace('ё', 'е')\n",
    "data['locality_name'] = data['locality_name'].str.lower()\n",
    "\n",
    "# переведем цену в тыс. рублей\n",
    "data['last_price'] = round(data['last_price'] / 1000, 1)"
   ]
  },
  {
   "cell_type": "code",
   "execution_count": 7,
   "metadata": {},
   "outputs": [],
   "source": [
    "# округляем значения\n",
    "data = data.round({\n",
    "    'total_area':0,\n",
    "    'last_price':0,\n",
    "    'living_area':0,\n",
    "    'kitchen_area':0,\n",
    "    'airports_nearest':0,\n",
    "    'center_nearest':0,\n",
    "    'parks_nearest':0,\n",
    "    'ponds_nearest':0,\n",
    "    'days_exposition':0 })\n",
    "\n",
    "# меняем тип данных на целочисленный\n",
    "data = data.astype({\n",
    "    'living_area':'Int64',\n",
    "    'kitchen_area':'Int64',\n",
    "    'floors_total':'Int64',\n",
    "    'balcony':'Int64',\n",
    "    'airports_nearest':'Int64',\n",
    "    'center_nearest':'Int64',\n",
    "    'parks_around3000':'Int64',\n",
    "    'parks_nearest':'Int64',\n",
    "    'ponds_around3000':'Int64', \n",
    "    'ponds_nearest':'Int64',\n",
    "    'days_exposition':'Int64' })"
   ]
  },
  {
   "cell_type": "code",
   "execution_count": 8,
   "metadata": {},
   "outputs": [
    {
     "data": {
      "text/plain": [
       "0"
      ]
     },
     "execution_count": 8,
     "metadata": {},
     "output_type": "execute_result"
    }
   ],
   "source": [
    "# Дубликатов в данных нет\n",
    "data.duplicated().sum()"
   ]
  },
  {
   "cell_type": "markdown",
   "metadata": {},
   "source": [
    "Уберем редкие и выбивающиеся значения"
   ]
  },
  {
   "cell_type": "code",
   "execution_count": 9,
   "metadata": {},
   "outputs": [
    {
     "data": {
      "text/plain": [
       "(0.0, 10.0)"
      ]
     },
     "execution_count": 9,
     "metadata": {},
     "output_type": "execute_result"
    },
    {
     "data": {
      "image/png": "[encoded data removed]",
      "text/plain": [
       "<Figure size 1080x720 with 4 Axes>"
      ]
     },
     "metadata": {
      "needs_background": "light"
     },
     "output_type": "display_data"
    }
   ],
   "source": [
    "fig = plt.figure(figsize=(15, 10))\n",
    "axes = fig.subplots(2, 2)\n",
    "\n",
    "# изучим распределение общей площади в объявлениях\n",
    "axes[0, 0].hist(data['total_area'], bins=100, color='teal')\n",
    "axes[0, 0].set_title('Общая площадь')\n",
    "axes[0, 0].set_ylabel('Количество объявлений')\n",
    "\n",
    "# изучим распределение цены в объявлениях\n",
    "axes[0, 1].hist(data['last_price'], bins=100, color='indianred')\n",
    "axes[0, 1].set_title('Последняя цена')\n",
    "axes[0, 1].set_ylabel('Количество объявлений')\n",
    " \n",
    "# изучим распределение комнат в объявлениях\n",
    "axes[1, 0].hist(data['rooms'], bins=20, color='y')\n",
    "axes[1, 0].set_title('Количество комнат')\n",
    "axes[1, 0].set_ylabel('Количество объявлений')\n",
    "axes[1, 1].set_xlim(0, 10)\n",
    "\n",
    "# изучим распределение высоты потолков в объявлениях\n",
    "axes[1, 1].hist(data['ceiling_height'], bins=100, color='darkmagenta')\n",
    "axes[1, 1].set_title('Высота потолков')\n",
    "axes[1, 1].set_ylabel('Количество объявлений')\n",
    "axes[1, 1].set_xlim(0, 10)"
   ]
  },
  {
   "cell_type": "code",
   "execution_count": 10,
   "metadata": {},
   "outputs": [
    {
     "name": "stdout",
     "output_type": "stream",
     "text": [
      "Аномалии в параметре общей площади 61\n",
      "Аномалии в параметре цены 196\n",
      "Аномалии в параметре комнат 205\n",
      "Аномалии в параметре высоты потолков 39\n"
     ]
    }
   ],
   "source": [
    "print ('Аномалии в параметре общей площади', data.query('total_area > 300')['locality_name'].count())\n",
    "print ('Аномалии в параметре цены', data.query('last_price > 40000 or last_price < 500')['locality_name'].count())\n",
    "print ('Аномалии в параметре комнат', data.query('rooms > 10 or rooms == 0')['locality_name'].count())\n",
    "print ('Аномалии в параметре высоты потолков', data.query('ceiling_height > 5 or ceiling_height < 2')['rooms'].count())"
   ]
  },
  {
   "cell_type": "code",
   "execution_count": 11,
   "metadata": {},
   "outputs": [],
   "source": [
    "# отсекем слишком большую площадь\n",
    "data = data.query('total_area < 150')\n",
    "\n",
    "# отсекем цену более 40000 и менее 500\n",
    "data = data.query('last_price < 40000 and last_price > 500')\n",
    "\n",
    "# отсекем квартиры с количеством комнат более 10\n",
    "data = data.query('rooms < 10')\n",
    "# квартиры с 0 количеством комнат заменим на 1\n",
    "data.loc[(data.rooms < 1), 'rooms'] = 1\n",
    "\n",
    "# отсекаем высоту потолков больше 10 метров\n",
    "data = data.query('ceiling_height < 5 and ceiling_height > 2')"
   ]
  },
  {
   "cell_type": "markdown",
   "metadata": {},
   "source": [
    "Данные предобработаны:\n",
    "\n",
    "-  Заголовки приведены к единому стилю\n",
    "-  Обработано большинство пропусков\n",
    "-  Заменены типы данных на численные\n",
    "-  Дубликатов нет\n",
    "-  Мы избавились от аномальных значений, распределения параметров нормальные"
   ]
  },
  {
   "cell_type": "markdown",
   "metadata": {},
   "source": [
    "### Посчитайте и добавьте в таблицу новые столбцы"
   ]
  },
  {
   "cell_type": "markdown",
   "metadata": {},
   "source": [
    "Необходимо посчитать и добавить в таблицу:\n",
    "\n",
    "-  цену квадратного метра;\n",
    "-  день недели, месяц и год публикации объявления;\n",
    "-  этаж квартиры; варианты — первый, последний, другой;\n",
    "-  соотношение жилой и общей площади, а также отношение площади кухни к общей."
   ]
  },
  {
   "cell_type": "code",
   "execution_count": 12,
   "metadata": {},
   "outputs": [],
   "source": [
    "# добавим цену за квадратный метр\n",
    "data['per_meter'] = (data['last_price'] / data['total_area']).round().astype('int')"
   ]
  },
  {
   "cell_type": "code",
   "execution_count": 13,
   "metadata": {},
   "outputs": [],
   "source": [
    "# добавим день недели, месяц и год публикации объявления\n",
    "data['weekday'] = pd.DatetimeIndex(data['first_day_exposition']).weekday\n",
    "data['month'] = pd.DatetimeIndex(data['first_day_exposition']).month\n",
    "data['year'] = pd.DatetimeIndex(data['first_day_exposition']).year\n",
    "data = data.drop('first_day_exposition', axis=1)"
   ]
  },
  {
   "cell_type": "code",
   "execution_count": 14,
   "metadata": {},
   "outputs": [],
   "source": [
    "# добавим соотноение жилой и общей площади\n",
    "data['living_to_total'] = (data['living_area'] / data['total_area']) * 100\n",
    "\n",
    "# добавим соотношение кухни к общей площади\n",
    "data['kitchen_to_total'] = (data['kitchen_area'] / data['total_area']) * 100"
   ]
  },
  {
   "cell_type": "code",
   "execution_count": 15,
   "metadata": {},
   "outputs": [],
   "source": [
    "# добавим этаж квартиры\n",
    "def floor_type (data):\n",
    "    if data['floor'] == 1:\n",
    "        return 'первый'\n",
    "    if data['floor'] == data['floors_total']:\n",
    "        return 'последний'\n",
    "    else: \n",
    "        return 'другой'\n",
    "data['floor_category'] = data.apply(floor_type, axis=1)"
   ]
  },
  {
   "cell_type": "code",
   "execution_count": 16,
   "metadata": {},
   "outputs": [],
   "source": [
    "# добавим столбец с расстоянием до центра в километрах\n",
    "data['kilo_to_center'] = (data['center_nearest'] // 1000).astype('Int64')"
   ]
  },
  {
   "cell_type": "markdown",
   "metadata": {},
   "source": [
    "### Проведите исследовательский анализ данных"
   ]
  },
  {
   "cell_type": "code",
   "execution_count": 17,
   "metadata": {},
   "outputs": [
    {
     "data": {
      "image/png": "[encoded data removed]",
      "text/plain": [
       "<Figure size 432x288 with 1 Axes>"
      ]
     },
     "metadata": {
      "needs_background": "light"
     },
     "output_type": "display_data"
    },
    {
     "data": {
      "image/png": "[encoded data removed]",
      "text/plain": [
       "<Figure size 432x288 with 1 Axes>"
      ]
     },
     "metadata": {
      "needs_background": "light"
     },
     "output_type": "display_data"
    },
    {
     "data": {
      "image/png": "[encoded data removed]",
      "text/plain": [
       "<Figure size 432x288 with 1 Axes>"
      ]
     },
     "metadata": {
      "needs_background": "light"
     },
     "output_type": "display_data"
    },
    {
     "data": {
      "image/png": "[encoded data removed]",
      "text/plain": [
       "<Figure size 432x288 with 1 Axes>"
      ]
     },
     "metadata": {
      "needs_background": "light"
     },
     "output_type": "display_data"
    },
    {
     "data": {
      "image/png": "[encoded data removed]",
      "text/plain": [
       "<Figure size 432x288 with 1 Axes>"
      ]
     },
     "metadata": {
      "needs_background": "light"
     },
     "output_type": "display_data"
    },
    {
     "data": {
      "image/png": "[encoded data removed]",
      "text/plain": [
       "<Figure size 432x288 with 1 Axes>"
      ]
     },
     "metadata": {
      "needs_background": "light"
     },
     "output_type": "display_data"
    },
    {
     "data": {
      "image/png": "[encoded data removed]",
      "text/plain": [
       "<Figure size 432x288 with 1 Axes>"
      ]
     },
     "metadata": {
      "needs_background": "light"
     },
     "output_type": "display_data"
    },
    {
     "data": {
      "image/png": "[encoded data removed]",
      "text/plain": [
       "<Figure size 432x288 with 1 Axes>"
      ]
     },
     "metadata": {
      "needs_background": "light"
     },
     "output_type": "display_data"
    },
    {
     "data": {
      "image/png": "[encoded data removed]",
      "text/plain": [
       "<Figure size 432x288 with 1 Axes>"
      ]
     },
     "metadata": {
      "needs_background": "light"
     },
     "output_type": "display_data"
    },
    {
     "data": {
      "image/png": "[encoded data removed]",
      "text/plain": [
       "<Figure size 432x288 with 1 Axes>"
      ]
     },
     "metadata": {
      "needs_background": "light"
     },
     "output_type": "display_data"
    },
    {
     "data": {
      "image/png": "[encoded data removed]",
      "text/plain": [
       "<Figure size 432x288 with 1 Axes>"
      ]
     },
     "metadata": {
      "needs_background": "light"
     },
     "output_type": "display_data"
    },
    {
     "data": {
      "image/png": "[encoded data removed]",
      "text/plain": [
       "<Figure size 432x288 with 1 Axes>"
      ]
     },
     "metadata": {
      "needs_background": "light"
     },
     "output_type": "display_data"
    },
    {
     "data": {
      "image/png": "[encoded data removed]",
      "text/plain": [
       "<Figure size 432x288 with 1 Axes>"
      ]
     },
     "metadata": {
      "needs_background": "light"
     },
     "output_type": "display_data"
    },
    {
     "data": {
      "image/png": "[encoded data removed]",
      "text/plain": [
       "<Figure size 432x288 with 1 Axes>"
      ]
     },
     "metadata": {
      "needs_background": "light"
     },
     "output_type": "display_data"
    }
   ],
   "source": [
    "data.groupby(by='floor_category')['floor_category'].count().plot(kind='bar', ylabel = 'count');\n",
    "\n",
    "data.hist('total_area', bins=100);\n",
    "\n",
    "data.hist('living_area', bins=100);\n",
    "\n",
    "data.hist('kitchen_area', bins=100);\n",
    "\n",
    "data.hist('last_price', bins=100);\n",
    "\n",
    "data.hist('rooms', bins=data['rooms'].max());\n",
    "\n",
    "data.hist('ceiling_height', bins=30);\n",
    "\n",
    "data.hist('floor', bins=data['floor'].max());\n",
    "\n",
    "data.hist('floors_total', bins=data['floors_total'].max());\n",
    "\n",
    "data.hist('kilo_to_center', bins=100);\n",
    "\n",
    "data.hist('airports_nearest', bins=100);\n",
    "\n",
    "data.hist('parks_nearest', bins=100);\n",
    "\n",
    "data.hist('weekday', bins=7);\n",
    "\n",
    "data.hist('month', bins=12);"
   ]
  },
  {
   "cell_type": "markdown",
   "metadata": {},
   "source": [
    "Построили гистограммы для:\n",
    "\n",
    "-  тип этажа квартиры («первый», «последний», «другой») в этом случае используем тип bar; Больше всего квартир на \"другом\" этаже и это логично. Первых и последних этажей одинакого мало.\n",
    "-  общая площадь; Наблюдаем очень малое количество квартир с общей площадью более 100 кв.м.\n",
    "-  жилая площадь; Наблюдаем два пика - на 18 кв.м. и на 30 кв.м. \n",
    "-  площадь кухни; Площадь кухни выглядит хорошо.\n",
    "-  цена объекта; Цена объекта выглядит хорошо. Немного \"шумный\" график. Очень длинный \"хвост\" вправо - это похоже илитная недвижимость.\n",
    "-  количество комнат; Больше всего один- и двух-комнатных квартир, но встречаются и редкие исключения.\n",
    "-  высота потолков; от 2.5м, что логично.\n",
    "-  этаж квартиры; Больше всего квартир с 1 по 5 этаж. Логино, питер не город небоскрёбов\n",
    "-  общее количество этажей в доме; Видим явные пики: 5-этажная застройка, 9-этажная застройка, и небольшие пики более высоких новостроек.\n",
    "-  расстояние до центра города в метрах; Здесь наблюдаем два пика, один маленький, 5км и другой побльшой от 10 км. до 15 км. Так же есть совсем небольшие всплески на 30 км. и 50 км.\n",
    "-  расстояние до ближайшего аэропорта; Здесь видим довольно \"шумный\" график. Но это вполне нормально.\n",
    "-  расстояние до ближайшего парка; Судя по графику больше всего квартир с парками на расстоянии до 750м.\n",
    "-  день и месяц публикации объявления. Видим провал в публикации объявлений в субботу и воскресенье, что логично. Так же видим что с февраля по апрель наблюдалосась повышенная активность. Так же был плавный рост активности с июля по ноябрь. Провалы в декабре, январе и мае."
   ]
  },
  {
   "cell_type": "code",
   "execution_count": 18,
   "metadata": {},
   "outputs": [
    {
     "data": {
      "text/plain": [
       "Text(0, 0.5, 'Количество объявлений')"
      ]
     },
     "execution_count": 18,
     "metadata": {},
     "output_type": "execute_result"
    },
    {
     "data": {
      "image/png": "[encoded data removed]",
      "text/plain": [
       "<Figure size 432x288 with 1 Axes>"
      ]
     },
     "metadata": {
      "needs_background": "light"
     },
     "output_type": "display_data"
    }
   ],
   "source": [
    "# изучим время продажи квартиры\n",
    "data['days_exposition'].hist(bins=100)\n",
    "plt.title('Время продажи квартиры')\n",
    "plt.ylabel('Количество объявлений')"
   ]
  },
  {
   "cell_type": "code",
   "execution_count": 19,
   "metadata": {},
   "outputs": [
    {
     "data": {
      "text/plain": [
       "12.52123165367362"
      ]
     },
     "metadata": {},
     "output_type": "display_data"
    },
    {
     "data": {
      "text/plain": [
       "count    19951.000000\n",
       "mean       177.931683\n",
       "std        217.058190\n",
       "min          1.000000\n",
       "25%         44.000000\n",
       "50%         94.000000\n",
       "75%        226.000000\n",
       "max       1580.000000\n",
       "Name: days_exposition, dtype: float64"
      ]
     },
     "metadata": {},
     "output_type": "display_data"
    },
    {
     "data": {
      "image/png": "[encoded data removed]",
      "text/plain": [
       "<Figure size 432x288 with 1 Axes>"
      ]
     },
     "metadata": {
      "needs_background": "light"
     },
     "output_type": "display_data"
    }
   ],
   "source": [
    "# проверим долю продаж дольше года и сделаем описание данных\n",
    "display (data[data['days_exposition'] > 365]['days_exposition'].count() / data.shape[0] * 100)\n",
    "display (data['days_exposition'].describe())\n",
    "\n",
    "data.boxplot(column='days_exposition')\n",
    "plt.title('Аномалии время продажи квартиры')\n",
    "plt.show()"
   ]
  },
  {
   "cell_type": "code",
   "execution_count": 20,
   "metadata": {},
   "outputs": [
    {
     "data": {
      "text/plain": [
       "Text(0, 0.5, 'Количество объявлений')"
      ]
     },
     "execution_count": 20,
     "metadata": {},
     "output_type": "execute_result"
    },
    {
     "data": {
      "image/png": "[encoded data removed]",
      "text/plain": [
       "<Figure size 720x216 with 1 Axes>"
      ]
     },
     "metadata": {
      "needs_background": "light"
     },
     "output_type": "display_data"
    }
   ],
   "source": [
    "# уберем аномально долгие продажи больше года\n",
    "data = data[data['days_exposition'] < 365]\n",
    "data['days_exposition'].hist(bins=200, figsize=(10, 3))\n",
    "plt.title('Время продажи квартиры')\n",
    "plt.ylabel('Количество объявлений')"
   ]
  },
  {
   "cell_type": "code",
   "execution_count": 21,
   "metadata": {},
   "outputs": [
    {
     "data": {
      "image/png": "[encoded data removed]",
      "text/plain": [
       "<Figure size 432x288 with 1 Axes>"
      ]
     },
     "metadata": {
      "needs_background": "light"
     },
     "output_type": "display_data"
    }
   ],
   "source": [
    "import matplotlib.pyplot as plt\n",
    "data.boxplot(column='days_exposition')\n",
    "plt.title('Время продажи квартиры')\n",
    "plt.show()"
   ]
  },
  {
   "cell_type": "markdown",
   "metadata": {},
   "source": [
    "-  До 50 дней - продажа прошла быстро\n",
    "-  До 150 дней - среднее время продажи\n",
    "-  До 350 дней - долгая продажа"
   ]
  },
  {
   "cell_type": "code",
   "execution_count": 22,
   "metadata": {},
   "outputs": [
    {
     "name": "stdout",
     "output_type": "stream",
     "text": [
      "3951\n"
     ]
    },
    {
     "data": {
      "text/plain": [
       "'Зависимость цены от площади: '"
      ]
     },
     "metadata": {},
     "output_type": "display_data"
    },
    {
     "data": {
      "text/html": [
       "<div>\n",
       "<style scoped>\n",
       "    .dataframe tbody tr th:only-of-type {\n",
       "        vertical-align: middle;\n",
       "    }\n",
       "\n",
       "    .dataframe tbody tr th {\n",
       "        vertical-align: top;\n",
       "    }\n",
       "\n",
       "    .dataframe thead th {\n",
       "        text-align: right;\n",
       "    }\n",
       "</style>\n",
       "<table border=\"1\" class=\"dataframe\">\n",
       "  <thead>\n",
       "    <tr style=\"text-align: right;\">\n",
       "      <th></th>\n",
       "      <th>total_area</th>\n",
       "      <th>last_price</th>\n",
       "    </tr>\n",
       "  </thead>\n",
       "  <tbody>\n",
       "    <tr>\n",
       "      <th>total_area</th>\n",
       "      <td>1.000000</td>\n",
       "      <td>0.733656</td>\n",
       "    </tr>\n",
       "    <tr>\n",
       "      <th>last_price</th>\n",
       "      <td>0.733656</td>\n",
       "      <td>1.000000</td>\n",
       "    </tr>\n",
       "  </tbody>\n",
       "</table>\n",
       "</div>"
      ],
      "text/plain": [
       "            total_area  last_price\n",
       "total_area    1.000000    0.733656\n",
       "last_price    0.733656    1.000000"
      ]
     },
     "metadata": {},
     "output_type": "display_data"
    },
    {
     "data": {
      "text/plain": [
       "'Зависимость цены от числа комнат'"
      ]
     },
     "metadata": {},
     "output_type": "display_data"
    },
    {
     "data": {
      "text/html": [
       "<div>\n",
       "<style scoped>\n",
       "    .dataframe tbody tr th:only-of-type {\n",
       "        vertical-align: middle;\n",
       "    }\n",
       "\n",
       "    .dataframe tbody tr th {\n",
       "        vertical-align: top;\n",
       "    }\n",
       "\n",
       "    .dataframe thead th {\n",
       "        text-align: right;\n",
       "    }\n",
       "</style>\n",
       "<table border=\"1\" class=\"dataframe\">\n",
       "  <thead>\n",
       "    <tr style=\"text-align: right;\">\n",
       "      <th></th>\n",
       "      <th>rooms</th>\n",
       "      <th>last_price</th>\n",
       "    </tr>\n",
       "  </thead>\n",
       "  <tbody>\n",
       "    <tr>\n",
       "      <th>rooms</th>\n",
       "      <td>1.000000</td>\n",
       "      <td>0.445041</td>\n",
       "    </tr>\n",
       "    <tr>\n",
       "      <th>last_price</th>\n",
       "      <td>0.445041</td>\n",
       "      <td>1.000000</td>\n",
       "    </tr>\n",
       "  </tbody>\n",
       "</table>\n",
       "</div>"
      ],
      "text/plain": [
       "               rooms  last_price\n",
       "rooms       1.000000    0.445041\n",
       "last_price  0.445041    1.000000"
      ]
     },
     "metadata": {},
     "output_type": "display_data"
    },
    {
     "data": {
      "text/plain": [
       "'Зависимость цены от удаленности от центра'"
      ]
     },
     "metadata": {},
     "output_type": "display_data"
    },
    {
     "data": {
      "text/html": [
       "<div>\n",
       "<style scoped>\n",
       "    .dataframe tbody tr th:only-of-type {\n",
       "        vertical-align: middle;\n",
       "    }\n",
       "\n",
       "    .dataframe tbody tr th {\n",
       "        vertical-align: top;\n",
       "    }\n",
       "\n",
       "    .dataframe thead th {\n",
       "        text-align: right;\n",
       "    }\n",
       "</style>\n",
       "<table border=\"1\" class=\"dataframe\">\n",
       "  <thead>\n",
       "    <tr style=\"text-align: right;\">\n",
       "      <th></th>\n",
       "      <th>center_nearest</th>\n",
       "      <th>per_meter</th>\n",
       "    </tr>\n",
       "  </thead>\n",
       "  <tbody>\n",
       "    <tr>\n",
       "      <th>center_nearest</th>\n",
       "      <td>1.000000</td>\n",
       "      <td>-0.369417</td>\n",
       "    </tr>\n",
       "    <tr>\n",
       "      <th>per_meter</th>\n",
       "      <td>-0.369417</td>\n",
       "      <td>1.000000</td>\n",
       "    </tr>\n",
       "  </tbody>\n",
       "</table>\n",
       "</div>"
      ],
      "text/plain": [
       "                center_nearest  per_meter\n",
       "center_nearest        1.000000  -0.369417\n",
       "per_meter            -0.369417   1.000000"
      ]
     },
     "metadata": {},
     "output_type": "display_data"
    },
    {
     "data": {
      "image/png": "[encoded data removed]",
      "text/plain": [
       "<Figure size 1080x720 with 4 Axes>"
      ]
     },
     "metadata": {
      "needs_background": "light"
     },
     "output_type": "display_data"
    }
   ],
   "source": [
    "fig = plt.figure( figsize=(15, 10))\n",
    "axes = fig.subplots(2, 2)\n",
    "\n",
    "# ПЛОЩАДЬ\n",
    "axes[0, 0].scatter(x=data['total_area'], y=data['last_price'],  alpha=0.3, color='teal')\n",
    "axes[0, 0].set_title('Общая площадь')\n",
    "axes[0, 0].set_ylabel('Цена')\n",
    "\n",
    "# ЧИСЛО КОМНАТ\n",
    "rooms_median = data.pivot_table(index='rooms', values='last_price', aggfunc='median')\n",
    "axes[0, 1].bar(x=rooms_median.index, height=rooms_median['last_price'], color='lightgreen')\n",
    "axes[0, 1].set_title('Количество комнат')\n",
    "axes[0, 1].set_ylabel('Цена')\n",
    "\n",
    "# УДАЛЕННОСТЬ ОТ ЦЕНТРА\n",
    "# сначала очистим от аномальных значений\n",
    "clean_center = data[data['center_nearest'] < 25000]\n",
    "\n",
    "# добавим столбец с расстоянием до центра в километрах\n",
    "print(data['center_nearest'].isna().sum())\n",
    "axes[1, 0].scatter(x=clean_center['center_nearest'], y=clean_center['per_meter'], alpha=0.3, color='olive')\n",
    "axes[1, 0].set_title('Расстояние до центра')\n",
    "axes[1, 0].set_ylabel('Цена')\n",
    "\n",
    "# ЭТАЖ\n",
    "floor_median = data.pivot_table(index='floor', values='last_price', aggfunc='median')\n",
    "axes[1, 1].bar(x=floor_median.index, height=floor_median['last_price'], color='purple')\n",
    "\n",
    "\n",
    "display ('Зависимость цены от площади: ', data[['total_area', 'last_price']].corr())\n",
    "display ('Зависимость цены от числа комнат', data[['rooms','last_price']].corr())\n",
    "display ('Зависимость цены от удаленности от центра', clean_center[['center_nearest', 'per_meter']].corr())"
   ]
  },
  {
   "cell_type": "markdown",
   "metadata": {},
   "source": [
    "Вывод\n",
    "\n",
    "-  Цена квартиры напрямую коррелирует с общей площадью квартиры, значит параметр площади - важный фактор при оценивании квартиры\n",
    "-  Цена также зависит от количества комнат, однако здесь мы анализируем отношение общей цены и число комнат. Цена за квадратный метр в однокомнатной квартире будет больше, чем в квартире с 2 и больше комнатами.\n",
    "-  Цена зависит от удаленности от центра, однако не связь слабее, чем у цены и площади.\n",
    "-  Квартиры на первом этаже чаще дешевле."
   ]
  },
  {
   "cell_type": "markdown",
   "metadata": {},
   "source": [
    "Изучим время продажи квартир. Для начала посмотрим на количество дней, за которое квартира была продана"
   ]
  },
  {
   "cell_type": "code",
   "execution_count": 23,
   "metadata": {},
   "outputs": [
    {
     "data": {
      "text/plain": [
       "45    873\n",
       "60    538\n",
       "7     231\n",
       "30    204\n",
       "90    180\n",
       "4     174\n",
       "3     158\n",
       "5     148\n",
       "14    143\n",
       "9     138\n",
       "Name: days_exposition, dtype: Int64"
      ]
     },
     "execution_count": 23,
     "metadata": {},
     "output_type": "execute_result"
    }
   ],
   "source": [
    "# получение количества уникальных значений по дням для продажи квартиры, сортировка этих значений и вывод первых 10\n",
    "data['days_exposition'].value_counts().sort_values(ascending=False).head(10)"
   ]
  },
  {
   "cell_type": "markdown",
   "metadata": {},
   "source": [
    "Наиболее часто продают квартиры за 45 и 60 дней. Построим гистрограмму. Ограничим её значением в 600 дней (чуть менее 2 полных лет)"
   ]
  },
  {
   "cell_type": "code",
   "execution_count": 24,
   "metadata": {},
   "outputs": [
    {
     "data": {
      "text/plain": [
       "<AxesSubplot:ylabel='Frequency'>"
      ]
     },
     "execution_count": 24,
     "metadata": {},
     "output_type": "execute_result"
    },
    {
     "data": {
      "image/png": "[encoded data removed]",
      "text/plain": [
       "<Figure size 432x288 with 1 Axes>"
      ]
     },
     "metadata": {
      "needs_background": "light"
     },
     "output_type": "display_data"
    }
   ],
   "source": [
    "# строим гистограмму по количеству дней для продажи квартиры в таблице\n",
    "data['days_exposition'].plot(kind='hist', bins=50, xlim=(1, 600))"
   ]
  },
  {
   "cell_type": "code",
   "execution_count": 25,
   "metadata": {},
   "outputs": [
    {
     "name": "stdout",
     "output_type": "stream",
     "text": [
      "Среднее арифметическое количество дней для продажи квартир: 104.06\n",
      "Медиана количества дней для продажи квартир: 74.0\n"
     ]
    }
   ],
   "source": [
    "#рассчитываем среднее арифметическое и медиану для количества дней для продажи квартиры\n",
    "print(\"Среднее арифметическое количество дней для продажи квартир: {:.2f}\".format(data['days_exposition'].mean()))\n",
    "print(\"Медиана количества дней для продажи квартир:\", data['days_exposition'].median())"
   ]
  },
  {
   "cell_type": "markdown",
   "metadata": {},
   "source": [
    "Среднее арифметическое и медиана существенно отличаются друг от друга. Это говорит нам о том, что в выборке есть много крупных значений, то есть тех, кто очень долго продавал квартиру. Как видно на гистограмме, действительно, процесс этот часто оказывается очень длинным. У нас наблюдается ожидаемый пик в первом столбце, где представлены объявления, чьи квартиры не были проданы. Без него видно, что наиболее часто квартиры продают примерно до 100 дней, что и показывает нам наша медиана."
   ]
  },
  {
   "cell_type": "markdown",
   "metadata": {},
   "source": [
    "Факторы оторые больше всего влияют на общую (полную) стоимость объекта"
   ]
  },
  {
   "cell_type": "code",
   "execution_count": 26,
   "metadata": {},
   "outputs": [
    {
     "data": {
      "text/plain": [
       "<AxesSubplot:xlabel='last_price', ylabel='kitchen_area'>"
      ]
     },
     "execution_count": 26,
     "metadata": {},
     "output_type": "execute_result"
    },
    {
     "data": {
      "image/png": "[encoded data removed]",
      "text/plain": [
       "<Figure size 432x288 with 1 Axes>"
      ]
     },
     "metadata": {
      "needs_background": "light"
     },
     "output_type": "display_data"
    },
    {
     "data": {
      "image/png": "[encoded data removed]",
      "text/plain": [
       "<Figure size 432x288 with 1 Axes>"
      ]
     },
     "metadata": {
      "needs_background": "light"
     },
     "output_type": "display_data"
    },
    {
     "data": {
      "image/png": "[encoded data removed]",
      "text/plain": [
       "<Figure size 432x288 with 1 Axes>"
      ]
     },
     "metadata": {
      "needs_background": "light"
     },
     "output_type": "display_data"
    }
   ],
   "source": [
    "data.plot(x='last_price', y='total_area', kind='scatter', alpha=0.2)\n",
    "data.plot(x='last_price', y='living_area', kind='scatter', alpha=0.2)\n",
    "data.plot(x='last_price', y='kitchen_area', kind='scatter', alpha=0.2)"
   ]
  },
  {
   "cell_type": "code",
   "execution_count": 27,
   "metadata": {},
   "outputs": [
    {
     "data": {
      "image/png": "[encoded data removed]",
      "text/plain": [
       "<Figure size 432x288 with 1 Axes>"
      ]
     },
     "metadata": {
      "needs_background": "light"
     },
     "output_type": "display_data"
    }
   ],
   "source": [
    "data.pivot_table(index='rooms',values='last_price').plot(y='last_price', kind='bar');"
   ]
  },
  {
   "cell_type": "code",
   "execution_count": 28,
   "metadata": {},
   "outputs": [
    {
     "data": {
      "image/png": "[encoded data removed]",
      "text/plain": [
       "<Figure size 432x288 with 1 Axes>"
      ]
     },
     "metadata": {
      "needs_background": "light"
     },
     "output_type": "display_data"
    },
    {
     "data": {
      "image/png": "[encoded data removed]",
      "text/plain": [
       "<Figure size 432x288 with 1 Axes>"
      ]
     },
     "metadata": {
      "needs_background": "light"
     },
     "output_type": "display_data"
    },
    {
     "data": {
      "image/png": "[encoded data removed]",
      "text/plain": [
       "<Figure size 432x288 with 1 Axes>"
      ]
     },
     "metadata": {
      "needs_background": "light"
     },
     "output_type": "display_data"
    },
    {
     "data": {
      "image/png": "[encoded data removed]",
      "text/plain": [
       "<Figure size 432x288 with 1 Axes>"
      ]
     },
     "metadata": {
      "needs_background": "light"
     },
     "output_type": "display_data"
    }
   ],
   "source": [
    "data.pivot_table(index='month',values='last_price',aggfunc='mean').plot(y='last_price', kind='line', title='mean');\n",
    "data.pivot_table(index='month',values='last_price',aggfunc='median').plot(y='last_price', kind='line', title='median');\n",
    "\n",
    "data.pivot_table(index='year',values='last_price',aggfunc='mean').plot(y='last_price', kind='line', title='mean');\n",
    "data.pivot_table(index='year',values='last_price',aggfunc='median').plot(y='last_price', kind='line', title='median');"
   ]
  },
  {
   "cell_type": "markdown",
   "metadata": {},
   "source": [
    "Цена зависит от:\n",
    "\n",
    "-  общей площади;\n",
    "-  жилой площади;\n",
    "-  площади кухни;\n",
    "-  количества комнат.\n",
    "\n",
    "Цена практически на зависит от:\n",
    "\n",
    "-  даты размещения."
   ]
  },
  {
   "cell_type": "code",
   "execution_count": 29,
   "metadata": {},
   "outputs": [
    {
     "data": {
      "text/html": [
       "<div>\n",
       "<style scoped>\n",
       "    .dataframe tbody tr th:only-of-type {\n",
       "        vertical-align: middle;\n",
       "    }\n",
       "\n",
       "    .dataframe tbody tr th {\n",
       "        vertical-align: top;\n",
       "    }\n",
       "\n",
       "    .dataframe thead tr th {\n",
       "        text-align: left;\n",
       "    }\n",
       "\n",
       "    .dataframe thead tr:last-of-type th {\n",
       "        text-align: right;\n",
       "    }\n",
       "</style>\n",
       "<table border=\"1\" class=\"dataframe\">\n",
       "  <thead>\n",
       "    <tr>\n",
       "      <th></th>\n",
       "      <th>count</th>\n",
       "      <th>mean</th>\n",
       "      <th>min</th>\n",
       "      <th>max</th>\n",
       "    </tr>\n",
       "    <tr>\n",
       "      <th></th>\n",
       "      <th>per_meter</th>\n",
       "      <th>per_meter</th>\n",
       "      <th>per_meter</th>\n",
       "      <th>per_meter</th>\n",
       "    </tr>\n",
       "    <tr>\n",
       "      <th>locality_name</th>\n",
       "      <th></th>\n",
       "      <th></th>\n",
       "      <th></th>\n",
       "      <th></th>\n",
       "    </tr>\n",
       "  </thead>\n",
       "  <tbody>\n",
       "    <tr>\n",
       "      <th>выборг</th>\n",
       "      <td>177</td>\n",
       "      <td>57.254237</td>\n",
       "      <td>19</td>\n",
       "      <td>93</td>\n",
       "    </tr>\n",
       "    <tr>\n",
       "      <th>гатчина</th>\n",
       "      <td>220</td>\n",
       "      <td>68.227273</td>\n",
       "      <td>11</td>\n",
       "      <td>106</td>\n",
       "    </tr>\n",
       "    <tr>\n",
       "      <th>всеволожск</th>\n",
       "      <td>285</td>\n",
       "      <td>69.217544</td>\n",
       "      <td>31</td>\n",
       "      <td>642</td>\n",
       "    </tr>\n",
       "    <tr>\n",
       "      <th>колпино</th>\n",
       "      <td>274</td>\n",
       "      <td>74.529197</td>\n",
       "      <td>48</td>\n",
       "      <td>125</td>\n",
       "    </tr>\n",
       "    <tr>\n",
       "      <th>поселок шушары</th>\n",
       "      <td>363</td>\n",
       "      <td>78.305785</td>\n",
       "      <td>48</td>\n",
       "      <td>148</td>\n",
       "    </tr>\n",
       "    <tr>\n",
       "      <th>поселок мурино</th>\n",
       "      <td>491</td>\n",
       "      <td>86.040733</td>\n",
       "      <td>50</td>\n",
       "      <td>140</td>\n",
       "    </tr>\n",
       "    <tr>\n",
       "      <th>поселок парголово</th>\n",
       "      <td>262</td>\n",
       "      <td>89.041985</td>\n",
       "      <td>48</td>\n",
       "      <td>138</td>\n",
       "    </tr>\n",
       "    <tr>\n",
       "      <th>деревня кудрово</th>\n",
       "      <td>259</td>\n",
       "      <td>92.768340</td>\n",
       "      <td>54</td>\n",
       "      <td>143</td>\n",
       "    </tr>\n",
       "    <tr>\n",
       "      <th>пушкин</th>\n",
       "      <td>257</td>\n",
       "      <td>101.540856</td>\n",
       "      <td>60</td>\n",
       "      <td>257</td>\n",
       "    </tr>\n",
       "    <tr>\n",
       "      <th>санкт-петербург</th>\n",
       "      <td>11249</td>\n",
       "      <td>108.715975</td>\n",
       "      <td>15</td>\n",
       "      <td>552</td>\n",
       "    </tr>\n",
       "  </tbody>\n",
       "</table>\n",
       "</div>"
      ],
      "text/plain": [
       "                      count        mean       min       max\n",
       "                  per_meter   per_meter per_meter per_meter\n",
       "locality_name                                              \n",
       "выборг                  177   57.254237        19        93\n",
       "гатчина                 220   68.227273        11       106\n",
       "всеволожск              285   69.217544        31       642\n",
       "колпино                 274   74.529197        48       125\n",
       "поселок шушары          363   78.305785        48       148\n",
       "поселок мурино          491   86.040733        50       140\n",
       "поселок парголово       262   89.041985        48       138\n",
       "деревня кудрово         259   92.768340        54       143\n",
       "пушкин                  257  101.540856        60       257\n",
       "санкт-петербург       11249  108.715975        15       552"
      ]
     },
     "execution_count": 29,
     "metadata": {},
     "output_type": "execute_result"
    }
   ],
   "source": [
    "# найдем населенные пункты с наибольшим числом объявлений\n",
    "data_pivot = data.pivot_table(index='locality_name', values='per_meter',\n",
    "                              aggfunc=['count', 'mean', 'min', 'max']\n",
    "                             ).sort_values(('count', 'per_meter'),ascending=False).head(10)\n",
    "data_pivot.sort_values(('mean', 'per_meter'))"
   ]
  },
  {
   "cell_type": "markdown",
   "metadata": {},
   "source": [
    "Как найти задание 4.3"
   ]
  },
  {
   "cell_type": "markdown",
   "metadata": {},
   "source": [
    "Среди населенных пунктов с большим количеством объявлений - Санкт-Петербург, Пушкин, Деревня Кудрово - пункты с самой дорогой ценой за квадратный метр и Выборг, Всеволожск, Гатчина - с самой дешевой."
   ]
  },
  {
   "cell_type": "code",
   "execution_count": 30,
   "metadata": {},
   "outputs": [
    {
     "data": {
      "image/png": "[encoded data removed]",
      "text/plain": [
       "<Figure size 432x288 with 1 Axes>"
      ]
     },
     "metadata": {
      "needs_background": "light"
     },
     "output_type": "display_data"
    }
   ],
   "source": [
    "data['kilo_to_center'] = (data['center_nearest'] / 1000).astype('Int64')\n",
    "\n",
    "# создадим новую таблицу с объявлениями в Питере\n",
    "piter_flats = data[data['locality_name'] == 'санкт-петербург']\n",
    "piter_flats = data[data['kilo_to_center'] < 27]\n",
    "\n",
    "# построим график зависимости цены от удаленности от центра\n",
    "piter_flats.groupby('kilo_to_center')['per_meter'].mean().plot()\n",
    "plt.title('Цена в зависимости от удаленности от центра')\n",
    "plt.xlabel('КМ до центра')\n",
    "plt.show()"
   ]
  },
  {
   "cell_type": "markdown",
   "metadata": {},
   "source": [
    "Определим границу, где график сильно меняется, — это и будет центральная зона. Цена квартир заметно снижается на 3 километре, подъем после 3 можно объяснить тем, что тут появляются особые квартиры с большей площадью, например, или с хорошим видом. Будем считать до 3 км - центр города."
   ]
  },
  {
   "cell_type": "markdown",
   "metadata": {},
   "source": [
    "### Общий вывод"
   ]
  },
  {
   "cell_type": "markdown",
   "metadata": {},
   "source": [
    "Чаще всего в объявлениях встречаются квартиры от 30 до 60 кв/м. Средняя цена находится в диапазоне от 2 500 000 до 5 000 000 млн руб. Квартиры чаще всего однокомнатные или двухкомнатные. Высота потолков в квартирах в среднем 2.7 метра. Среднее время продажи квартиры от 50 до 150 дней.\n",
    "\n",
    "Последняя цена квартиры напрямую зависит от количества комнат. Цена квартиры коррелирует с общей площадью квартиры, наиболее выгодная цена за квадратный метр у квартир с 3-5 комнатами. Чем дальше от центра находится квартира, тем меньше ее стоимость.\n",
    "\n",
    "Центральная часть Санкт-Петербурга. Квартиры, находящиеся на первых этажах обычно стоят дешевле. До 1 км до центра и в трех километрах от центра квартиры чуть дешевле всех остальных, расположенных в центральной части Питера. С каждым годом стоимость квадратного метра в центре Питера растет.\n",
    "\n",
    "Центр в сравнении с окраинами. Площадь квартир в центре Санкт-Петербурга в среднем больше средней площади по всему городу. Средняя цена объявлений во всем городе от 2 до 5.5 млн, тогда как в центре от 5 до 8 млн. Большинство объявлений в центре Питера - двухкомнатные и трехкомнатные квартиры, а по всему городу чаще всего выставляют однокомнатные. Высота потолков в центральной части Питера (3м) в среднем больше высоты потолков в остальном городе (2.5м)."
   ]
  },
  {
   "cell_type": "code",
   "execution_count": null,
   "metadata": {},
   "outputs": [],
   "source": []
  }
 ],
 "metadata": {
  "ExecuteTimeLog": [
   {
    "duration": 338,
    "start_time": "2022-11-09T08:53:15.782Z"
   },
   {
    "duration": 127,
    "start_time": "2022-11-09T08:53:38.888Z"
   },
   {
    "duration": 76,
    "start_time": "2022-11-09T08:54:07.198Z"
   },
   {
    "duration": 67,
    "start_time": "2022-11-09T08:54:32.726Z"
   },
   {
    "duration": 80,
    "start_time": "2022-11-09T08:54:52.880Z"
   },
   {
    "duration": 75,
    "start_time": "2022-11-09T08:55:01.620Z"
   },
   {
    "duration": 74,
    "start_time": "2022-11-09T08:55:11.802Z"
   },
   {
    "duration": 336,
    "start_time": "2022-11-09T08:55:16.992Z"
   },
   {
    "duration": 92,
    "start_time": "2022-11-09T08:55:31.199Z"
   },
   {
    "duration": 745,
    "start_time": "2022-11-10T08:28:22.974Z"
   },
   {
    "duration": 177,
    "start_time": "2022-11-10T08:28:48.667Z"
   },
   {
    "duration": 47,
    "start_time": "2022-11-11T10:12:05.568Z"
   },
   {
    "duration": 649,
    "start_time": "2022-11-11T10:12:09.060Z"
   },
   {
    "duration": 11,
    "start_time": "2022-11-11T10:12:11.819Z"
   },
   {
    "duration": 20,
    "start_time": "2022-11-11T10:14:50.633Z"
   },
   {
    "duration": 69,
    "start_time": "2022-11-11T10:22:43.119Z"
   },
   {
    "duration": 70,
    "start_time": "2022-11-11T10:22:58.737Z"
   },
   {
    "duration": 75,
    "start_time": "2022-11-11T10:23:13.721Z"
   },
   {
    "duration": 46,
    "start_time": "2022-11-11T10:24:33.591Z"
   },
   {
    "duration": 25,
    "start_time": "2022-11-11T10:24:55.342Z"
   },
   {
    "duration": 25,
    "start_time": "2022-11-11T10:25:12.647Z"
   },
   {
    "duration": 287,
    "start_time": "2022-11-11T10:25:56.761Z"
   },
   {
    "duration": 303,
    "start_time": "2022-11-11T10:29:06.032Z"
   },
   {
    "duration": 1133,
    "start_time": "2022-11-11T10:30:05.435Z"
   },
   {
    "duration": 1151,
    "start_time": "2022-11-11T10:30:25.362Z"
   },
   {
    "duration": 1161,
    "start_time": "2022-11-11T10:30:43.719Z"
   },
   {
    "duration": 22,
    "start_time": "2022-11-11T10:31:31.435Z"
   },
   {
    "duration": 334,
    "start_time": "2022-11-11T10:33:36.158Z"
   },
   {
    "duration": 24,
    "start_time": "2022-11-11T10:33:59.952Z"
   },
   {
    "duration": 22,
    "start_time": "2022-11-11T10:34:05.600Z"
   },
   {
    "duration": 11,
    "start_time": "2022-11-11T10:34:11.374Z"
   },
   {
    "duration": 20,
    "start_time": "2022-11-11T10:34:20.410Z"
   },
   {
    "duration": 19,
    "start_time": "2022-11-11T10:34:40.593Z"
   },
   {
    "duration": 24,
    "start_time": "2022-11-11T10:34:49.555Z"
   },
   {
    "duration": 1830,
    "start_time": "2022-11-11T10:35:40.507Z"
   },
   {
    "duration": 1091,
    "start_time": "2022-11-11T10:36:28.654Z"
   },
   {
    "duration": 1161,
    "start_time": "2022-11-11T10:36:51.156Z"
   },
   {
    "duration": 1150,
    "start_time": "2022-11-11T10:37:00.530Z"
   },
   {
    "duration": 24,
    "start_time": "2022-11-11T10:37:11.656Z"
   },
   {
    "duration": 28,
    "start_time": "2022-11-11T10:37:36.935Z"
   },
   {
    "duration": 19,
    "start_time": "2022-11-11T10:37:47.493Z"
   },
   {
    "duration": 28,
    "start_time": "2022-11-11T10:38:27.314Z"
   },
   {
    "duration": 29,
    "start_time": "2022-11-11T10:38:47.028Z"
   },
   {
    "duration": 189,
    "start_time": "2022-11-11T10:39:14.105Z"
   },
   {
    "duration": 31,
    "start_time": "2022-11-11T10:39:16.944Z"
   },
   {
    "duration": 26,
    "start_time": "2022-11-11T10:41:39.238Z"
   },
   {
    "duration": 25,
    "start_time": "2022-11-11T10:42:53.195Z"
   },
   {
    "duration": 326,
    "start_time": "2022-11-11T10:43:05.631Z"
   },
   {
    "duration": 34,
    "start_time": "2022-11-11T10:44:46.236Z"
   },
   {
    "duration": 17,
    "start_time": "2022-11-11T10:47:30.443Z"
   },
   {
    "duration": 15,
    "start_time": "2022-11-11T10:49:10.580Z"
   },
   {
    "duration": 175,
    "start_time": "2022-11-11T10:49:24.910Z"
   },
   {
    "duration": 14,
    "start_time": "2022-11-11T10:49:27.842Z"
   },
   {
    "duration": 14,
    "start_time": "2022-11-11T10:49:34.028Z"
   },
   {
    "duration": 18,
    "start_time": "2022-11-11T10:51:32.608Z"
   },
   {
    "duration": 281,
    "start_time": "2022-11-11T10:54:56.278Z"
   },
   {
    "duration": 8,
    "start_time": "2022-11-11T12:51:56.009Z"
   },
   {
    "duration": 419,
    "start_time": "2022-11-11T12:52:18.591Z"
   },
   {
    "duration": 405,
    "start_time": "2022-11-11T12:52:43.727Z"
   },
   {
    "duration": 512,
    "start_time": "2022-11-11T12:53:23.621Z"
   },
   {
    "duration": 188,
    "start_time": "2022-11-11T12:53:32.207Z"
   },
   {
    "duration": 191,
    "start_time": "2022-11-11T12:53:46.397Z"
   },
   {
    "duration": 187,
    "start_time": "2022-11-11T12:54:01.866Z"
   },
   {
    "duration": 274,
    "start_time": "2022-11-11T12:54:48.307Z"
   },
   {
    "duration": 84,
    "start_time": "2022-11-11T12:55:01.516Z"
   },
   {
    "duration": 343,
    "start_time": "2022-11-11T12:55:11.340Z"
   },
   {
    "duration": 357,
    "start_time": "2022-11-11T12:55:19.156Z"
   },
   {
    "duration": 293,
    "start_time": "2022-11-11T12:55:27.690Z"
   },
   {
    "duration": 335,
    "start_time": "2022-11-11T12:55:37.038Z"
   },
   {
    "duration": 307,
    "start_time": "2022-11-11T12:55:44.018Z"
   },
   {
    "duration": 314,
    "start_time": "2022-11-11T12:55:52.984Z"
   },
   {
    "duration": 304,
    "start_time": "2022-11-11T12:56:19.752Z"
   },
   {
    "duration": 315,
    "start_time": "2022-11-11T12:56:33.660Z"
   },
   {
    "duration": 876,
    "start_time": "2022-11-11T12:58:49.077Z"
   },
   {
    "duration": 452,
    "start_time": "2022-11-11T12:59:25.600Z"
   },
   {
    "duration": 319,
    "start_time": "2022-11-11T12:59:34.831Z"
   },
   {
    "duration": 672,
    "start_time": "2022-11-11T13:00:30.751Z"
   },
   {
    "duration": 296,
    "start_time": "2022-11-11T13:01:02.139Z"
   },
   {
    "duration": 661,
    "start_time": "2022-11-11T13:01:06.541Z"
   },
   {
    "duration": 654,
    "start_time": "2022-11-11T13:02:08.198Z"
   },
   {
    "duration": 165,
    "start_time": "2022-11-11T13:02:14.600Z"
   },
   {
    "duration": 635,
    "start_time": "2022-11-11T13:02:17.920Z"
   },
   {
    "duration": 845,
    "start_time": "2022-11-11T13:04:20.877Z"
   },
   {
    "duration": 1911,
    "start_time": "2022-11-11T13:09:17.829Z"
   },
   {
    "duration": 19,
    "start_time": "2022-11-11T13:11:41.859Z"
   },
   {
    "duration": 265,
    "start_time": "2022-11-11T13:11:45.119Z"
   },
   {
    "duration": 794,
    "start_time": "2022-11-11T13:11:47.335Z"
   },
   {
    "duration": 132,
    "start_time": "2022-11-11T13:12:43.192Z"
   },
   {
    "duration": 707,
    "start_time": "2022-11-11T13:12:54.370Z"
   },
   {
    "duration": 692,
    "start_time": "2022-11-11T13:21:34.416Z"
   },
   {
    "duration": 805,
    "start_time": "2022-11-11T13:21:47.449Z"
   },
   {
    "duration": 748,
    "start_time": "2022-11-11T13:22:03.684Z"
   },
   {
    "duration": 652,
    "start_time": "2022-11-11T13:22:15.588Z"
   },
   {
    "duration": 144,
    "start_time": "2022-11-11T13:22:51.729Z"
   },
   {
    "duration": 775,
    "start_time": "2022-11-11T13:22:55.880Z"
   },
   {
    "duration": 697,
    "start_time": "2022-11-11T13:23:15.071Z"
   },
   {
    "duration": 666,
    "start_time": "2022-11-11T13:23:46.463Z"
   },
   {
    "duration": 258,
    "start_time": "2022-11-11T13:23:50.188Z"
   },
   {
    "duration": 778,
    "start_time": "2022-11-11T14:21:39.981Z"
   },
   {
    "duration": 23,
    "start_time": "2022-11-11T14:21:40.760Z"
   },
   {
    "duration": 294,
    "start_time": "2022-11-11T14:21:40.785Z"
   },
   {
    "duration": 891,
    "start_time": "2022-11-11T14:21:41.081Z"
   },
   {
    "duration": 153,
    "start_time": "2022-11-11T14:21:41.973Z"
   },
   {
    "duration": 529,
    "start_time": "2022-11-12T08:29:32.677Z"
   },
   {
    "duration": 108,
    "start_time": "2022-11-12T08:29:41.022Z"
   },
   {
    "duration": 3,
    "start_time": "2022-11-12T08:33:24.708Z"
   },
   {
    "duration": 18,
    "start_time": "2022-11-12T08:33:27.049Z"
   },
   {
    "duration": 8,
    "start_time": "2022-11-12T08:33:31.123Z"
   },
   {
    "duration": 15,
    "start_time": "2022-11-12T08:34:26.385Z"
   },
   {
    "duration": 78,
    "start_time": "2022-11-12T08:39:46.361Z"
   },
   {
    "duration": 98,
    "start_time": "2022-11-12T08:41:26.072Z"
   },
   {
    "duration": 72,
    "start_time": "2022-11-12T08:41:27.527Z"
   },
   {
    "duration": 21,
    "start_time": "2022-11-12T08:46:49.184Z"
   },
   {
    "duration": 28,
    "start_time": "2022-11-12T08:49:10.837Z"
   },
   {
    "duration": 50,
    "start_time": "2022-11-12T09:06:51.774Z"
   },
   {
    "duration": 42,
    "start_time": "2022-11-12T09:07:04.292Z"
   },
   {
    "duration": 27,
    "start_time": "2022-11-12T09:07:53.759Z"
   },
   {
    "duration": 22,
    "start_time": "2022-11-12T09:08:00.605Z"
   },
   {
    "duration": 69,
    "start_time": "2022-11-12T09:10:19.755Z"
   },
   {
    "duration": 23,
    "start_time": "2022-11-12T09:11:34.512Z"
   },
   {
    "duration": 6,
    "start_time": "2022-11-12T09:14:13.030Z"
   },
   {
    "duration": 16,
    "start_time": "2022-11-12T09:14:13.439Z"
   },
   {
    "duration": 70,
    "start_time": "2022-11-12T09:14:13.919Z"
   },
   {
    "duration": 84,
    "start_time": "2022-11-12T09:14:20.704Z"
   },
   {
    "duration": 101,
    "start_time": "2022-11-12T09:14:21.851Z"
   },
   {
    "duration": 78,
    "start_time": "2022-11-12T09:14:23.644Z"
   },
   {
    "duration": 3,
    "start_time": "2022-11-12T09:14:48.572Z"
   },
   {
    "duration": 27,
    "start_time": "2022-11-12T09:14:49.857Z"
   },
   {
    "duration": 27,
    "start_time": "2022-11-12T09:14:52.486Z"
   },
   {
    "duration": 21,
    "start_time": "2022-11-12T09:14:53.163Z"
   },
   {
    "duration": 23,
    "start_time": "2022-11-12T09:14:53.758Z"
   },
   {
    "duration": 4,
    "start_time": "2022-11-12T09:14:56.991Z"
   },
   {
    "duration": 16,
    "start_time": "2022-11-12T09:14:57.428Z"
   },
   {
    "duration": 12,
    "start_time": "2022-11-12T09:15:20.010Z"
   },
   {
    "duration": 277,
    "start_time": "2022-11-12T09:15:22.924Z"
   },
   {
    "duration": 84,
    "start_time": "2022-11-12T09:18:31.749Z"
   },
   {
    "duration": 98,
    "start_time": "2022-11-12T09:18:34.501Z"
   },
   {
    "duration": 3,
    "start_time": "2022-11-12T09:18:39.739Z"
   },
   {
    "duration": 26,
    "start_time": "2022-11-12T09:18:41.479Z"
   },
   {
    "duration": 28,
    "start_time": "2022-11-12T09:18:45.606Z"
   },
   {
    "duration": 22,
    "start_time": "2022-11-12T09:18:47.181Z"
   },
   {
    "duration": 26,
    "start_time": "2022-11-12T09:18:49.103Z"
   },
   {
    "duration": 4,
    "start_time": "2022-11-12T09:18:52.607Z"
   },
   {
    "duration": 15,
    "start_time": "2022-11-12T09:18:53.735Z"
   },
   {
    "duration": 267,
    "start_time": "2022-11-12T09:21:08.290Z"
   },
   {
    "duration": 6,
    "start_time": "2022-11-12T09:21:21.519Z"
   },
   {
    "duration": 285,
    "start_time": "2022-11-12T09:21:23.083Z"
   },
   {
    "duration": 6,
    "start_time": "2022-11-12T09:21:33.232Z"
   },
   {
    "duration": 10,
    "start_time": "2022-11-12T09:21:43.509Z"
   },
   {
    "duration": 11,
    "start_time": "2022-11-12T09:21:51.085Z"
   },
   {
    "duration": 11,
    "start_time": "2022-11-12T09:21:58.917Z"
   },
   {
    "duration": 10,
    "start_time": "2022-11-12T09:22:13.587Z"
   },
   {
    "duration": 11,
    "start_time": "2022-11-12T09:22:30.077Z"
   },
   {
    "duration": 11,
    "start_time": "2022-11-12T09:23:05.520Z"
   },
   {
    "duration": 70,
    "start_time": "2022-11-12T09:23:26.619Z"
   },
   {
    "duration": 9,
    "start_time": "2022-11-12T09:23:31.317Z"
   },
   {
    "duration": 15,
    "start_time": "2022-11-12T09:23:37.139Z"
   },
   {
    "duration": 285,
    "start_time": "2022-11-12T09:24:56.286Z"
   },
   {
    "duration": 7,
    "start_time": "2022-11-12T09:27:24.793Z"
   },
   {
    "duration": 10,
    "start_time": "2022-11-12T09:28:09.690Z"
   },
   {
    "duration": 10,
    "start_time": "2022-11-12T09:28:31.438Z"
   },
   {
    "duration": 7,
    "start_time": "2022-11-12T09:29:03.367Z"
   },
   {
    "duration": 9,
    "start_time": "2022-11-12T09:29:09.049Z"
   },
   {
    "duration": 8,
    "start_time": "2022-11-12T09:29:18.089Z"
   },
   {
    "duration": 12,
    "start_time": "2022-11-12T09:29:26.325Z"
   },
   {
    "duration": 7,
    "start_time": "2022-11-12T09:29:51.254Z"
   },
   {
    "duration": 9,
    "start_time": "2022-11-12T09:30:02.224Z"
   },
   {
    "duration": 5,
    "start_time": "2022-11-12T09:30:22.507Z"
   },
   {
    "duration": 302,
    "start_time": "2022-11-12T09:30:24.287Z"
   },
   {
    "duration": 74,
    "start_time": "2022-11-12T09:32:08.424Z"
   },
   {
    "duration": 1197,
    "start_time": "2022-11-12T09:32:45.455Z"
   },
   {
    "duration": 995,
    "start_time": "2022-11-12T09:33:30.524Z"
   },
   {
    "duration": 1052,
    "start_time": "2022-11-12T09:33:44.690Z"
   },
   {
    "duration": 999,
    "start_time": "2022-11-12T09:33:53.236Z"
   },
   {
    "duration": 1073,
    "start_time": "2022-11-12T09:34:01.836Z"
   },
   {
    "duration": 23,
    "start_time": "2022-11-12T09:34:43.491Z"
   },
   {
    "duration": 39,
    "start_time": "2022-11-12T09:35:11.085Z"
   },
   {
    "duration": 961,
    "start_time": "2022-11-12T09:35:27.006Z"
   },
   {
    "duration": 1079,
    "start_time": "2022-11-12T09:35:35.715Z"
   },
   {
    "duration": 264,
    "start_time": "2022-11-12T09:35:58.046Z"
   },
   {
    "duration": 152,
    "start_time": "2022-11-12T09:36:21.848Z"
   },
   {
    "duration": 441,
    "start_time": "2022-11-12T09:36:34.260Z"
   },
   {
    "duration": 499,
    "start_time": "2022-11-12T09:36:45.087Z"
   },
   {
    "duration": 138,
    "start_time": "2022-11-12T09:36:55.301Z"
   },
   {
    "duration": 535,
    "start_time": "2022-11-12T10:21:22.383Z"
   },
   {
    "duration": 624,
    "start_time": "2022-11-12T10:53:50.414Z"
   },
   {
    "duration": 665,
    "start_time": "2022-11-12T10:54:04.512Z"
   },
   {
    "duration": 695,
    "start_time": "2022-11-12T10:54:23.801Z"
   },
   {
    "duration": 661,
    "start_time": "2022-11-12T10:54:32.501Z"
   },
   {
    "duration": 565,
    "start_time": "2022-11-12T10:54:51.009Z"
   },
   {
    "duration": 597,
    "start_time": "2022-11-12T10:55:07.568Z"
   },
   {
    "duration": 659,
    "start_time": "2022-11-12T10:55:21.927Z"
   },
   {
    "duration": 584,
    "start_time": "2022-11-12T10:55:26.804Z"
   },
   {
    "duration": 626,
    "start_time": "2022-11-12T10:55:50.581Z"
   },
   {
    "duration": 607,
    "start_time": "2022-11-12T10:56:00.700Z"
   },
   {
    "duration": 561,
    "start_time": "2022-11-12T10:57:15.619Z"
   },
   {
    "duration": 810,
    "start_time": "2022-11-12T10:59:31.402Z"
   },
   {
    "duration": 505,
    "start_time": "2022-11-12T10:59:36.147Z"
   },
   {
    "duration": 510,
    "start_time": "2022-11-12T11:00:40.733Z"
   },
   {
    "duration": 713,
    "start_time": "2022-11-12T11:01:10.157Z"
   },
   {
    "duration": 649,
    "start_time": "2022-11-12T11:01:29.348Z"
   },
   {
    "duration": 596,
    "start_time": "2022-11-12T11:01:53.101Z"
   },
   {
    "duration": 628,
    "start_time": "2022-11-12T11:02:00.907Z"
   },
   {
    "duration": 130,
    "start_time": "2022-11-12T11:02:17.418Z"
   },
   {
    "duration": 607,
    "start_time": "2022-11-12T11:02:19.349Z"
   },
   {
    "duration": 701,
    "start_time": "2022-11-12T11:04:39.453Z"
   },
   {
    "duration": 99,
    "start_time": "2022-11-12T11:05:28.560Z"
   },
   {
    "duration": 430,
    "start_time": "2022-11-12T11:05:46.685Z"
   },
   {
    "duration": 65,
    "start_time": "2022-11-12T11:06:20.873Z"
   },
   {
    "duration": 15,
    "start_time": "2022-11-12T11:06:59.644Z"
   },
   {
    "duration": 135,
    "start_time": "2022-11-12T11:07:10.857Z"
   },
   {
    "duration": 12,
    "start_time": "2022-11-12T11:08:33.906Z"
   },
   {
    "duration": 966,
    "start_time": "2022-11-12T11:08:38.136Z"
   },
   {
    "duration": 95,
    "start_time": "2022-11-12T11:09:05.789Z"
   },
   {
    "duration": 1206,
    "start_time": "2022-11-12T11:09:20.816Z"
   },
   {
    "duration": 74,
    "start_time": "2022-11-12T11:09:39.205Z"
   },
   {
    "duration": 87,
    "start_time": "2022-11-12T11:10:41.686Z"
   },
   {
    "duration": 115,
    "start_time": "2022-11-12T11:10:42.423Z"
   },
   {
    "duration": 3,
    "start_time": "2022-11-12T11:10:46.785Z"
   },
   {
    "duration": 26,
    "start_time": "2022-11-12T11:10:48.652Z"
   },
   {
    "duration": 29,
    "start_time": "2022-11-12T11:10:51.741Z"
   },
   {
    "duration": 27,
    "start_time": "2022-11-12T11:10:53.128Z"
   },
   {
    "duration": 26,
    "start_time": "2022-11-12T11:10:54.528Z"
   },
   {
    "duration": 5,
    "start_time": "2022-11-12T11:10:57.088Z"
   },
   {
    "duration": 17,
    "start_time": "2022-11-12T11:10:57.400Z"
   },
   {
    "duration": 8,
    "start_time": "2022-11-12T11:10:57.750Z"
   },
   {
    "duration": 272,
    "start_time": "2022-11-12T11:10:58.099Z"
   },
   {
    "duration": 1042,
    "start_time": "2022-11-12T11:11:00.292Z"
   },
   {
    "duration": 26,
    "start_time": "2022-11-12T11:11:02.134Z"
   },
   {
    "duration": 36,
    "start_time": "2022-11-12T11:11:05.196Z"
   },
   {
    "duration": 977,
    "start_time": "2022-11-12T11:11:07.360Z"
   },
   {
    "duration": 267,
    "start_time": "2022-11-12T11:11:10.337Z"
   },
   {
    "duration": 163,
    "start_time": "2022-11-12T11:11:12.784Z"
   },
   {
    "duration": 535,
    "start_time": "2022-11-12T11:11:14.607Z"
   },
   {
    "duration": 426,
    "start_time": "2022-11-12T11:11:15.492Z"
   },
   {
    "duration": 121,
    "start_time": "2022-11-12T11:11:17.566Z"
   },
   {
    "duration": 641,
    "start_time": "2022-11-12T11:11:21.315Z"
   },
   {
    "duration": 441,
    "start_time": "2022-11-12T11:11:26.421Z"
   },
   {
    "duration": 51,
    "start_time": "2022-11-12T11:11:29.903Z"
   },
   {
    "duration": 264,
    "start_time": "2022-11-12T11:11:32.603Z"
   },
   {
    "duration": 16,
    "start_time": "2022-11-12T11:11:36.005Z"
   },
   {
    "duration": 984,
    "start_time": "2022-11-12T11:11:37.641Z"
   },
   {
    "duration": 1165,
    "start_time": "2022-11-12T11:11:41.969Z"
   },
   {
    "duration": 526,
    "start_time": "2022-11-13T16:12:45.872Z"
   },
   {
    "duration": 119,
    "start_time": "2022-11-13T16:12:46.400Z"
   },
   {
    "duration": 4,
    "start_time": "2022-11-13T16:12:46.520Z"
   },
   {
    "duration": 29,
    "start_time": "2022-11-13T16:12:46.525Z"
   },
   {
    "duration": 28,
    "start_time": "2022-11-13T16:12:46.567Z"
   },
   {
    "duration": 23,
    "start_time": "2022-11-13T16:12:46.597Z"
   },
   {
    "duration": 26,
    "start_time": "2022-11-13T16:12:46.622Z"
   },
   {
    "duration": 12,
    "start_time": "2022-11-13T16:12:46.670Z"
   },
   {
    "duration": 27,
    "start_time": "2022-11-13T16:12:46.684Z"
   },
   {
    "duration": 8,
    "start_time": "2022-11-13T16:12:46.713Z"
   },
   {
    "duration": 321,
    "start_time": "2022-11-13T16:12:46.723Z"
   },
   {
    "duration": 1122,
    "start_time": "2022-11-13T16:12:47.046Z"
   },
   {
    "duration": 35,
    "start_time": "2022-11-13T16:12:48.170Z"
   },
   {
    "duration": 60,
    "start_time": "2022-11-13T16:12:48.209Z"
   },
   {
    "duration": 987,
    "start_time": "2022-11-13T16:12:48.271Z"
   },
   {
    "duration": 274,
    "start_time": "2022-11-13T16:12:49.267Z"
   },
   {
    "duration": 162,
    "start_time": "2022-11-13T16:12:49.542Z"
   },
   {
    "duration": 482,
    "start_time": "2022-11-13T16:12:49.706Z"
   },
   {
    "duration": 370,
    "start_time": "2022-11-13T16:12:50.190Z"
   },
   {
    "duration": 124,
    "start_time": "2022-11-13T16:12:50.562Z"
   },
   {
    "duration": 594,
    "start_time": "2022-11-13T16:12:50.688Z"
   },
   {
    "duration": 411,
    "start_time": "2022-11-13T16:12:51.284Z"
   },
   {
    "duration": 41,
    "start_time": "2022-11-13T16:12:51.697Z"
   },
   {
    "duration": 144,
    "start_time": "2022-11-13T16:12:51.740Z"
   },
   {
    "duration": 13,
    "start_time": "2022-11-13T16:12:51.885Z"
   },
   {
    "duration": 1013,
    "start_time": "2022-11-13T16:12:51.899Z"
   },
   {
    "duration": 1134,
    "start_time": "2022-11-13T16:12:52.914Z"
   },
   {
    "duration": 16,
    "start_time": "2022-11-13T16:14:10.941Z"
   },
   {
    "duration": 7,
    "start_time": "2022-11-13T16:14:24.821Z"
   },
   {
    "duration": 15,
    "start_time": "2022-11-13T16:15:00.187Z"
   },
   {
    "duration": 179,
    "start_time": "2022-11-13T16:15:03.590Z"
   },
   {
    "duration": 503,
    "start_time": "2022-11-13T16:15:15.900Z"
   },
   {
    "duration": 106,
    "start_time": "2022-11-13T16:15:16.405Z"
   },
   {
    "duration": 3,
    "start_time": "2022-11-13T16:15:16.512Z"
   },
   {
    "duration": 29,
    "start_time": "2022-11-13T16:15:16.516Z"
   },
   {
    "duration": 40,
    "start_time": "2022-11-13T16:15:16.547Z"
   },
   {
    "duration": 20,
    "start_time": "2022-11-13T16:15:16.589Z"
   },
   {
    "duration": 20,
    "start_time": "2022-11-13T16:15:16.611Z"
   },
   {
    "duration": 155,
    "start_time": "2022-11-13T16:15:16.632Z"
   },
   {
    "duration": 12,
    "start_time": "2022-11-13T16:15:16.789Z"
   },
   {
    "duration": 3,
    "start_time": "2022-11-13T16:15:16.803Z"
   },
   {
    "duration": 21,
    "start_time": "2022-11-13T16:15:16.807Z"
   },
   {
    "duration": 6,
    "start_time": "2022-11-13T16:15:16.830Z"
   },
   {
    "duration": 277,
    "start_time": "2022-11-13T16:15:16.837Z"
   },
   {
    "duration": 1138,
    "start_time": "2022-11-13T16:15:17.116Z"
   },
   {
    "duration": 28,
    "start_time": "2022-11-13T16:15:18.255Z"
   },
   {
    "duration": 35,
    "start_time": "2022-11-13T16:15:18.284Z"
   },
   {
    "duration": 981,
    "start_time": "2022-11-13T16:15:18.321Z"
   },
   {
    "duration": 273,
    "start_time": "2022-11-13T16:15:19.304Z"
   },
   {
    "duration": 165,
    "start_time": "2022-11-13T16:15:19.580Z"
   },
   {
    "duration": 508,
    "start_time": "2022-11-13T16:15:19.748Z"
   },
   {
    "duration": 385,
    "start_time": "2022-11-13T16:15:20.258Z"
   },
   {
    "duration": 128,
    "start_time": "2022-11-13T16:15:20.645Z"
   },
   {
    "duration": 573,
    "start_time": "2022-11-13T16:15:20.775Z"
   },
   {
    "duration": 434,
    "start_time": "2022-11-13T16:15:21.350Z"
   },
   {
    "duration": 39,
    "start_time": "2022-11-13T16:15:21.786Z"
   },
   {
    "duration": 143,
    "start_time": "2022-11-13T16:15:21.827Z"
   },
   {
    "duration": 12,
    "start_time": "2022-11-13T16:15:21.971Z"
   },
   {
    "duration": 1010,
    "start_time": "2022-11-13T16:15:21.985Z"
   },
   {
    "duration": 1134,
    "start_time": "2022-11-13T16:15:22.997Z"
   },
   {
    "duration": 7,
    "start_time": "2022-11-13T16:15:42.061Z"
   },
   {
    "duration": 52,
    "start_time": "2022-11-13T19:19:22.694Z"
   },
   {
    "duration": 611,
    "start_time": "2022-11-13T19:19:25.647Z"
   },
   {
    "duration": 2490,
    "start_time": "2022-11-13T19:19:28.411Z"
   },
   {
    "duration": 904,
    "start_time": "2022-11-13T19:30:52.668Z"
   },
   {
    "duration": 104,
    "start_time": "2022-11-13T19:30:56.402Z"
   },
   {
    "duration": 19,
    "start_time": "2022-11-13T19:30:58.000Z"
   },
   {
    "duration": 1126,
    "start_time": "2022-11-13T19:34:34.160Z"
   },
   {
    "duration": 1277,
    "start_time": "2022-11-13T19:35:30.952Z"
   },
   {
    "duration": 95,
    "start_time": "2022-11-13T19:36:43.729Z"
   },
   {
    "duration": 105,
    "start_time": "2022-11-13T19:36:45.525Z"
   },
   {
    "duration": 3,
    "start_time": "2022-11-13T19:36:51.414Z"
   },
   {
    "duration": 20,
    "start_time": "2022-11-13T19:37:04.544Z"
   },
   {
    "duration": 5,
    "start_time": "2022-11-13T19:42:05.443Z"
   },
   {
    "duration": 5,
    "start_time": "2022-11-13T19:42:07.465Z"
   },
   {
    "duration": 6,
    "start_time": "2022-11-13T19:42:11.483Z"
   },
   {
    "duration": 6,
    "start_time": "2022-11-13T19:42:19.315Z"
   },
   {
    "duration": 7,
    "start_time": "2022-11-13T19:42:31.872Z"
   },
   {
    "duration": 6,
    "start_time": "2022-11-13T19:42:50.924Z"
   },
   {
    "duration": 7,
    "start_time": "2022-11-13T19:43:01.580Z"
   },
   {
    "duration": 6,
    "start_time": "2022-11-13T19:43:05.721Z"
   },
   {
    "duration": 7,
    "start_time": "2022-11-13T19:43:08.521Z"
   },
   {
    "duration": 5,
    "start_time": "2022-11-13T19:43:15.316Z"
   },
   {
    "duration": 10,
    "start_time": "2022-11-13T20:15:06.873Z"
   },
   {
    "duration": 10,
    "start_time": "2022-11-13T20:15:14.716Z"
   },
   {
    "duration": 10,
    "start_time": "2022-11-13T20:17:14.931Z"
   },
   {
    "duration": 528,
    "start_time": "2022-11-13T20:17:22.055Z"
   },
   {
    "duration": 8,
    "start_time": "2022-11-13T20:17:49.262Z"
   },
   {
    "duration": 6,
    "start_time": "2022-11-13T20:17:57.661Z"
   },
   {
    "duration": 5,
    "start_time": "2022-11-13T20:20:37.602Z"
   },
   {
    "duration": 967,
    "start_time": "2022-11-13T20:23:39.942Z"
   },
   {
    "duration": 501,
    "start_time": "2022-11-14T06:44:10.109Z"
   },
   {
    "duration": 98,
    "start_time": "2022-11-14T06:44:10.612Z"
   },
   {
    "duration": 2229,
    "start_time": "2022-11-14T06:44:10.711Z"
   },
   {
    "duration": 3,
    "start_time": "2022-11-14T06:44:12.942Z"
   },
   {
    "duration": 29,
    "start_time": "2022-11-14T06:44:12.947Z"
   },
   {
    "duration": 48,
    "start_time": "2022-11-14T06:44:12.978Z"
   },
   {
    "duration": 21,
    "start_time": "2022-11-14T06:44:13.028Z"
   },
   {
    "duration": 21,
    "start_time": "2022-11-14T06:44:13.051Z"
   },
   {
    "duration": 907,
    "start_time": "2022-11-14T06:44:13.074Z"
   },
   {
    "duration": 94,
    "start_time": "2022-11-14T06:44:13.984Z"
   },
   {
    "duration": 45,
    "start_time": "2022-11-14T06:44:14.080Z"
   },
   {
    "duration": 4,
    "start_time": "2022-11-14T06:44:14.127Z"
   },
   {
    "duration": 18,
    "start_time": "2022-11-14T06:44:14.133Z"
   },
   {
    "duration": 6,
    "start_time": "2022-11-14T06:44:14.152Z"
   },
   {
    "duration": 276,
    "start_time": "2022-11-14T06:44:14.159Z"
   },
   {
    "duration": 4,
    "start_time": "2022-11-14T06:44:14.437Z"
   },
   {
    "duration": 1013,
    "start_time": "2022-11-14T06:44:14.442Z"
   },
   {
    "duration": 273,
    "start_time": "2022-11-14T06:44:15.457Z"
   },
   {
    "duration": 159,
    "start_time": "2022-11-14T06:44:15.732Z"
   },
   {
    "duration": 434,
    "start_time": "2022-11-14T06:44:15.892Z"
   },
   {
    "duration": 554,
    "start_time": "2022-11-14T06:44:16.328Z"
   },
   {
    "duration": 124,
    "start_time": "2022-11-14T06:44:16.884Z"
   },
   {
    "duration": 596,
    "start_time": "2022-11-14T06:44:17.018Z"
   },
   {
    "duration": 8,
    "start_time": "2022-11-14T06:44:17.615Z"
   },
   {
    "duration": 197,
    "start_time": "2022-11-14T06:44:17.625Z"
   },
   {
    "duration": 5,
    "start_time": "2022-11-14T06:44:17.824Z"
   },
   {
    "duration": 44,
    "start_time": "2022-11-14T06:44:17.830Z"
   },
   {
    "duration": 177,
    "start_time": "2022-11-14T06:44:17.878Z"
   },
   {
    "duration": 14,
    "start_time": "2022-11-14T06:44:18.056Z"
   },
   {
    "duration": 960,
    "start_time": "2022-11-14T06:44:18.072Z"
   },
   {
    "duration": 1180,
    "start_time": "2022-11-14T06:44:19.035Z"
   },
   {
    "duration": 14,
    "start_time": "2022-11-14T06:44:41.374Z"
   },
   {
    "duration": 454,
    "start_time": "2022-11-14T06:46:03.977Z"
   },
   {
    "duration": 104,
    "start_time": "2022-11-14T06:46:04.433Z"
   },
   {
    "duration": 2369,
    "start_time": "2022-11-14T06:46:04.538Z"
   },
   {
    "duration": 9,
    "start_time": "2022-11-14T06:46:06.910Z"
   },
   {
    "duration": 30,
    "start_time": "2022-11-14T06:46:06.921Z"
   },
   {
    "duration": 28,
    "start_time": "2022-11-14T06:46:06.952Z"
   },
   {
    "duration": 47,
    "start_time": "2022-11-14T06:46:06.982Z"
   },
   {
    "duration": 25,
    "start_time": "2022-11-14T06:46:07.031Z"
   },
   {
    "duration": 910,
    "start_time": "2022-11-14T06:46:07.058Z"
   },
   {
    "duration": 101,
    "start_time": "2022-11-14T06:46:07.972Z"
   },
   {
    "duration": 49,
    "start_time": "2022-11-14T06:46:08.075Z"
   },
   {
    "duration": 17,
    "start_time": "2022-11-14T06:46:08.126Z"
   },
   {
    "duration": 5,
    "start_time": "2022-11-14T06:46:08.144Z"
   },
   {
    "duration": 19,
    "start_time": "2022-11-14T06:46:08.150Z"
   },
   {
    "duration": 7,
    "start_time": "2022-11-14T06:46:08.170Z"
   },
   {
    "duration": 301,
    "start_time": "2022-11-14T06:46:08.178Z"
   },
   {
    "duration": 4,
    "start_time": "2022-11-14T06:46:08.481Z"
   },
   {
    "duration": 973,
    "start_time": "2022-11-14T06:46:08.487Z"
   },
   {
    "duration": 291,
    "start_time": "2022-11-14T06:46:09.462Z"
   },
   {
    "duration": 166,
    "start_time": "2022-11-14T06:46:09.755Z"
   },
   {
    "duration": 373,
    "start_time": "2022-11-14T06:46:09.923Z"
   },
   {
    "duration": 505,
    "start_time": "2022-11-14T06:46:10.297Z"
   },
   {
    "duration": 121,
    "start_time": "2022-11-14T06:46:10.803Z"
   },
   {
    "duration": 569,
    "start_time": "2022-11-14T06:46:10.926Z"
   },
   {
    "duration": 10,
    "start_time": "2022-11-14T06:46:11.497Z"
   },
   {
    "duration": 180,
    "start_time": "2022-11-14T06:46:11.520Z"
   },
   {
    "duration": 4,
    "start_time": "2022-11-14T06:46:11.702Z"
   },
   {
    "duration": 39,
    "start_time": "2022-11-14T06:46:11.719Z"
   },
   {
    "duration": 150,
    "start_time": "2022-11-14T06:46:11.760Z"
   },
   {
    "duration": 19,
    "start_time": "2022-11-14T06:46:11.911Z"
   },
   {
    "duration": 922,
    "start_time": "2022-11-14T06:46:11.932Z"
   },
   {
    "duration": 1125,
    "start_time": "2022-11-14T06:46:12.856Z"
   },
   {
    "duration": 461,
    "start_time": "2022-11-14T06:46:19.067Z"
   },
   {
    "duration": 103,
    "start_time": "2022-11-14T06:46:19.530Z"
   },
   {
    "duration": 2250,
    "start_time": "2022-11-14T06:46:19.634Z"
   },
   {
    "duration": 3,
    "start_time": "2022-11-14T06:46:21.886Z"
   },
   {
    "duration": 45,
    "start_time": "2022-11-14T06:46:21.892Z"
   },
   {
    "duration": 29,
    "start_time": "2022-11-14T06:46:21.938Z"
   },
   {
    "duration": 28,
    "start_time": "2022-11-14T06:46:21.969Z"
   },
   {
    "duration": 44,
    "start_time": "2022-11-14T06:46:21.999Z"
   },
   {
    "duration": 842,
    "start_time": "2022-11-14T06:46:22.045Z"
   },
   {
    "duration": 19,
    "start_time": "2022-11-14T06:46:22.889Z"
   },
   {
    "duration": 38,
    "start_time": "2022-11-14T06:46:22.910Z"
   },
   {
    "duration": 215,
    "start_time": "2022-11-14T06:46:22.950Z"
   },
   {
    "duration": 5,
    "start_time": "2022-11-14T06:46:23.166Z"
   },
   {
    "duration": 22,
    "start_time": "2022-11-14T06:46:23.174Z"
   },
   {
    "duration": 15,
    "start_time": "2022-11-14T06:46:23.198Z"
   },
   {
    "duration": 268,
    "start_time": "2022-11-14T06:46:23.215Z"
   },
   {
    "duration": 4,
    "start_time": "2022-11-14T06:46:23.485Z"
   },
   {
    "duration": 978,
    "start_time": "2022-11-14T06:46:23.490Z"
   },
   {
    "duration": 277,
    "start_time": "2022-11-14T06:46:24.470Z"
   },
   {
    "duration": 178,
    "start_time": "2022-11-14T06:46:24.749Z"
   },
   {
    "duration": 394,
    "start_time": "2022-11-14T06:46:24.928Z"
   },
   {
    "duration": 484,
    "start_time": "2022-11-14T06:46:25.324Z"
   },
   {
    "duration": 113,
    "start_time": "2022-11-14T06:46:25.810Z"
   },
   {
    "duration": 648,
    "start_time": "2022-11-14T06:46:25.924Z"
   },
   {
    "duration": 8,
    "start_time": "2022-11-14T06:46:26.574Z"
   },
   {
    "duration": 193,
    "start_time": "2022-11-14T06:46:26.584Z"
   },
   {
    "duration": 6,
    "start_time": "2022-11-14T06:46:26.779Z"
   },
   {
    "duration": 57,
    "start_time": "2022-11-14T06:46:26.787Z"
   },
   {
    "duration": 148,
    "start_time": "2022-11-14T06:46:26.846Z"
   },
   {
    "duration": 23,
    "start_time": "2022-11-14T06:46:26.996Z"
   },
   {
    "duration": 914,
    "start_time": "2022-11-14T06:46:27.021Z"
   },
   {
    "duration": 1176,
    "start_time": "2022-11-14T06:46:27.936Z"
   },
   {
    "duration": 5,
    "start_time": "2022-11-14T06:46:41.873Z"
   },
   {
    "duration": 47,
    "start_time": "2022-11-14T16:24:30.181Z"
   },
   {
    "duration": 8,
    "start_time": "2022-11-14T16:24:33.202Z"
   },
   {
    "duration": 719,
    "start_time": "2022-11-14T16:24:54.054Z"
   },
   {
    "duration": 2213,
    "start_time": "2022-11-14T16:24:57.744Z"
   },
   {
    "duration": 1933,
    "start_time": "2022-11-14T16:25:04.158Z"
   },
   {
    "duration": 71,
    "start_time": "2022-11-14T16:58:41.897Z"
   },
   {
    "duration": 11,
    "start_time": "2022-11-14T17:01:07.494Z"
   },
   {
    "duration": 115,
    "start_time": "2022-11-14T17:01:26.192Z"
   },
   {
    "duration": 115,
    "start_time": "2022-11-14T17:01:26.516Z"
   },
   {
    "duration": 2102,
    "start_time": "2022-11-14T17:01:26.682Z"
   },
   {
    "duration": 4,
    "start_time": "2022-11-14T17:01:28.786Z"
   },
   {
    "duration": 43,
    "start_time": "2022-11-14T17:01:28.791Z"
   },
   {
    "duration": 25,
    "start_time": "2022-11-14T17:01:28.836Z"
   },
   {
    "duration": 22,
    "start_time": "2022-11-14T17:01:29.117Z"
   },
   {
    "duration": 22,
    "start_time": "2022-11-14T17:01:29.300Z"
   },
   {
    "duration": 835,
    "start_time": "2022-11-14T17:01:29.698Z"
   },
   {
    "duration": 20,
    "start_time": "2022-11-14T17:01:30.636Z"
   },
   {
    "duration": 32,
    "start_time": "2022-11-14T17:01:31.382Z"
   },
   {
    "duration": 7,
    "start_time": "2022-11-14T17:01:32.795Z"
   },
   {
    "duration": 15,
    "start_time": "2022-11-14T17:01:33.394Z"
   },
   {
    "duration": 6,
    "start_time": "2022-11-14T17:01:34.954Z"
   },
   {
    "duration": 248,
    "start_time": "2022-11-14T17:01:36.621Z"
   },
   {
    "duration": 4,
    "start_time": "2022-11-14T17:02:05.997Z"
   },
   {
    "duration": 1058,
    "start_time": "2022-11-14T17:02:10.655Z"
   },
   {
    "duration": 1883,
    "start_time": "2022-11-14T17:04:26.188Z"
   },
   {
    "duration": 1466,
    "start_time": "2022-11-14T17:05:10.541Z"
   },
   {
    "duration": 1653,
    "start_time": "2022-11-14T17:06:13.203Z"
   },
   {
    "duration": 1624,
    "start_time": "2022-11-14T17:06:20.030Z"
   },
   {
    "duration": 2022,
    "start_time": "2022-11-14T17:06:36.026Z"
   },
   {
    "duration": 2096,
    "start_time": "2022-11-14T17:06:52.668Z"
   },
   {
    "duration": 187,
    "start_time": "2022-11-14T17:17:49.175Z"
   },
   {
    "duration": 8,
    "start_time": "2022-11-14T17:25:04.556Z"
   },
   {
    "duration": 672,
    "start_time": "2022-11-14T17:25:08.967Z"
   },
   {
    "duration": 699,
    "start_time": "2022-11-14T17:25:27.693Z"
   },
   {
    "duration": 11,
    "start_time": "2022-11-14T17:25:36.345Z"
   },
   {
    "duration": 646,
    "start_time": "2022-11-14T17:26:00.276Z"
   },
   {
    "duration": 147,
    "start_time": "2022-11-14T17:26:16.168Z"
   },
   {
    "duration": 17,
    "start_time": "2022-11-14T17:26:39.302Z"
   },
   {
    "duration": 573,
    "start_time": "2022-11-14T17:26:54.012Z"
   },
   {
    "duration": 1038,
    "start_time": "2022-11-15T10:25:40.593Z"
   },
   {
    "duration": 2373,
    "start_time": "2022-11-15T10:32:47.333Z"
   },
   {
    "duration": 2412,
    "start_time": "2022-11-15T10:34:42.596Z"
   },
   {
    "duration": 24,
    "start_time": "2022-11-15T10:35:11.695Z"
   },
   {
    "duration": 2198,
    "start_time": "2022-11-15T10:35:15.334Z"
   },
   {
    "duration": 2463,
    "start_time": "2022-11-15T10:35:42.780Z"
   },
   {
    "duration": 964,
    "start_time": "2022-11-15T10:36:02.935Z"
   },
   {
    "duration": 91,
    "start_time": "2022-11-15T10:36:09.566Z"
   },
   {
    "duration": 117,
    "start_time": "2022-11-15T10:36:10.031Z"
   },
   {
    "duration": 2036,
    "start_time": "2022-11-15T10:36:10.312Z"
   },
   {
    "duration": 4,
    "start_time": "2022-11-15T10:36:12.350Z"
   },
   {
    "duration": 146,
    "start_time": "2022-11-15T10:36:12.356Z"
   },
   {
    "duration": 35,
    "start_time": "2022-11-15T10:36:13.116Z"
   },
   {
    "duration": 26,
    "start_time": "2022-11-15T10:36:13.526Z"
   },
   {
    "duration": 26,
    "start_time": "2022-11-15T10:36:13.724Z"
   },
   {
    "duration": 933,
    "start_time": "2022-11-15T10:36:14.277Z"
   },
   {
    "duration": 21,
    "start_time": "2022-11-15T10:36:16.096Z"
   },
   {
    "duration": 41,
    "start_time": "2022-11-15T10:36:16.974Z"
   },
   {
    "duration": 6,
    "start_time": "2022-11-15T10:36:19.162Z"
   },
   {
    "duration": 17,
    "start_time": "2022-11-15T10:36:19.694Z"
   },
   {
    "duration": 7,
    "start_time": "2022-11-15T10:36:20.194Z"
   },
   {
    "duration": 305,
    "start_time": "2022-11-15T10:36:20.993Z"
   },
   {
    "duration": 6,
    "start_time": "2022-11-15T10:36:21.305Z"
   },
   {
    "duration": 2310,
    "start_time": "2022-11-15T10:36:23.193Z"
   },
   {
    "duration": 1663,
    "start_time": "2022-11-15T10:37:08.015Z"
   },
   {
    "duration": 2008,
    "start_time": "2022-11-15T10:37:32.556Z"
   },
   {
    "duration": 1571,
    "start_time": "2022-11-15T10:40:12.647Z"
   },
   {
    "duration": 1733,
    "start_time": "2022-11-15T10:42:05.445Z"
   },
   {
    "duration": 1776,
    "start_time": "2022-11-15T10:47:07.927Z"
   },
   {
    "duration": 323,
    "start_time": "2022-11-15T10:47:27.112Z"
   },
   {
    "duration": 1801,
    "start_time": "2022-11-15T10:47:31.745Z"
   },
   {
    "duration": 2792,
    "start_time": "2022-11-15T10:48:19.366Z"
   },
   {
    "duration": 1279,
    "start_time": "2022-11-15T10:48:44.494Z"
   },
   {
    "duration": 3046,
    "start_time": "2022-11-15T10:48:50.056Z"
   },
   {
    "duration": 2006,
    "start_time": "2022-11-15T10:51:21.661Z"
   },
   {
    "duration": 113,
    "start_time": "2022-11-15T10:52:22.583Z"
   },
   {
    "duration": 129,
    "start_time": "2022-11-15T10:52:26.771Z"
   },
   {
    "duration": 2315,
    "start_time": "2022-11-15T10:52:26.945Z"
   },
   {
    "duration": 19,
    "start_time": "2022-11-15T10:52:29.263Z"
   },
   {
    "duration": 44,
    "start_time": "2022-11-15T10:52:29.292Z"
   },
   {
    "duration": 55,
    "start_time": "2022-11-15T10:52:29.338Z"
   },
   {
    "duration": 244,
    "start_time": "2022-11-15T10:52:29.642Z"
   },
   {
    "duration": 29,
    "start_time": "2022-11-15T10:52:30.012Z"
   },
   {
    "duration": 1075,
    "start_time": "2022-11-15T10:52:30.626Z"
   },
   {
    "duration": 28,
    "start_time": "2022-11-15T10:52:31.703Z"
   },
   {
    "duration": 77,
    "start_time": "2022-11-15T10:52:31.733Z"
   },
   {
    "duration": 8,
    "start_time": "2022-11-15T10:52:33.092Z"
   },
   {
    "duration": 21,
    "start_time": "2022-11-15T10:52:33.337Z"
   },
   {
    "duration": 10,
    "start_time": "2022-11-15T10:52:33.527Z"
   },
   {
    "duration": 299,
    "start_time": "2022-11-15T10:52:38.423Z"
   },
   {
    "duration": 7,
    "start_time": "2022-11-15T10:52:39.310Z"
   },
   {
    "duration": 4016,
    "start_time": "2022-11-15T10:52:43.714Z"
   },
   {
    "duration": 5059,
    "start_time": "2022-11-15T10:53:59.123Z"
   },
   {
    "duration": 688,
    "start_time": "2022-11-15T14:19:34.554Z"
   },
   {
    "duration": 101,
    "start_time": "2022-11-15T14:19:35.243Z"
   },
   {
    "duration": 2100,
    "start_time": "2022-11-15T14:19:35.345Z"
   },
   {
    "duration": 3,
    "start_time": "2022-11-15T14:19:37.447Z"
   },
   {
    "duration": 30,
    "start_time": "2022-11-15T14:19:37.452Z"
   },
   {
    "duration": 28,
    "start_time": "2022-11-15T14:19:37.483Z"
   },
   {
    "duration": 29,
    "start_time": "2022-11-15T14:19:37.512Z"
   },
   {
    "duration": 23,
    "start_time": "2022-11-15T14:19:37.543Z"
   },
   {
    "duration": 822,
    "start_time": "2022-11-15T14:19:37.568Z"
   },
   {
    "duration": 99,
    "start_time": "2022-11-15T14:19:38.393Z"
   },
   {
    "duration": 37,
    "start_time": "2022-11-15T14:19:38.494Z"
   },
   {
    "duration": 5,
    "start_time": "2022-11-15T14:19:38.532Z"
   },
   {
    "duration": 20,
    "start_time": "2022-11-15T14:19:38.538Z"
   },
   {
    "duration": 5,
    "start_time": "2022-11-15T14:19:38.560Z"
   },
   {
    "duration": 251,
    "start_time": "2022-11-15T14:19:38.567Z"
   },
   {
    "duration": 6,
    "start_time": "2022-11-15T14:19:38.820Z"
   },
   {
    "duration": 2611,
    "start_time": "2022-11-15T14:19:38.827Z"
   },
   {
    "duration": 267,
    "start_time": "2022-11-15T14:19:41.440Z"
   },
   {
    "duration": 150,
    "start_time": "2022-11-15T14:19:41.708Z"
   },
   {
    "duration": 373,
    "start_time": "2022-11-15T14:19:41.860Z"
   },
   {
    "duration": 111,
    "start_time": "2022-11-15T14:19:42.234Z"
   },
   {
    "duration": 747,
    "start_time": "2022-11-15T14:19:42.346Z"
   },
   {
    "duration": 7,
    "start_time": "2022-11-15T14:19:43.095Z"
   },
   {
    "duration": 169,
    "start_time": "2022-11-15T14:19:43.103Z"
   },
   {
    "duration": 4,
    "start_time": "2022-11-15T14:19:43.274Z"
   },
   {
    "duration": 509,
    "start_time": "2022-11-15T14:19:43.279Z"
   },
   {
    "duration": 146,
    "start_time": "2022-11-15T14:19:43.790Z"
   },
   {
    "duration": 510,
    "start_time": "2022-11-15T14:19:43.939Z"
   },
   {
    "duration": 36,
    "start_time": "2022-11-15T14:19:44.450Z"
   },
   {
    "duration": 138,
    "start_time": "2022-11-15T14:19:44.488Z"
   }
  ],
  "kernelspec": {
   "display_name": "Python 3 (ipykernel)",
   "language": "python",
   "name": "python3"
  },
  "language_info": {
   "codemirror_mode": {
    "name": "ipython",
    "version": 3
   },
   "file_extension": ".py",
   "mimetype": "text/x-python",
   "name": "python",
   "nbconvert_exporter": "python",
   "pygments_lexer": "ipython3",
   "version": "3.9.5"
  },
  "toc": {
   "base_numbering": 1,
   "nav_menu": {},
   "number_sections": true,
   "sideBar": true,
   "skip_h1_title": true,
   "title_cell": "Table of Contents",
   "title_sidebar": "Contents",
   "toc_cell": false,
   "toc_position": {},
   "toc_section_display": true,
   "toc_window_display": false
  }
 },
 "nbformat": 4,
 "nbformat_minor": 2
}
