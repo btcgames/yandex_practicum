{
 "cells": [
  {
   "cell_type": "markdown",
   "metadata": {
    "toc": true
   },
   "source": [
    "<h1>Содержание<span class=\"tocSkip\"></span></h1>\n",
    "<div class=\"toc\"><ul class=\"toc-item\"><li><span><a href=\"#Подготовка-данных\" data-toc-modified-id=\"Подготовка-данных-1\"><span class=\"toc-item-num\">1&nbsp;&nbsp;</span>Подготовка данных</a></span></li><li><span><a href=\"#Анализ-данных\" data-toc-modified-id=\"Анализ-данных-2\"><span class=\"toc-item-num\">2&nbsp;&nbsp;</span>Анализ данных</a></span></li><li><span><a href=\"#Модель\" data-toc-modified-id=\"Модель-3\"><span class=\"toc-item-num\">3&nbsp;&nbsp;</span>Модель</a></span></li><li><span><a href=\"#Чек-лист-готовности-проекта\" data-toc-modified-id=\"Чек-лист-готовности-проекта-4\"><span class=\"toc-item-num\">4&nbsp;&nbsp;</span>Чек-лист готовности проекта</a></span></li></ul></div>"
   ]
  },
  {
   "cell_type": "markdown",
   "metadata": {},
   "source": [
    "# Восстановление золота из руды"
   ]
  },
  {
   "cell_type": "markdown",
   "metadata": {},
   "source": [
    "Подготовьте прототип модели машинного обучения для «Цифры». Компания разрабатывает решения для эффективной работы промышленных предприятий.\n",
    "\n",
    "Модель должна предсказать коэффициент восстановления золота из золотосодержащей руды. Используйте данные с параметрами добычи и очистки. \n",
    "\n",
    "Модель поможет оптимизировать производство, чтобы не запускать предприятие с убыточными характеристиками.\n",
    "\n",
    "Вам нужно:\n",
    "\n",
    "1. Подготовить данные;\n",
    "2. Провести исследовательский анализ данных;\n",
    "3. Построить и обучить модель.\n",
    "\n",
    "Чтобы выполнить проект, обращайтесь к библиотекам *pandas*, *matplotlib* и *sklearn.* Вам поможет их документация."
   ]
  },
  {
   "cell_type": "markdown",
   "metadata": {},
   "source": [
    "## Подготовка данных"
   ]
  },
  {
   "cell_type": "code",
   "execution_count": 51,
   "metadata": {},
   "outputs": [],
   "source": [
    "import warnings\n",
    "\n",
    "import matplotlib.pyplot as plt\n",
    "import numpy as np\n",
    "import pandas as pd\n",
    "\n",
    "from scipy.stats import randint, uniform\n",
    "from sklearn.metrics import make_scorer\n",
    "from sklearn.metrics import mean_absolute_error\n",
    "\n",
    "from sklearn.dummy import DummyRegressor\n",
    "from sklearn.ensemble import RandomForestRegressor\n",
    "from sklearn.linear_model import LinearRegression\n",
    "from sklearn.tree import DecisionTreeRegressor\n",
    "\n",
    "\n",
    "from sklearn.model_selection import cross_val_score\n",
    "from sklearn.model_selection import GridSearchCV \n",
    "from sklearn.model_selection import RandomizedSearchCV\n",
    "from sklearn.model_selection import StratifiedKFold"
   ]
  },
  {
   "cell_type": "code",
   "execution_count": 52,
   "metadata": {},
   "outputs": [],
   "source": [
    "gold_recovery_train_new = pd.read_csv('/datasets/gold_recovery_train_new.csv')\n",
    "gold_recovery_test_new = pd.read_csv('/datasets/gold_recovery_test_new.csv')\n",
    "gold_recovery_full_new = pd.read_csv('/datasets/gold_recovery_full_new.csv')"
   ]
  },
  {
   "cell_type": "markdown",
   "metadata": {},
   "source": [
    "Эффективность обогащения"
   ]
  },
  {
   "cell_type": "code",
   "execution_count": 53,
   "metadata": {},
   "outputs": [],
   "source": [
    "c = gold_recovery_train_new['rougher.output.concentrate_au']\n",
    "f = gold_recovery_train_new['rougher.input.feed_au']\n",
    "t = gold_recovery_train_new['rougher.output.tail_au']\n",
    "recovery = (c*(f-t))/(f*(c-t))*100\n",
    "\n",
    "recovery_df = gold_recovery_train_new['rougher.output.recovery']"
   ]
  },
  {
   "cell_type": "code",
   "execution_count": 54,
   "metadata": {},
   "outputs": [
    {
     "data": {
      "text/plain": [
       "0    87.107763\n",
       "1    86.843261\n",
       "2    86.842308\n",
       "3    87.226430\n",
       "4    86.688794\n",
       "dtype: float64"
      ]
     },
     "execution_count": 54,
     "metadata": {},
     "output_type": "execute_result"
    }
   ],
   "source": [
    "recovery.head()"
   ]
  },
  {
   "cell_type": "code",
   "execution_count": 55,
   "metadata": {},
   "outputs": [
    {
     "data": {
      "text/plain": [
       "0    87.107763\n",
       "1    86.843261\n",
       "2    86.842308\n",
       "3    87.226430\n",
       "4    86.688794\n",
       "Name: rougher.output.recovery, dtype: float64"
      ]
     },
     "execution_count": 55,
     "metadata": {},
     "output_type": "execute_result"
    }
   ],
   "source": [
    "recovery_df.head()"
   ]
  },
  {
   "cell_type": "code",
   "execution_count": 56,
   "metadata": {},
   "outputs": [
    {
     "name": "stdout",
     "output_type": "stream",
     "text": [
      "Разница 1 1.4210854715202004e-14\n",
      "Разница 2 1.4210854715202004e-14\n",
      "Разница 5 1.4210854715202004e-14\n",
      "Разница 6 -1.4210854715202004e-14\n",
      "Разница 8 1.4210854715202004e-14\n",
      "Разница 9 1.4210854715202004e-14\n"
     ]
    }
   ],
   "source": [
    "for i in range(10):\n",
    "    if recovery[i] !=  recovery_df[i]:\n",
    "        print('Разница',i,recovery[i]-recovery_df[i])"
   ]
  },
  {
   "cell_type": "code",
   "execution_count": 57,
   "metadata": {},
   "outputs": [
    {
     "name": "stdout",
     "output_type": "stream",
     "text": [
      "MAE:9.73512347450521e-15\n"
     ]
    }
   ],
   "source": [
    "print(f'MAE:{mean_absolute_error(recovery,recovery_df)}')"
   ]
  },
  {
   "cell_type": "markdown",
   "metadata": {},
   "source": [
    "Погрешность крайне мала. Похоже на ошибку расчета, округление и так далее."
   ]
  },
  {
   "cell_type": "markdown",
   "metadata": {},
   "source": [
    "Признаки, недоступные в тестовой выборке"
   ]
  },
  {
   "cell_type": "code",
   "execution_count": 58,
   "metadata": {
    "scrolled": true
   },
   "outputs": [
    {
     "name": "stdout",
     "output_type": "stream",
     "text": [
      "final.output.concentrate_ag\n",
      "final.output.concentrate_pb\n",
      "final.output.concentrate_sol\n",
      "final.output.concentrate_au\n",
      "final.output.recovery\n",
      "final.output.tail_ag\n",
      "final.output.tail_pb\n",
      "final.output.tail_sol\n",
      "final.output.tail_au\n",
      "primary_cleaner.output.concentrate_ag\n",
      "primary_cleaner.output.concentrate_pb\n",
      "primary_cleaner.output.concentrate_sol\n",
      "primary_cleaner.output.concentrate_au\n",
      "primary_cleaner.output.tail_ag\n",
      "primary_cleaner.output.tail_pb\n",
      "primary_cleaner.output.tail_sol\n",
      "primary_cleaner.output.tail_au\n",
      "rougher.calculation.sulfate_to_au_concentrate\n",
      "rougher.calculation.floatbank10_sulfate_to_au_feed\n",
      "rougher.calculation.floatbank11_sulfate_to_au_feed\n",
      "rougher.calculation.au_pb_ratio\n",
      "rougher.output.concentrate_ag\n",
      "rougher.output.concentrate_pb\n",
      "rougher.output.concentrate_sol\n",
      "rougher.output.concentrate_au\n",
      "rougher.output.recovery\n",
      "rougher.output.tail_ag\n",
      "rougher.output.tail_pb\n",
      "rougher.output.tail_sol\n",
      "rougher.output.tail_au\n",
      "secondary_cleaner.output.tail_ag\n",
      "secondary_cleaner.output.tail_pb\n",
      "secondary_cleaner.output.tail_sol\n",
      "secondary_cleaner.output.tail_au\n",
      "\n",
      "Количество 34\n"
     ]
    }
   ],
   "source": [
    "test_columns = gold_recovery_test_new.columns\n",
    "full_columns = gold_recovery_full_new.columns\n",
    "count = 0\n",
    "for i in range(len(full_columns)):\n",
    "    if full_columns[i] not in test_columns:\n",
    "        print(full_columns[i])\n",
    "        count += 1\n",
    "        \n",
    "print('\\nКоличество',count)"
   ]
  },
  {
   "cell_type": "code",
   "execution_count": 59,
   "metadata": {},
   "outputs": [
    {
     "data": {
      "text/plain": [
       "Index(['final.output.concentrate_ag', 'final.output.concentrate_au',\n",
       "       'final.output.concentrate_pb', 'final.output.concentrate_sol',\n",
       "       'final.output.recovery', 'final.output.tail_ag', 'final.output.tail_au',\n",
       "       'final.output.tail_pb', 'final.output.tail_sol',\n",
       "       'primary_cleaner.output.concentrate_ag',\n",
       "       'primary_cleaner.output.concentrate_au',\n",
       "       'primary_cleaner.output.concentrate_pb',\n",
       "       'primary_cleaner.output.concentrate_sol',\n",
       "       'primary_cleaner.output.tail_ag', 'primary_cleaner.output.tail_au',\n",
       "       'primary_cleaner.output.tail_pb', 'primary_cleaner.output.tail_sol',\n",
       "       'rougher.calculation.au_pb_ratio',\n",
       "       'rougher.calculation.floatbank10_sulfate_to_au_feed',\n",
       "       'rougher.calculation.floatbank11_sulfate_to_au_feed',\n",
       "       'rougher.calculation.sulfate_to_au_concentrate',\n",
       "       'rougher.output.concentrate_ag', 'rougher.output.concentrate_au',\n",
       "       'rougher.output.concentrate_pb', 'rougher.output.concentrate_sol',\n",
       "       'rougher.output.recovery', 'rougher.output.tail_ag',\n",
       "       'rougher.output.tail_au', 'rougher.output.tail_pb',\n",
       "       'rougher.output.tail_sol', 'secondary_cleaner.output.tail_ag',\n",
       "       'secondary_cleaner.output.tail_au', 'secondary_cleaner.output.tail_pb',\n",
       "       'secondary_cleaner.output.tail_sol'],\n",
       "      dtype='object')"
      ]
     },
     "execution_count": 59,
     "metadata": {},
     "output_type": "execute_result"
    }
   ],
   "source": [
    "gold_recovery_train_new.columns.difference(gold_recovery_test_new.columns)"
   ]
  },
  {
   "cell_type": "markdown",
   "metadata": {},
   "source": [
    "- rougher - этап флотации\n",
    "- calculation - вычисления\n",
    "- sulfate_to_au_concentrate\n",
    "- floatbank10_sulfate_to_au_feed\n",
    "- floatbank11_sulfate_to_au_feed\n",
    "- au_pb_ratio\n",
    "- output\n",
    "- recovery - эффективность обогащения чернового концетрата\n",
    "- concentrate_.. (ag, pb, sol, au)\n",
    "- tail_.. (ag, pb, sol, au)\n",
    "- primary_cleaner - первый этап очистки\n",
    "- output - параметры продукта\n",
    "- concentrate_.. - все концетраты (ag, pb, sol, au)\n",
    "- tail_.. - все концетрации в отвальных хвостах (ag, pb, sol, au)\n",
    "- secondary_cleaner - второй этап очистки\n",
    "- output - параметры продукта\n",
    "- tail_.. (ag, pb, sol, au)\n",
    "- final - финальный концетрат\n",
    "- output - параметры продукта\n",
    "- recovery - эффективность обогащения финального концетрата\n",
    "- concentrate_.. (ag, pb, sol, au)\n",
    "- tail_.. (ag, pb, sol, au)"
   ]
  },
  {
   "cell_type": "markdown",
   "metadata": {},
   "source": [
    "Предобработка данных"
   ]
  },
  {
   "cell_type": "code",
   "execution_count": 60,
   "metadata": {},
   "outputs": [],
   "source": [
    "df_train = gold_recovery_train_new.copy()\n",
    "\n",
    "columns_for_train_df = gold_recovery_test_new.columns\n",
    "columns_for_train_df = columns_for_train_df.union(['rougher.output.recovery','final.output.recovery'])"
   ]
  },
  {
   "cell_type": "markdown",
   "metadata": {},
   "source": [
    "Проверим сколько NAN в обучающей выборке"
   ]
  },
  {
   "cell_type": "code",
   "execution_count": 61,
   "metadata": {
    "scrolled": true
   },
   "outputs": [
    {
     "name": "stdout",
     "output_type": "stream",
     "text": [
      "rougher.state.floatbank10_e_air               436\n",
      "rougher.input.floatbank11_xanthate            428\n",
      "secondary_cleaner.state.floatbank2_a_air      217\n",
      "rougher.input.feed_size                       144\n",
      "rougher.input.feed_pb                         100\n",
      "primary_cleaner.input.xanthate                100\n",
      "rougher.input.feed_sol                         78\n",
      "rougher.input.floatbank11_sulfate              36\n",
      "primary_cleaner.input.depressant               32\n",
      "rougher.input.floatbank10_sulfate              29\n",
      "secondary_cleaner.state.floatbank2_b_air       21\n",
      "primary_cleaner.input.sulfate                  20\n",
      "rougher.input.floatbank10_xanthate              8\n",
      "rougher.input.feed_rate                         8\n",
      "secondary_cleaner.state.floatbank4_a_air        6\n",
      "primary_cleaner.state.floatbank8_b_air          4\n",
      "secondary_cleaner.state.floatbank3_a_air        4\n",
      "primary_cleaner.state.floatbank8_a_air          4\n",
      "primary_cleaner.state.floatbank8_d_air          3\n",
      "secondary_cleaner.state.floatbank6_a_air        2\n",
      "primary_cleaner.state.floatbank8_c_air          2\n",
      "secondary_cleaner.state.floatbank4_b_level      1\n",
      "secondary_cleaner.state.floatbank3_b_air        1\n",
      "secondary_cleaner.state.floatbank2_a_level      1\n",
      "secondary_cleaner.state.floatbank2_b_level      1\n",
      "secondary_cleaner.state.floatbank3_a_level      1\n",
      "secondary_cleaner.state.floatbank4_a_level      1\n",
      "secondary_cleaner.state.floatbank3_b_level      1\n",
      "secondary_cleaner.state.floatbank4_b_air        1\n",
      "secondary_cleaner.state.floatbank5_b_level      1\n",
      "secondary_cleaner.state.floatbank5_b_air        1\n",
      "secondary_cleaner.state.floatbank5_a_level      1\n",
      "secondary_cleaner.state.floatbank5_a_air        1\n",
      "rougher.state.floatbank10_b_air                 1\n",
      "secondary_cleaner.state.floatbank6_a_level      1\n",
      "rougher.state.floatbank10_a_air                 1\n",
      "primary_cleaner.state.floatbank8_a_level        1\n",
      "primary_cleaner.state.floatbank8_b_level        1\n",
      "rougher.state.floatbank10_c_level               1\n",
      "rougher.state.floatbank10_c_air                 1\n",
      "rougher.state.floatbank10_b_level               1\n",
      "primary_cleaner.state.floatbank8_c_level        1\n",
      "rougher.state.floatbank10_a_level               1\n",
      "primary_cleaner.state.floatbank8_d_level        1\n",
      "rougher.input.feed_au                           0\n",
      "primary_cleaner.input.feed_size                 0\n",
      "rougher.input.feed_ag                           0\n",
      "rougher.state.floatbank10_f_air                 0\n",
      "rougher.output.recovery                         0\n",
      "rougher.state.floatbank10_f_level               0\n",
      "dtype: int64\n"
     ]
    }
   ],
   "source": [
    "print(df_train[columns_for_train_df].isna().sum().sort_values(ascending=False).head(50))"
   ]
  },
  {
   "cell_type": "code",
   "execution_count": 62,
   "metadata": {},
   "outputs": [],
   "source": [
    "df_train[columns_for_train_df] = df_train[columns_for_train_df].ffill()"
   ]
  },
  {
   "cell_type": "code",
   "execution_count": 63,
   "metadata": {},
   "outputs": [
    {
     "name": "stdout",
     "output_type": "stream",
     "text": [
      "Количетво явных дубликатов: 0\n"
     ]
    }
   ],
   "source": [
    "print('Количетво явных дубликатов:', df_train.duplicated().sum())"
   ]
  },
  {
   "cell_type": "markdown",
   "metadata": {},
   "source": [
    "Предобработка тестовой выборки"
   ]
  },
  {
   "cell_type": "code",
   "execution_count": 64,
   "metadata": {},
   "outputs": [],
   "source": [
    "df_test = gold_recovery_test_new.merge(gold_recovery_full_new[['date','rougher.output.recovery','final.output.recovery']], on='date', how='left').copy()"
   ]
  },
  {
   "cell_type": "markdown",
   "metadata": {},
   "source": [
    "Проверим сколько NAN в тестовой выборке"
   ]
  },
  {
   "cell_type": "code",
   "execution_count": 65,
   "metadata": {
    "scrolled": true
   },
   "outputs": [
    {
     "name": "stdout",
     "output_type": "stream",
     "text": [
      "rougher.input.floatbank11_xanthate            25\n",
      "rougher.input.feed_sol                        21\n",
      "secondary_cleaner.state.floatbank3_a_air       9\n",
      "rougher.input.floatbank11_sulfate              8\n",
      "primary_cleaner.input.depressant               5\n",
      "rougher.input.floatbank10_sulfate              5\n",
      "primary_cleaner.input.xanthate                 4\n",
      "primary_cleaner.input.sulfate                  4\n",
      "secondary_cleaner.state.floatbank2_a_air       3\n",
      "rougher.input.feed_rate                        3\n",
      "secondary_cleaner.state.floatbank2_b_air       2\n",
      "rougher.input.feed_size                        1\n",
      "secondary_cleaner.state.floatbank3_a_level     0\n",
      "secondary_cleaner.state.floatbank3_b_level     0\n",
      "secondary_cleaner.state.floatbank3_b_air       0\n",
      "dtype: int64\n"
     ]
    }
   ],
   "source": [
    "print(df_test.isna().sum().sort_values(ascending=False).head(15))"
   ]
  },
  {
   "cell_type": "markdown",
   "metadata": {},
   "source": [
    "нам нужно убрать столбец даты, чтобы он не мешал обучению модели."
   ]
  },
  {
   "cell_type": "code",
   "execution_count": 66,
   "metadata": {},
   "outputs": [],
   "source": [
    "df_test = df_test.dropna()\n",
    "df_test = df_test.drop(columns='date')\n",
    "df_test.reset_index(drop=True, inplace=True)"
   ]
  },
  {
   "cell_type": "code",
   "execution_count": 67,
   "metadata": {},
   "outputs": [
    {
     "name": "stdout",
     "output_type": "stream",
     "text": [
      "Количетво явных дубликатов: 0\n"
     ]
    }
   ],
   "source": [
    "print('Количетво явных дубликатов:', df_test.duplicated().sum())"
   ]
  },
  {
   "cell_type": "markdown",
   "metadata": {},
   "source": [
    "## Анализ данных"
   ]
  },
  {
   "cell_type": "code",
   "execution_count": 68,
   "metadata": {},
   "outputs": [
    {
     "data": {
      "image/png": "[encoded data removed]",
      "text/plain": [
       "<Figure size 720x432 with 1 Axes>"
      ]
     },
     "metadata": {
      "needs_background": "light"
     },
     "output_type": "display_data"
    },
    {
     "data": {
      "image/png": "[encoded data removed]",
      "text/plain": [
       "<Figure size 720x432 with 1 Axes>"
      ]
     },
     "metadata": {
      "needs_background": "light"
     },
     "output_type": "display_data"
    },
    {
     "data": {
      "image/png": "[encoded data removed]",
      "text/plain": [
       "<Figure size 720x432 with 1 Axes>"
      ]
     },
     "metadata": {
      "needs_background": "light"
     },
     "output_type": "display_data"
    },
    {
     "data": {
      "image/png": "[encoded data removed]",
      "text/plain": [
       "<Figure size 720x432 with 1 Axes>"
      ]
     },
     "metadata": {
      "needs_background": "light"
     },
     "output_type": "display_data"
    }
   ],
   "source": [
    "def display_metal_hist(df, metal, zeros=False):\n",
    "    fig = plt.figure(figsize=(10, 6))\n",
    "    ax = fig.add_subplot(111)\n",
    "    if zeros:\n",
    "        print(df[df['rougher.input.feed_'+metal]==0]['rougher.input.feed_'+metal].count())\n",
    "        print(df[df['rougher.output.concentrate_'+metal]==0]['rougher.output.concentrate_'+metal].count())\n",
    "        print(df[df['primary_cleaner.output.concentrate_'+metal]==0]['primary_cleaner.output.concentrate_'+metal].count())\n",
    "        print(df[df['final.output.concentrate_'+metal]==0]['final.output.concentrate_'+metal].count())\n",
    "    df['rougher.input.feed_'+metal].hist(legend=True, bins=30, fc=(0, 0, 1, 0.5))\n",
    "    df['rougher.output.concentrate_'+metal].hist(legend=True, bins=30, fc=(0, 1, 0, 0.5))\n",
    "    df['primary_cleaner.output.concentrate_'+metal].hist(legend=True, bins=30, fc=(1, 0, 0, 0.5))\n",
    "    df['final.output.concentrate_'+metal].hist(legend=True, bins=30, fc=(0, 0, 0, 0.5))\n",
    "    ax.set_title('Концентрация '+metal)\n",
    "    ax.set_xlabel('Концентрация, %')\n",
    "    ax.set_ylabel('Количество')\n",
    "    plt.plot()\n",
    "    \n",
    "display_metal_hist(df_train, 'au')\n",
    "display_metal_hist(df_train, 'ag')\n",
    "display_metal_hist(df_train, 'pb')\n",
    "display_metal_hist(df_train, 'sol')"
   ]
  },
  {
   "cell_type": "markdown",
   "metadata": {},
   "source": [
    "- Концентрация золота растет, что нормально. \n",
    "- Концентрация серебра сначала повышается, затем падает. \n",
    "- Концентрация свинца растет. \n",
    "- Концентрация SOL падает."
   ]
  },
  {
   "cell_type": "code",
   "execution_count": 69,
   "metadata": {},
   "outputs": [
    {
     "data": {
      "text/plain": [
       "[]"
      ]
     },
     "execution_count": 69,
     "metadata": {},
     "output_type": "execute_result"
    },
    {
     "data": {
      "image/png": "[encoded data removed]",
      "text/plain": [
       "<Figure size 864x720 with 1 Axes>"
      ]
     },
     "metadata": {
      "needs_background": "light"
     },
     "output_type": "display_data"
    },
    {
     "data": {
      "image/png": "[encoded data removed]",
      "text/plain": [
       "<Figure size 864x720 with 1 Axes>"
      ]
     },
     "metadata": {
      "needs_background": "light"
     },
     "output_type": "display_data"
    }
   ],
   "source": [
    "fig = plt.figure(figsize=(12, 10))\n",
    "ax = fig.add_subplot(111)\n",
    "ax.hist(df_train['rougher.input.feed_size'],bins=100,label='train',density=True)\n",
    "ax.hist(df_test['rougher.input.feed_size'],bins=100,label='test',density=True, fc=(1, 0, 0, 0.5))\n",
    "ax.set_title('Распределения размеров гранул сырья на обучающей и тестовой выборках\\nСтадия: rougher')\n",
    "ax.set_xlabel('Размер гранул')\n",
    "ax.set_ylabel('Количество')\n",
    "ax.legend(fontsize=16)\n",
    "plt.plot()\n",
    "\n",
    "fig = plt.figure(figsize=(12, 10))\n",
    "ax = fig.add_subplot(111)\n",
    "ax.hist(df_train['primary_cleaner.input.feed_size'],bins=100,label='train',density=True)\n",
    "ax.hist(df_test['primary_cleaner.input.feed_size'],bins=100,label='test',density=True, fc=(1, 0, 0, 0.5))\n",
    "ax.set_title('Распределения размеров гранул сырья на обучающей и тестовой выборках\\nСтадия: primary_cleaner')\n",
    "ax.set_xlabel('Размер гранул')\n",
    "ax.set_ylabel('Количество')\n",
    "ax.legend(fontsize=16)\n",
    "plt.plot()"
   ]
  },
  {
   "cell_type": "markdown",
   "metadata": {},
   "source": [
    "На гистограмме видно очень «длинный хвост» вправо. Возможно, стоит удалить значения, в которых размер зерна > 150.\n",
    "\n",
    "В среднем имеем 7%-ную разницу в размерах гранул в обучающей выборке по сравнению с тестовой. Это значительный процент."
   ]
  },
  {
   "cell_type": "code",
   "execution_count": 70,
   "metadata": {},
   "outputs": [],
   "source": [
    "df_train = df_train.drop(\n",
    "    df_train[(df_train['rougher.input.feed_size']<1) \n",
    "             | (df_train['rougher.input.feed_size']>120)].index)\n",
    "df_train.reset_index(drop=True, inplace=True)\n",
    "\n",
    "df_test = df_test.drop(\n",
    "    df_test[(df_test['rougher.input.feed_size']<1) \n",
    "            | (df_test['rougher.input.feed_size']>120)].index)\n",
    "df_test.reset_index(drop=True, inplace=True)"
   ]
  },
  {
   "cell_type": "code",
   "execution_count": 71,
   "metadata": {},
   "outputs": [
    {
     "data": {
      "image/png": "[encoded data removed]",
      "text/plain": [
       "<Figure size 864x720 with 1 Axes>"
      ]
     },
     "metadata": {
      "needs_background": "light"
     },
     "output_type": "display_data"
    }
   ],
   "source": [
    "fig = plt.figure(figsize=(12, 10))\n",
    "ax = fig.add_subplot(111)\n",
    "ax.hist(df_train['rougher.input.feed_size'],bins=100,label='train',density=True)\n",
    "ax.hist(df_test['rougher.input.feed_size'],bins=100,label='test',density=True, fc=(1, 0, 0, 0.5))\n",
    "ax.set_title('Распределения размеров гранул сырья на обучающей и тестовой выборках\\nСтадия: rougher')\n",
    "ax.set_xlabel('Размер гранул')\n",
    "ax.set_ylabel('Количество')\n",
    "ax.legend(fontsize=16)\n",
    "plt.plot();"
   ]
  },
  {
   "cell_type": "markdown",
   "metadata": {},
   "source": [
    "Распределение размера гранул на тестовой выборке выглядит плохо. Было бы лучше собрать обучающий и тестовый набор с нуля"
   ]
  },
  {
   "cell_type": "code",
   "execution_count": 72,
   "metadata": {},
   "outputs": [
    {
     "data": {
      "image/png": "[encoded data removed]",
      "text/plain": [
       "<Figure size 864x720 with 1 Axes>"
      ]
     },
     "metadata": {
      "needs_background": "light"
     },
     "output_type": "display_data"
    }
   ],
   "source": [
    "fig = plt.figure(figsize=(12, 10))\n",
    "ax = fig.add_subplot(111)\n",
    "def display_metal_hist_sum(df, stage, fc):\n",
    "    df[stage+'summary'] = (df[stage+'_au']+ df[stage+'_ag']+ df[stage+'_pb'])\n",
    "    df[stage+'summary'].hist(legend=True,bins=30, fc=fc)\n",
    "    ax.set_title('Суммарная концентрация металлов на разных стадиях')\n",
    "    ax.set_xlabel('Концентрация, %')\n",
    "    ax.set_ylabel('Количество')\n",
    "    plt.plot()\n",
    "\n",
    "display_metal_hist_sum(df_train, 'rougher.input.feed', fc=(0, 0, 1, 0.5))  \n",
    "display_metal_hist_sum(df_train, 'rougher.output.concentrate', fc=(0, 1, 0, 0.5))\n",
    "display_metal_hist_sum(df_train, 'primary_cleaner.output.concentrate', fc=(1, 0, 0, 0.5))\n",
    "display_metal_hist_sum(df_train, 'final.output.concentrate', fc=(0, 0, 0, 0.5))"
   ]
  },
  {
   "cell_type": "markdown",
   "metadata": {},
   "source": [
    "Суммарная концентрация металлов на разных стадиях заметно увеличивается"
   ]
  },
  {
   "cell_type": "code",
   "execution_count": 73,
   "metadata": {},
   "outputs": [
    {
     "data": {
      "image/png": "[encoded data removed]",
      "text/plain": [
       "<Figure size 864x720 with 1 Axes>"
      ]
     },
     "metadata": {
      "needs_background": "light"
     },
     "output_type": "display_data"
    }
   ],
   "source": [
    "fig = plt.figure(figsize=(12, 10))\n",
    "ax = fig.add_subplot(111)\n",
    "def display_metal_hist_sum(df, stage, fc):\n",
    "    df[stage+'summary'] = (df[stage+'_au']+ df[stage+'_ag']+ df[stage+'_pb']+ df[stage+'_sol'])\n",
    "    df[stage+'summary'].hist(legend=True,bins=30, fc=fc)\n",
    "    ax.set_title('Суммарная концентрация всех веществ на разных стадиях')\n",
    "    ax.set_xlabel('Концентрация, %')\n",
    "    ax.set_ylabel('Количество')\n",
    "    plt.plot()\n",
    "\n",
    "display_metal_hist_sum(df_train, 'rougher.input.feed', fc=(0, 0, 1, 0.5))  \n",
    "display_metal_hist_sum(df_train, 'rougher.output.concentrate', fc=(0, 1, 0, 0.5))\n",
    "display_metal_hist_sum(df_train, 'primary_cleaner.output.concentrate', fc=(1, 0, 0, 0.5))\n",
    "display_metal_hist_sum(df_train, 'final.output.concentrate', fc=(0, 0, 0, 0.5))"
   ]
  },
  {
   "cell_type": "markdown",
   "metadata": {},
   "source": [
    "Суммарная концентрация всех металлов, включая SOL, также растет, но не так существенно и имеет небольшой разброс."
   ]
  },
  {
   "cell_type": "code",
   "execution_count": 74,
   "metadata": {},
   "outputs": [],
   "source": [
    "stages = ['rougher.input.feed'\n",
    "         ,'rougher.output.concentrate'\n",
    "         ,'primary_cleaner.output.concentrate'\n",
    "         ,'final.output.concentrate']\n",
    "\n",
    "components = ['_au'\n",
    "             ,'_ag'\n",
    "             ,'_pb'\n",
    "             ,'_sol']\n",
    "\n",
    "for stage in stages:\n",
    "    for component in components:\n",
    "        df_train = df_train.drop(df_train[df_train[stage+component]<1].index)\n",
    "\n",
    "df_train.reset_index(drop=True, inplace=True)"
   ]
  },
  {
   "cell_type": "code",
   "execution_count": 75,
   "metadata": {},
   "outputs": [
    {
     "data": {
      "image/png": "[encoded data removed]",
      "text/plain": [
       "<Figure size 864x720 with 1 Axes>"
      ]
     },
     "metadata": {
      "needs_background": "light"
     },
     "output_type": "display_data"
    }
   ],
   "source": [
    "fig = plt.figure(figsize=(12, 10))\n",
    "ax = fig.add_subplot(111)\n",
    "def display_metal_hist_sum(df, stage, fc):\n",
    "    df[stage+'summary'] = (df[stage+'_au']+ df[stage+'_ag']+ df[stage+'_pb']+ df[stage+'_sol'])\n",
    "    df[stage+'summary'].hist(legend=True,bins=30, fc=fc)\n",
    "    ax.set_title('Суммарная концентрация всех веществ на разных стадиях')\n",
    "    ax.set_xlabel('Концентрация, %')\n",
    "    ax.set_ylabel('Количество')\n",
    "    plt.plot()\n",
    "\n",
    "display_metal_hist_sum(df_train, 'rougher.input.feed', fc=(0, 0, 1, 0.5))  \n",
    "display_metal_hist_sum(df_train, 'rougher.output.concentrate', fc=(0, 1, 0, 0.5))\n",
    "display_metal_hist_sum(df_train, 'primary_cleaner.output.concentrate', fc=(1, 0, 0, 0.5))\n",
    "display_metal_hist_sum(df_train, 'final.output.concentrate', fc=(0, 0, 0, 0.5))"
   ]
  },
  {
   "cell_type": "markdown",
   "metadata": {},
   "source": [
    "## Модель"
   ]
  },
  {
   "cell_type": "code",
   "execution_count": 76,
   "metadata": {},
   "outputs": [],
   "source": [
    "def smape(A, F): #attribute, forecast\n",
    "    return 100/len(A) * np.sum(2 * np.abs(F - A) / (np.abs(A) + np.abs(F)))"
   ]
  },
  {
   "cell_type": "code",
   "execution_count": 77,
   "metadata": {},
   "outputs": [],
   "source": [
    "def total_smape(smape_r,smape_f):\n",
    "    return np.abs(0.25*smape_r+0.75*smape_f)"
   ]
  },
  {
   "cell_type": "code",
   "execution_count": 78,
   "metadata": {},
   "outputs": [],
   "source": [
    "smape_scorer = make_scorer(smape, greater_is_better=False)"
   ]
  },
  {
   "cell_type": "code",
   "execution_count": 79,
   "metadata": {},
   "outputs": [
    {
     "name": "stdout",
     "output_type": "stream",
     "text": [
      "(13225, 52)\n",
      "(13225,)\n",
      "(13225,)\n"
     ]
    }
   ],
   "source": [
    "df_train_features = df_train[columns_for_train_df]\n",
    "df_train_features = df_train_features.drop(['date', 'rougher.output.recovery','final.output.recovery'], axis=1)\n",
    "\n",
    "df_train_target_rougher = df_train['rougher.output.recovery']\n",
    "df_train_target_final = df_train['final.output.recovery']\n",
    "\n",
    "print(df_train_features.shape)\n",
    "print(df_train_target_rougher.shape)\n",
    "print(df_train_target_final.shape)"
   ]
  },
  {
   "cell_type": "code",
   "execution_count": 80,
   "metadata": {},
   "outputs": [
    {
     "name": "stdout",
     "output_type": "stream",
     "text": [
      "(5180, 52)\n",
      "(5180,)\n",
      "(5180,)\n"
     ]
    }
   ],
   "source": [
    "df_test_features = df_test.drop(['rougher.output.recovery','final.output.recovery'], axis=1)\n",
    "df_test_target_rougher = df_test['rougher.output.recovery']\n",
    "df_test_target_final = df_test['final.output.recovery']\n",
    "print(df_test_features.shape)\n",
    "print(df_test_target_rougher.shape)\n",
    "print(df_test_target_final.shape)"
   ]
  },
  {
   "cell_type": "code",
   "execution_count": 81,
   "metadata": {},
   "outputs": [],
   "source": [
    "df_test_features = df_test_features[df_train_features.columns]"
   ]
  },
  {
   "cell_type": "markdown",
   "metadata": {},
   "source": [
    "<b>Linear regression</b>"
   ]
  },
  {
   "cell_type": "markdown",
   "metadata": {},
   "source": [
    "Прогноз обогащения в сыром"
   ]
  },
  {
   "cell_type": "code",
   "execution_count": 82,
   "metadata": {},
   "outputs": [
    {
     "name": "stdout",
     "output_type": "stream",
     "text": [
      "Rougth sMAPE: 5.5053609357032744%\n",
      "CPU times: user 4.02 s, sys: 5.82 s, total: 9.84 s\n",
      "Wall time: 9.83 s\n"
     ]
    }
   ],
   "source": [
    "%%time\n",
    "model = LinearRegression()\n",
    "\n",
    "scores = cross_val_score(model\n",
    "                , df_train_features\n",
    "                , df_train_target_rougher\n",
    "                , scoring = smape_scorer\n",
    "                , cv=20)\n",
    "\n",
    "smape_r = scores.mean()\n",
    "\n",
    "print(f'Rougth sMAPE: {np.abs(smape_r)}%')"
   ]
  },
  {
   "cell_type": "markdown",
   "metadata": {},
   "source": [
    "Прогнозирование обогащения в конечном"
   ]
  },
  {
   "cell_type": "code",
   "execution_count": 83,
   "metadata": {},
   "outputs": [
    {
     "name": "stdout",
     "output_type": "stream",
     "text": [
      "Final sMAPE: 9.020958388125122%\n",
      "CPU times: user 4.41 s, sys: 6.12 s, total: 10.5 s\n",
      "Wall time: 10.5 s\n"
     ]
    }
   ],
   "source": [
    "%%time\n",
    "model = LinearRegression()\n",
    "\n",
    "scores = cross_val_score(model\n",
    "                , df_train_features\n",
    "                , df_train_target_final\n",
    "                , scoring = smape_scorer\n",
    "                , cv=20)\n",
    "\n",
    "smape_f = scores.mean()\n",
    "\n",
    "\n",
    "print(f'Final sMAPE: {np.abs(smape_f)}%')"
   ]
  },
  {
   "cell_type": "code",
   "execution_count": 84,
   "metadata": {},
   "outputs": [
    {
     "name": "stdout",
     "output_type": "stream",
     "text": [
      "Итоговое sMAPE: 8.142059025019659\n"
     ]
    }
   ],
   "source": [
    "print('Итоговое sMAPE:', total_smape(smape_r,smape_f))"
   ]
  },
  {
   "cell_type": "markdown",
   "metadata": {},
   "source": [
    "<b>DummyRegressors</b>"
   ]
  },
  {
   "cell_type": "code",
   "execution_count": 85,
   "metadata": {},
   "outputs": [
    {
     "name": "stdout",
     "output_type": "stream",
     "text": [
      "dummy_smape_r: -7.368897569666956%\n",
      "dummy_smape_f: -10.016293341575425%\n",
      "\n",
      "Итоговое Dummy sMAPE: 9.354444398598307%\n"
     ]
    }
   ],
   "source": [
    "model = DummyRegressor()\n",
    "\n",
    "scores = cross_val_score(model\n",
    "                , df_train_features\n",
    "                , df_train_target_rougher\n",
    "                , scoring = smape_scorer\n",
    "                , cv=20)\n",
    "\n",
    "dummy_smape_r = scores.mean()\n",
    "\n",
    "\n",
    "print(f'dummy_smape_r: {dummy_smape_r}%')\n",
    "\n",
    "model = DummyRegressor()\n",
    "\n",
    "scores = cross_val_score(model\n",
    "                , df_train_features\n",
    "                , df_train_target_final\n",
    "                , scoring = smape_scorer\n",
    "                , cv=20)\n",
    "\n",
    "dummy_smape_f = scores.mean()\n",
    "\n",
    "print(f'dummy_smape_f: {dummy_smape_f}%')\n",
    "\n",
    "print()\n",
    "print(f'Итоговое Dummy sMAPE: {total_smape(dummy_smape_r,dummy_smape_f)}%')"
   ]
  },
  {
   "cell_type": "markdown",
   "metadata": {},
   "source": [
    "<b>Random forest</b>"
   ]
  },
  {
   "cell_type": "markdown",
   "metadata": {},
   "source": [
    "Прогноз обогащения в сыром концентрате"
   ]
  },
  {
   "cell_type": "code",
   "execution_count": 86,
   "metadata": {},
   "outputs": [
    {
     "name": "stdout",
     "output_type": "stream",
     "text": [
      "Best score: -7.4849938295472205\n",
      "Best params: {'n_estimators': 1, 'min_samples_leaf': 40, 'max_depth': 9}\n",
      "CPU times: user 15.2 s, sys: 193 ms, total: 15.4 s\n",
      "Wall time: 15.5 s\n"
     ]
    }
   ],
   "source": [
    "%%time\n",
    "\n",
    "param = {\n",
    "    'n_estimators': [1,5,9], \n",
    "    'max_depth': [1,5,9], \n",
    "    'min_samples_leaf': [1,40,70]\n",
    "}\n",
    "\n",
    "\n",
    "model = RandomForestRegressor(random_state=12345)\n",
    "\n",
    "randomsearch = RandomizedSearchCV(model\n",
    "                                  , param_distributions=param\n",
    "                                  , n_iter=10\n",
    "                                  , cv=3\n",
    "                                  , n_jobs=-1\n",
    "                                  , scoring = smape_scorer\n",
    "                                  , return_train_score=True\n",
    "                                  , random_state=12345)\n",
    "\n",
    "randomsearch.fit(df_train_features, df_train_target_rougher)\n",
    "print('Best score:', randomsearch.best_score_)\n",
    "print('Best params:', randomsearch.best_params_)"
   ]
  },
  {
   "cell_type": "code",
   "execution_count": 87,
   "metadata": {},
   "outputs": [
    {
     "name": "stdout",
     "output_type": "stream",
     "text": [
      "Rougher sMAPE: -6.3713630518237645%\n",
      "CPU times: user 5.58 s, sys: 64.8 ms, total: 5.64 s\n",
      "Wall time: 5.76 s\n"
     ]
    }
   ],
   "source": [
    "%%time\n",
    "\n",
    "model = RandomForestRegressor(random_state=12345\n",
    "                      , max_depth=9\n",
    "                      , min_samples_leaf=40\n",
    "                      , n_estimators=1)\n",
    "\n",
    "scores = cross_val_score(model\n",
    "                , df_train_features\n",
    "                , df_train_target_rougher\n",
    "                , scoring = smape_scorer\n",
    "                , cv=20)\n",
    "\n",
    "smape_r = scores.mean()\n",
    "\n",
    "print(f'Rougher sMAPE: {smape_r}%')"
   ]
  },
  {
   "cell_type": "markdown",
   "metadata": {},
   "source": [
    "Прогнозирование обогащения в конечном концентрате"
   ]
  },
  {
   "cell_type": "code",
   "execution_count": 88,
   "metadata": {},
   "outputs": [
    {
     "name": "stdout",
     "output_type": "stream",
     "text": [
      "Best score: -9.674937458333273\n",
      "Best params: {'n_estimators': 9, 'min_samples_leaf': 70, 'max_depth': 1}\n",
      "CPU times: user 16 s, sys: 216 ms, total: 16.3 s\n",
      "Wall time: 16.3 s\n"
     ]
    }
   ],
   "source": [
    "%%time\n",
    "\n",
    "param = {\n",
    "    'n_estimators': [1,5,9], \n",
    "    'max_depth': [1,5,9], \n",
    "    'min_samples_leaf': [1,40,70]\n",
    "}\n",
    "\n",
    "\n",
    "model = RandomForestRegressor(random_state=12345)\n",
    "\n",
    "randomsearch = RandomizedSearchCV(model\n",
    "                                  , param_distributions=param\n",
    "                                  , n_iter=10\n",
    "                                  , cv=3\n",
    "                                  , n_jobs=-1\n",
    "                                  , scoring = smape_scorer\n",
    "                                  , return_train_score=True\n",
    "                                  , random_state=12345)\n",
    "\n",
    "randomsearch.fit(df_train_features, df_train_target_final)\n",
    "print('Best score:', randomsearch.best_score_)\n",
    "print('Best params:', randomsearch.best_params_)"
   ]
  },
  {
   "cell_type": "code",
   "execution_count": 89,
   "metadata": {},
   "outputs": [
    {
     "name": "stdout",
     "output_type": "stream",
     "text": [
      "Final sMAPE: 9.060385372845284%\n",
      "CPU times: user 8.16 s, sys: 95.1 ms, total: 8.25 s\n",
      "Wall time: 8.26 s\n"
     ]
    }
   ],
   "source": [
    "%%time\n",
    "\n",
    "model = RandomForestRegressor(random_state=12345\n",
    "                      , max_depth=1\n",
    "                      , min_samples_leaf=70\n",
    "                      , n_estimators=9)\n",
    "\n",
    "scores = cross_val_score(model\n",
    "                , df_train_features\n",
    "                , df_train_target_final\n",
    "                , scoring = smape_scorer\n",
    "                , cv=20)\n",
    "\n",
    "smape_f = scores.mean()\n",
    "\n",
    "print(f'Final sMAPE: {np.abs(smape_f)}%')"
   ]
  },
  {
   "cell_type": "code",
   "execution_count": 90,
   "metadata": {},
   "outputs": [
    {
     "name": "stdout",
     "output_type": "stream",
     "text": [
      "Итоговое sMAPE: 8.388129792589904\n"
     ]
    }
   ],
   "source": [
    "print('Итоговое sMAPE:', total_smape(smape_r,smape_f))"
   ]
  },
  {
   "cell_type": "markdown",
   "metadata": {},
   "source": [
    "Лучшая модель на тестовой выборке"
   ]
  },
  {
   "cell_type": "code",
   "execution_count": 91,
   "metadata": {},
   "outputs": [
    {
     "name": "stdout",
     "output_type": "stream",
     "text": [
      "sMAPE: 8.594064334603225%\n",
      "sMAPE: 8.91894069802991%\n",
      "LinearRegression Итоговое sMAPE: 8.83772160717324%\n"
     ]
    }
   ],
   "source": [
    "model = LinearRegression()\n",
    "model.fit(df_train_features, df_train_target_rougher)\n",
    "predictions = model.predict(df_test_features)\n",
    "smape_r = smape(predictions,df_test_target_rougher)\n",
    "\n",
    "\n",
    "model.fit(df_train_features, df_train_target_final)\n",
    "predictions = model.predict(df_test_features)\n",
    "smape_f = smape(predictions,df_test_target_final)\n",
    "\n",
    "\n",
    "print(f'sMAPE: {smape_r}%')\n",
    "print(f'sMAPE: {smape_f}%')\n",
    "\n",
    "print(f'LinearRegression Итоговое sMAPE: {total_smape(smape_r,smape_f)}%')"
   ]
  },
  {
   "cell_type": "markdown",
   "metadata": {},
   "source": [
    "Для улучшения:\n",
    "- попытаться определить несущественные признаки\n",
    "- по-другому подойти к вопросу выбора признаков для обучения, например, разделить признаки разных стадий обогащения для двух наших моделей"
   ]
  },
  {
   "cell_type": "code",
   "execution_count": null,
   "metadata": {},
   "outputs": [],
   "source": []
  }
 ],
 "metadata": {
  "ExecuteTimeLog": [
   {
    "duration": 1696,
    "start_time": "2023-01-30T08:02:39.409Z"
   },
   {
    "duration": 3268,
    "start_time": "2023-01-30T08:03:10.214Z"
   },
   {
    "duration": 7,
    "start_time": "2023-01-30T08:06:45.799Z"
   },
   {
    "duration": 10,
    "start_time": "2023-01-30T08:07:16.379Z"
   },
   {
    "duration": 5,
    "start_time": "2023-01-30T08:07:26.271Z"
   },
   {
    "duration": 5,
    "start_time": "2023-01-30T08:07:43.229Z"
   },
   {
    "duration": 4,
    "start_time": "2023-01-30T08:07:45.615Z"
   },
   {
    "duration": 5,
    "start_time": "2023-01-30T08:08:27.338Z"
   },
   {
    "duration": 630,
    "start_time": "2023-01-30T08:08:28.007Z"
   },
   {
    "duration": 5,
    "start_time": "2023-01-30T08:08:28.817Z"
   },
   {
    "duration": 5,
    "start_time": "2023-01-30T08:08:29.547Z"
   },
   {
    "duration": 7,
    "start_time": "2023-01-30T08:08:30.047Z"
   },
   {
    "duration": 5,
    "start_time": "2023-01-30T08:09:02.879Z"
   },
   {
    "duration": 6,
    "start_time": "2023-01-30T08:12:01.392Z"
   },
   {
    "duration": 6,
    "start_time": "2023-01-30T08:14:00.939Z"
   },
   {
    "duration": 4,
    "start_time": "2023-01-30T08:14:31.088Z"
   },
   {
    "duration": 7,
    "start_time": "2023-01-30T08:15:08.257Z"
   },
   {
    "duration": 6,
    "start_time": "2023-01-30T08:15:18.806Z"
   },
   {
    "duration": 9,
    "start_time": "2023-01-30T08:15:39.971Z"
   },
   {
    "duration": 7,
    "start_time": "2023-01-30T08:18:18.088Z"
   },
   {
    "duration": 13,
    "start_time": "2023-01-30T08:18:44.095Z"
   },
   {
    "duration": 18,
    "start_time": "2023-01-30T08:21:21.830Z"
   },
   {
    "duration": 128,
    "start_time": "2023-01-30T08:21:46.068Z"
   },
   {
    "duration": 14,
    "start_time": "2023-01-30T08:22:43.838Z"
   },
   {
    "duration": 104,
    "start_time": "2023-01-30T08:25:15.562Z"
   },
   {
    "duration": 14,
    "start_time": "2023-01-30T08:25:44.341Z"
   },
   {
    "duration": 88,
    "start_time": "2023-01-30T08:25:45.140Z"
   },
   {
    "duration": 0,
    "start_time": "2023-01-30T08:25:45.230Z"
   },
   {
    "duration": 10,
    "start_time": "2023-01-30T08:25:51.794Z"
   },
   {
    "duration": 14,
    "start_time": "2023-01-30T08:26:05.113Z"
   },
   {
    "duration": 6,
    "start_time": "2023-01-30T08:26:06.031Z"
   },
   {
    "duration": 17,
    "start_time": "2023-01-30T08:28:23.678Z"
   },
   {
    "duration": 21,
    "start_time": "2023-01-30T08:28:30.128Z"
   },
   {
    "duration": 17,
    "start_time": "2023-01-30T08:28:32.140Z"
   },
   {
    "duration": 24,
    "start_time": "2023-01-30T08:28:36.916Z"
   },
   {
    "duration": 4,
    "start_time": "2023-01-30T08:29:29.848Z"
   },
   {
    "duration": 786,
    "start_time": "2023-01-30T08:29:29.854Z"
   },
   {
    "duration": 7,
    "start_time": "2023-01-30T08:29:30.642Z"
   },
   {
    "duration": 81,
    "start_time": "2023-01-30T08:29:30.651Z"
   },
   {
    "duration": 59,
    "start_time": "2023-01-30T08:29:30.735Z"
   },
   {
    "duration": 96,
    "start_time": "2023-01-30T08:29:30.796Z"
   },
   {
    "duration": 93,
    "start_time": "2023-01-30T08:29:30.894Z"
   },
   {
    "duration": 75,
    "start_time": "2023-01-30T08:29:30.993Z"
   },
   {
    "duration": 57,
    "start_time": "2023-01-30T08:29:31.069Z"
   },
   {
    "duration": 91,
    "start_time": "2023-01-30T08:29:31.128Z"
   },
   {
    "duration": 110,
    "start_time": "2023-01-30T08:29:31.221Z"
   },
   {
    "duration": 361,
    "start_time": "2023-01-30T08:29:31.333Z"
   },
   {
    "duration": 14,
    "start_time": "2023-01-30T08:29:31.697Z"
   },
   {
    "duration": 53,
    "start_time": "2023-01-30T08:29:31.712Z"
   },
   {
    "duration": 7,
    "start_time": "2023-01-30T08:29:34.666Z"
   },
   {
    "duration": 14,
    "start_time": "2023-01-30T08:29:36.080Z"
   },
   {
    "duration": 17,
    "start_time": "2023-01-30T08:29:38.672Z"
   },
   {
    "duration": 134,
    "start_time": "2023-01-30T08:29:39.418Z"
   },
   {
    "duration": 24,
    "start_time": "2023-01-30T08:29:41.868Z"
   },
   {
    "duration": 6,
    "start_time": "2023-01-30T08:29:42.811Z"
   },
   {
    "duration": 9,
    "start_time": "2023-01-30T08:29:44.094Z"
   },
   {
    "duration": 26,
    "start_time": "2023-01-30T08:29:45.520Z"
   },
   {
    "duration": 1643,
    "start_time": "2023-01-30T08:30:54.185Z"
   },
   {
    "duration": 54,
    "start_time": "2023-01-31T08:12:24.585Z"
   },
   {
    "duration": 1559,
    "start_time": "2023-01-31T08:12:29.373Z"
   },
   {
    "duration": 1891,
    "start_time": "2023-01-31T08:12:30.934Z"
   },
   {
    "duration": 7,
    "start_time": "2023-01-31T08:12:32.827Z"
   },
   {
    "duration": 29,
    "start_time": "2023-01-31T08:12:32.836Z"
   },
   {
    "duration": 17,
    "start_time": "2023-01-31T08:12:32.867Z"
   },
   {
    "duration": 14,
    "start_time": "2023-01-31T08:12:32.886Z"
   },
   {
    "duration": 36,
    "start_time": "2023-01-31T08:12:32.902Z"
   },
   {
    "duration": 25,
    "start_time": "2023-01-31T08:12:32.940Z"
   },
   {
    "duration": 25,
    "start_time": "2023-01-31T08:12:32.968Z"
   },
   {
    "duration": 28,
    "start_time": "2023-01-31T08:12:32.996Z"
   },
   {
    "duration": 22,
    "start_time": "2023-01-31T08:12:33.027Z"
   },
   {
    "duration": 149,
    "start_time": "2023-01-31T08:12:33.051Z"
   },
   {
    "duration": 19,
    "start_time": "2023-01-31T08:12:33.201Z"
   },
   {
    "duration": 7,
    "start_time": "2023-01-31T08:12:33.222Z"
   },
   {
    "duration": 18,
    "start_time": "2023-01-31T08:12:33.231Z"
   },
   {
    "duration": 31,
    "start_time": "2023-01-31T08:12:33.251Z"
   },
   {
    "duration": 1714,
    "start_time": "2023-01-31T08:12:33.302Z"
   },
   {
    "duration": 1032,
    "start_time": "2023-01-31T08:12:59.141Z"
   },
   {
    "duration": 16,
    "start_time": "2023-01-31T10:15:54.636Z"
   },
   {
    "duration": 665,
    "start_time": "2023-01-31T10:16:05.580Z"
   },
   {
    "duration": 492,
    "start_time": "2023-01-31T10:16:14.766Z"
   },
   {
    "duration": 439,
    "start_time": "2023-01-31T10:24:22.621Z"
   },
   {
    "duration": 371,
    "start_time": "2023-01-31T10:26:28.448Z"
   },
   {
    "duration": 77,
    "start_time": "2023-01-31T10:27:55.855Z"
   },
   {
    "duration": 469,
    "start_time": "2023-01-31T10:28:13.454Z"
   },
   {
    "duration": 4,
    "start_time": "2023-01-31T10:34:00.104Z"
   },
   {
    "duration": 2,
    "start_time": "2023-01-31T10:34:11.496Z"
   },
   {
    "duration": 3,
    "start_time": "2023-01-31T10:34:24.681Z"
   },
   {
    "duration": 4,
    "start_time": "2023-01-31T10:41:00.876Z"
   },
   {
    "duration": 4,
    "start_time": "2023-01-31T10:41:01.276Z"
   },
   {
    "duration": 3,
    "start_time": "2023-01-31T10:41:01.708Z"
   },
   {
    "duration": 11,
    "start_time": "2023-01-31T10:41:02.184Z"
   },
   {
    "duration": 9,
    "start_time": "2023-01-31T10:41:14.112Z"
   },
   {
    "duration": 5,
    "start_time": "2023-01-31T10:41:38.777Z"
   },
   {
    "duration": 66,
    "start_time": "2023-01-31T10:42:14.193Z"
   },
   {
    "duration": 19445,
    "start_time": "2023-01-31T10:42:14.508Z"
   },
   {
    "duration": 17034,
    "start_time": "2023-01-31T10:43:04.264Z"
   },
   {
    "duration": 18001,
    "start_time": "2023-01-31T10:43:24.767Z"
   },
   {
    "duration": 3034,
    "start_time": "2023-01-31T10:44:00.993Z"
   },
   {
    "duration": 41506,
    "start_time": "2023-01-31T11:04:53.577Z"
   },
   {
    "duration": 49067,
    "start_time": "2023-01-31T11:05:38.896Z"
   },
   {
    "duration": 118972,
    "start_time": "2023-01-31T11:06:48.116Z"
   },
   {
    "duration": 54,
    "start_time": "2023-01-31T11:08:47.588Z"
   },
   {
    "duration": 6172,
    "start_time": "2023-01-31T11:09:13.731Z"
   },
   {
    "duration": 52,
    "start_time": "2023-01-31T11:10:05.454Z"
   },
   {
    "duration": 6480,
    "start_time": "2023-01-31T11:10:11.333Z"
   },
   {
    "duration": 5,
    "start_time": "2023-01-31T11:10:23.023Z"
   },
   {
    "duration": 11,
    "start_time": "2023-01-31T11:10:51.975Z"
   },
   {
    "duration": 13,
    "start_time": "2023-01-31T11:10:57.801Z"
   },
   {
    "duration": 162,
    "start_time": "2023-01-31T11:11:10.647Z"
   },
   {
    "duration": 160,
    "start_time": "2023-01-31T11:20:00.426Z"
   },
   {
    "duration": 55,
    "start_time": "2023-01-31T11:22:42.843Z"
   },
   {
    "duration": 163,
    "start_time": "2023-01-31T11:22:54.722Z"
   },
   {
    "duration": 156,
    "start_time": "2023-01-31T11:25:10.492Z"
   },
   {
    "duration": 156,
    "start_time": "2023-01-31T11:25:33.436Z"
   },
   {
    "duration": 149,
    "start_time": "2023-01-31T11:25:54.374Z"
   },
   {
    "duration": 183,
    "start_time": "2023-01-31T11:26:34.042Z"
   },
   {
    "duration": 148,
    "start_time": "2023-01-31T11:29:05.305Z"
   },
   {
    "duration": 11,
    "start_time": "2023-01-31T11:34:51.357Z"
   },
   {
    "duration": 12,
    "start_time": "2023-01-31T11:38:36.930Z"
   },
   {
    "duration": 150,
    "start_time": "2023-01-31T11:39:48.264Z"
   },
   {
    "duration": 11,
    "start_time": "2023-01-31T11:40:15.525Z"
   },
   {
    "duration": 141,
    "start_time": "2023-01-31T11:40:39.055Z"
   },
   {
    "duration": 1515,
    "start_time": "2023-02-02T08:32:31.205Z"
   },
   {
    "duration": 1999,
    "start_time": "2023-02-02T08:32:32.722Z"
   },
   {
    "duration": 8,
    "start_time": "2023-02-02T08:32:34.722Z"
   },
   {
    "duration": 20,
    "start_time": "2023-02-02T08:32:34.731Z"
   },
   {
    "duration": 8,
    "start_time": "2023-02-02T08:32:34.753Z"
   },
   {
    "duration": 7,
    "start_time": "2023-02-02T08:32:34.762Z"
   },
   {
    "duration": 6,
    "start_time": "2023-02-02T08:32:34.771Z"
   },
   {
    "duration": 11,
    "start_time": "2023-02-02T08:32:34.779Z"
   },
   {
    "duration": 7,
    "start_time": "2023-02-02T08:32:34.791Z"
   },
   {
    "duration": 13,
    "start_time": "2023-02-02T08:32:34.800Z"
   },
   {
    "duration": 18,
    "start_time": "2023-02-02T08:32:34.815Z"
   },
   {
    "duration": 129,
    "start_time": "2023-02-02T08:32:34.835Z"
   },
   {
    "duration": 14,
    "start_time": "2023-02-02T08:32:34.965Z"
   },
   {
    "duration": 16,
    "start_time": "2023-02-02T08:32:34.982Z"
   },
   {
    "duration": 7,
    "start_time": "2023-02-02T08:32:34.999Z"
   },
   {
    "duration": 26,
    "start_time": "2023-02-02T08:32:35.008Z"
   },
   {
    "duration": 1588,
    "start_time": "2023-02-02T08:32:35.036Z"
   },
   {
    "duration": 911,
    "start_time": "2023-02-02T08:32:36.626Z"
   },
   {
    "duration": 13,
    "start_time": "2023-02-02T08:32:37.540Z"
   },
   {
    "duration": 598,
    "start_time": "2023-02-02T08:32:37.555Z"
   },
   {
    "duration": 457,
    "start_time": "2023-02-02T08:32:38.155Z"
   },
   {
    "duration": 416,
    "start_time": "2023-02-02T08:32:38.614Z"
   },
   {
    "duration": 3,
    "start_time": "2023-02-02T08:32:39.032Z"
   },
   {
    "duration": 19,
    "start_time": "2023-02-02T08:32:39.037Z"
   },
   {
    "duration": 6,
    "start_time": "2023-02-02T08:32:39.058Z"
   },
   {
    "duration": 47,
    "start_time": "2023-02-02T08:32:39.066Z"
   },
   {
    "duration": 0,
    "start_time": "2023-02-02T08:32:39.114Z"
   },
   {
    "duration": 0,
    "start_time": "2023-02-02T08:32:39.116Z"
   },
   {
    "duration": 0,
    "start_time": "2023-02-02T08:32:39.117Z"
   },
   {
    "duration": 0,
    "start_time": "2023-02-02T08:32:39.119Z"
   },
   {
    "duration": 155,
    "start_time": "2023-02-02T08:33:02.041Z"
   },
   {
    "duration": 22,
    "start_time": "2023-02-02T08:35:19.798Z"
   },
   {
    "duration": 6,
    "start_time": "2023-02-02T08:35:20.940Z"
   },
   {
    "duration": 6207,
    "start_time": "2023-02-02T08:35:24.190Z"
   },
   {
    "duration": 5712,
    "start_time": "2023-02-02T08:36:04.586Z"
   },
   {
    "duration": 3,
    "start_time": "2023-02-02T08:36:12.846Z"
   },
   {
    "duration": 147,
    "start_time": "2023-02-02T08:36:36.253Z"
   },
   {
    "duration": 8,
    "start_time": "2023-02-02T08:36:38.984Z"
   },
   {
    "duration": 5,
    "start_time": "2023-02-02T08:38:03.982Z"
   },
   {
    "duration": 746,
    "start_time": "2023-02-02T08:38:03.989Z"
   },
   {
    "duration": 6,
    "start_time": "2023-02-02T08:38:04.737Z"
   },
   {
    "duration": 8,
    "start_time": "2023-02-02T08:38:04.745Z"
   },
   {
    "duration": 6,
    "start_time": "2023-02-02T08:38:04.755Z"
   },
   {
    "duration": 6,
    "start_time": "2023-02-02T08:38:04.763Z"
   },
   {
    "duration": 24,
    "start_time": "2023-02-02T08:38:04.770Z"
   },
   {
    "duration": 8,
    "start_time": "2023-02-02T08:38:04.796Z"
   },
   {
    "duration": 7,
    "start_time": "2023-02-02T08:38:04.805Z"
   },
   {
    "duration": 12,
    "start_time": "2023-02-02T08:38:04.813Z"
   },
   {
    "duration": 16,
    "start_time": "2023-02-02T08:38:04.826Z"
   },
   {
    "duration": 143,
    "start_time": "2023-02-02T08:38:04.843Z"
   },
   {
    "duration": 16,
    "start_time": "2023-02-02T08:38:04.988Z"
   },
   {
    "duration": 8,
    "start_time": "2023-02-02T08:38:05.007Z"
   },
   {
    "duration": 13,
    "start_time": "2023-02-02T08:38:05.017Z"
   },
   {
    "duration": 22,
    "start_time": "2023-02-02T08:38:05.032Z"
   },
   {
    "duration": 1539,
    "start_time": "2023-02-02T08:38:05.055Z"
   },
   {
    "duration": 920,
    "start_time": "2023-02-02T08:38:06.596Z"
   },
   {
    "duration": 11,
    "start_time": "2023-02-02T08:38:07.517Z"
   },
   {
    "duration": 597,
    "start_time": "2023-02-02T08:38:07.529Z"
   },
   {
    "duration": 400,
    "start_time": "2023-02-02T08:38:08.128Z"
   },
   {
    "duration": 388,
    "start_time": "2023-02-02T08:38:08.530Z"
   },
   {
    "duration": 3,
    "start_time": "2023-02-02T08:38:08.920Z"
   },
   {
    "duration": 18,
    "start_time": "2023-02-02T08:38:08.924Z"
   },
   {
    "duration": 9,
    "start_time": "2023-02-02T08:38:08.944Z"
   },
   {
    "duration": 27,
    "start_time": "2023-02-02T08:38:08.955Z"
   },
   {
    "duration": 23,
    "start_time": "2023-02-02T08:38:08.984Z"
   },
   {
    "duration": 5790,
    "start_time": "2023-02-02T08:38:09.009Z"
   },
   {
    "duration": 5499,
    "start_time": "2023-02-02T08:38:14.801Z"
   },
   {
    "duration": 92,
    "start_time": "2023-02-02T08:38:20.302Z"
   },
   {
    "duration": 181,
    "start_time": "2023-02-02T08:38:20.396Z"
   },
   {
    "duration": 18,
    "start_time": "2023-02-02T08:38:20.579Z"
   },
   {
    "duration": 27,
    "start_time": "2023-02-02T09:41:44.659Z"
   },
   {
    "duration": 54,
    "start_time": "2023-02-03T06:59:47.190Z"
   },
   {
    "duration": 1481,
    "start_time": "2023-02-03T06:59:52.879Z"
   },
   {
    "duration": 3099,
    "start_time": "2023-02-03T06:59:54.362Z"
   },
   {
    "duration": 6,
    "start_time": "2023-02-03T06:59:57.463Z"
   },
   {
    "duration": 11,
    "start_time": "2023-02-03T06:59:57.471Z"
   },
   {
    "duration": 6,
    "start_time": "2023-02-03T06:59:57.484Z"
   },
   {
    "duration": 11,
    "start_time": "2023-02-03T06:59:57.492Z"
   },
   {
    "duration": 6,
    "start_time": "2023-02-03T06:59:57.504Z"
   },
   {
    "duration": 9,
    "start_time": "2023-02-03T06:59:57.511Z"
   },
   {
    "duration": 6,
    "start_time": "2023-02-03T07:00:00.257Z"
   },
   {
    "duration": 4,
    "start_time": "2023-02-03T07:16:24.188Z"
   },
   {
    "duration": 692,
    "start_time": "2023-02-03T07:16:24.194Z"
   },
   {
    "duration": 7,
    "start_time": "2023-02-03T07:16:24.888Z"
   },
   {
    "duration": 7,
    "start_time": "2023-02-03T07:16:24.897Z"
   },
   {
    "duration": 5,
    "start_time": "2023-02-03T07:16:24.907Z"
   },
   {
    "duration": 24,
    "start_time": "2023-02-03T07:16:24.914Z"
   },
   {
    "duration": 7,
    "start_time": "2023-02-03T07:16:24.940Z"
   },
   {
    "duration": 10,
    "start_time": "2023-02-03T07:16:24.948Z"
   },
   {
    "duration": 5,
    "start_time": "2023-02-03T07:16:24.960Z"
   },
   {
    "duration": 11,
    "start_time": "2023-02-03T07:16:24.966Z"
   },
   {
    "duration": 10,
    "start_time": "2023-02-03T07:16:24.978Z"
   },
   {
    "duration": 48,
    "start_time": "2023-02-03T07:16:24.990Z"
   },
   {
    "duration": 137,
    "start_time": "2023-02-03T07:16:25.040Z"
   },
   {
    "duration": 16,
    "start_time": "2023-02-03T07:16:25.179Z"
   },
   {
    "duration": 6,
    "start_time": "2023-02-03T07:16:25.197Z"
   },
   {
    "duration": 33,
    "start_time": "2023-02-03T07:16:25.204Z"
   },
   {
    "duration": 25,
    "start_time": "2023-02-03T07:16:25.238Z"
   },
   {
    "duration": 1671,
    "start_time": "2023-02-03T07:16:25.265Z"
   },
   {
    "duration": 995,
    "start_time": "2023-02-03T07:16:26.938Z"
   },
   {
    "duration": 14,
    "start_time": "2023-02-03T07:16:27.936Z"
   },
   {
    "duration": 732,
    "start_time": "2023-02-03T07:16:27.952Z"
   },
   {
    "duration": 441,
    "start_time": "2023-02-03T07:16:28.686Z"
   },
   {
    "duration": 440,
    "start_time": "2023-02-03T07:16:29.129Z"
   },
   {
    "duration": 74,
    "start_time": "2023-02-03T07:16:42.745Z"
   },
   {
    "duration": 438,
    "start_time": "2023-02-03T07:16:49.041Z"
   },
   {
    "duration": 5,
    "start_time": "2023-02-03T07:19:22.010Z"
   },
   {
    "duration": 668,
    "start_time": "2023-02-03T07:19:22.028Z"
   },
   {
    "duration": 5,
    "start_time": "2023-02-03T07:19:22.698Z"
   },
   {
    "duration": 25,
    "start_time": "2023-02-03T07:19:22.705Z"
   },
   {
    "duration": 10,
    "start_time": "2023-02-03T07:19:22.733Z"
   },
   {
    "duration": 23,
    "start_time": "2023-02-03T07:19:22.744Z"
   },
   {
    "duration": 36,
    "start_time": "2023-02-03T07:19:22.768Z"
   },
   {
    "duration": 14,
    "start_time": "2023-02-03T07:19:22.806Z"
   },
   {
    "duration": 29,
    "start_time": "2023-02-03T07:19:22.821Z"
   },
   {
    "duration": 18,
    "start_time": "2023-02-03T07:19:22.852Z"
   },
   {
    "duration": 22,
    "start_time": "2023-02-03T07:19:22.872Z"
   },
   {
    "duration": 42,
    "start_time": "2023-02-03T07:19:22.896Z"
   },
   {
    "duration": 131,
    "start_time": "2023-02-03T07:19:22.941Z"
   },
   {
    "duration": 19,
    "start_time": "2023-02-03T07:19:23.075Z"
   },
   {
    "duration": 22,
    "start_time": "2023-02-03T07:19:23.095Z"
   },
   {
    "duration": 34,
    "start_time": "2023-02-03T07:19:23.119Z"
   },
   {
    "duration": 48,
    "start_time": "2023-02-03T07:19:23.155Z"
   },
   {
    "duration": 1660,
    "start_time": "2023-02-03T07:19:23.206Z"
   },
   {
    "duration": 1054,
    "start_time": "2023-02-03T07:19:24.868Z"
   },
   {
    "duration": 18,
    "start_time": "2023-02-03T07:19:25.924Z"
   },
   {
    "duration": 669,
    "start_time": "2023-02-03T07:19:25.944Z"
   },
   {
    "duration": 437,
    "start_time": "2023-02-03T07:19:26.615Z"
   },
   {
    "duration": 434,
    "start_time": "2023-02-03T07:19:27.054Z"
   },
   {
    "duration": 84,
    "start_time": "2023-02-03T07:19:27.490Z"
   },
   {
    "duration": 428,
    "start_time": "2023-02-03T07:19:27.576Z"
   },
   {
    "duration": 3,
    "start_time": "2023-02-03T07:19:28.006Z"
   },
   {
    "duration": 15,
    "start_time": "2023-02-03T07:19:28.011Z"
   },
   {
    "duration": 8,
    "start_time": "2023-02-03T07:19:28.028Z"
   },
   {
    "duration": 23,
    "start_time": "2023-02-03T07:19:28.038Z"
   },
   {
    "duration": 15,
    "start_time": "2023-02-03T07:19:28.062Z"
   },
   {
    "duration": 83,
    "start_time": "2023-02-03T07:26:30.246Z"
   },
   {
    "duration": 155,
    "start_time": "2023-02-03T07:29:18.857Z"
   },
   {
    "duration": 3317,
    "start_time": "2023-02-03T07:29:38.143Z"
   },
   {
    "duration": 60592,
    "start_time": "2023-02-03T07:29:54.348Z"
   },
   {
    "duration": 3753,
    "start_time": "2023-02-03T07:31:07.562Z"
   },
   {
    "duration": 15540,
    "start_time": "2023-02-03T07:32:08.243Z"
   },
   {
    "duration": 349,
    "start_time": "2023-02-03T07:33:10.382Z"
   },
   {
    "duration": 5697,
    "start_time": "2023-02-03T07:33:58.409Z"
   },
   {
    "duration": 51,
    "start_time": "2023-02-03T07:35:47.733Z"
   },
   {
    "duration": 16076,
    "start_time": "2023-02-03T07:36:00.546Z"
   },
   {
    "duration": 96,
    "start_time": "2023-02-03T07:36:50.198Z"
   },
   {
    "duration": 7904,
    "start_time": "2023-02-03T07:36:56.374Z"
   },
   {
    "duration": 4,
    "start_time": "2023-02-03T07:37:13.691Z"
   },
   {
    "duration": 5575,
    "start_time": "2023-02-03T07:38:24.971Z"
   },
   {
    "duration": 5774,
    "start_time": "2023-02-03T07:38:36.366Z"
   },
   {
    "duration": 3,
    "start_time": "2023-02-03T07:38:46.439Z"
   },
   {
    "duration": 144,
    "start_time": "2023-02-03T07:38:53.563Z"
   },
   {
    "duration": 4,
    "start_time": "2023-02-03T07:39:13.674Z"
   },
   {
    "duration": 717,
    "start_time": "2023-02-03T07:39:13.680Z"
   },
   {
    "duration": 6,
    "start_time": "2023-02-03T07:39:14.399Z"
   },
   {
    "duration": 26,
    "start_time": "2023-02-03T07:39:14.407Z"
   },
   {
    "duration": 45,
    "start_time": "2023-02-03T07:39:14.436Z"
   },
   {
    "duration": 38,
    "start_time": "2023-02-03T07:39:14.483Z"
   },
   {
    "duration": 39,
    "start_time": "2023-02-03T07:39:14.523Z"
   },
   {
    "duration": 23,
    "start_time": "2023-02-03T07:39:14.564Z"
   },
   {
    "duration": 22,
    "start_time": "2023-02-03T07:39:14.589Z"
   },
   {
    "duration": 26,
    "start_time": "2023-02-03T07:39:14.613Z"
   },
   {
    "duration": 34,
    "start_time": "2023-02-03T07:39:14.640Z"
   },
   {
    "duration": 30,
    "start_time": "2023-02-03T07:39:14.676Z"
   },
   {
    "duration": 152,
    "start_time": "2023-02-03T07:39:14.708Z"
   },
   {
    "duration": 16,
    "start_time": "2023-02-03T07:39:14.864Z"
   },
   {
    "duration": 11,
    "start_time": "2023-02-03T07:39:14.882Z"
   },
   {
    "duration": 9,
    "start_time": "2023-02-03T07:39:14.895Z"
   },
   {
    "duration": 47,
    "start_time": "2023-02-03T07:39:14.906Z"
   },
   {
    "duration": 1652,
    "start_time": "2023-02-03T07:39:14.955Z"
   },
   {
    "duration": 1171,
    "start_time": "2023-02-03T07:39:16.609Z"
   },
   {
    "duration": 13,
    "start_time": "2023-02-03T07:39:17.783Z"
   },
   {
    "duration": 583,
    "start_time": "2023-02-03T07:39:17.798Z"
   },
   {
    "duration": 465,
    "start_time": "2023-02-03T07:39:18.383Z"
   },
   {
    "duration": 403,
    "start_time": "2023-02-03T07:39:18.850Z"
   },
   {
    "duration": 91,
    "start_time": "2023-02-03T07:39:19.255Z"
   },
   {
    "duration": 439,
    "start_time": "2023-02-03T07:39:19.348Z"
   },
   {
    "duration": 4,
    "start_time": "2023-02-03T07:39:19.789Z"
   },
   {
    "duration": 37,
    "start_time": "2023-02-03T07:39:19.795Z"
   },
   {
    "duration": 43,
    "start_time": "2023-02-03T07:39:19.834Z"
   },
   {
    "duration": 37,
    "start_time": "2023-02-03T07:39:19.879Z"
   },
   {
    "duration": 41,
    "start_time": "2023-02-03T07:39:19.918Z"
   },
   {
    "duration": 5383,
    "start_time": "2023-02-03T07:39:19.960Z"
   },
   {
    "duration": 5691,
    "start_time": "2023-02-03T07:39:25.347Z"
   },
   {
    "duration": 4,
    "start_time": "2023-02-03T07:39:31.041Z"
   },
   {
    "duration": 262,
    "start_time": "2023-02-03T07:39:31.047Z"
   },
   {
    "duration": 15211,
    "start_time": "2023-02-03T07:39:31.312Z"
   },
   {
    "duration": 5551,
    "start_time": "2023-02-03T07:39:46.525Z"
   },
   {
    "duration": 15534,
    "start_time": "2023-02-03T07:39:52.078Z"
   },
   {
    "duration": 7960,
    "start_time": "2023-02-03T07:40:07.614Z"
   },
   {
    "duration": 3,
    "start_time": "2023-02-03T07:40:15.576Z"
   },
   {
    "duration": 44,
    "start_time": "2023-02-03T07:40:15.581Z"
   },
   {
    "duration": 238,
    "start_time": "2023-02-03T07:41:46.801Z"
   },
   {
    "duration": 204,
    "start_time": "2023-02-03T07:42:25.945Z"
   },
   {
    "duration": 5,
    "start_time": "2023-02-03T07:42:45.854Z"
   },
   {
    "duration": 695,
    "start_time": "2023-02-03T07:42:45.862Z"
   },
   {
    "duration": 7,
    "start_time": "2023-02-03T07:42:46.559Z"
   },
   {
    "duration": 54,
    "start_time": "2023-02-03T07:42:46.568Z"
   },
   {
    "duration": 35,
    "start_time": "2023-02-03T07:42:46.624Z"
   },
   {
    "duration": 34,
    "start_time": "2023-02-03T07:42:46.662Z"
   },
   {
    "duration": 28,
    "start_time": "2023-02-03T07:42:46.699Z"
   },
   {
    "duration": 27,
    "start_time": "2023-02-03T07:42:46.730Z"
   },
   {
    "duration": 32,
    "start_time": "2023-02-03T07:42:46.759Z"
   },
   {
    "duration": 25,
    "start_time": "2023-02-03T07:42:46.794Z"
   },
   {
    "duration": 39,
    "start_time": "2023-02-03T07:42:46.822Z"
   },
   {
    "duration": 40,
    "start_time": "2023-02-03T07:42:46.864Z"
   },
   {
    "duration": 146,
    "start_time": "2023-02-03T07:42:46.906Z"
   },
   {
    "duration": 17,
    "start_time": "2023-02-03T07:42:47.055Z"
   },
   {
    "duration": 41,
    "start_time": "2023-02-03T07:42:47.074Z"
   },
   {
    "duration": 29,
    "start_time": "2023-02-03T07:42:47.116Z"
   },
   {
    "duration": 55,
    "start_time": "2023-02-03T07:42:47.147Z"
   },
   {
    "duration": 1796,
    "start_time": "2023-02-03T07:42:47.204Z"
   },
   {
    "duration": 1257,
    "start_time": "2023-02-03T07:42:49.003Z"
   },
   {
    "duration": 13,
    "start_time": "2023-02-03T07:42:50.261Z"
   },
   {
    "duration": 527,
    "start_time": "2023-02-03T07:42:50.276Z"
   },
   {
    "duration": 425,
    "start_time": "2023-02-03T07:42:50.805Z"
   },
   {
    "duration": 419,
    "start_time": "2023-02-03T07:42:51.236Z"
   },
   {
    "duration": 80,
    "start_time": "2023-02-03T07:42:51.657Z"
   },
   {
    "duration": 558,
    "start_time": "2023-02-03T07:42:51.739Z"
   },
   {
    "duration": 4,
    "start_time": "2023-02-03T07:42:52.299Z"
   },
   {
    "duration": 39,
    "start_time": "2023-02-03T07:42:52.304Z"
   },
   {
    "duration": 36,
    "start_time": "2023-02-03T07:42:52.344Z"
   },
   {
    "duration": 35,
    "start_time": "2023-02-03T07:42:52.382Z"
   },
   {
    "duration": 34,
    "start_time": "2023-02-03T07:42:52.419Z"
   },
   {
    "duration": 4683,
    "start_time": "2023-02-03T07:42:52.455Z"
   },
   {
    "duration": 5697,
    "start_time": "2023-02-03T07:42:57.140Z"
   },
   {
    "duration": 6,
    "start_time": "2023-02-03T07:43:02.839Z"
   },
   {
    "duration": 240,
    "start_time": "2023-02-03T07:43:02.847Z"
   },
   {
    "duration": 15260,
    "start_time": "2023-02-03T07:43:03.089Z"
   },
   {
    "duration": 5496,
    "start_time": "2023-02-03T07:43:18.351Z"
   },
   {
    "duration": 15611,
    "start_time": "2023-02-03T07:43:23.849Z"
   },
   {
    "duration": 7986,
    "start_time": "2023-02-03T07:43:39.462Z"
   },
   {
    "duration": 4,
    "start_time": "2023-02-03T07:43:47.450Z"
   },
   {
    "duration": 191,
    "start_time": "2023-02-03T07:43:56.047Z"
   },
   {
    "duration": 4,
    "start_time": "2023-02-03T07:46:17.089Z"
   },
   {
    "duration": 691,
    "start_time": "2023-02-03T07:46:17.095Z"
   },
   {
    "duration": 6,
    "start_time": "2023-02-03T07:46:17.788Z"
   },
   {
    "duration": 40,
    "start_time": "2023-02-03T07:46:17.795Z"
   },
   {
    "duration": 11,
    "start_time": "2023-02-03T07:46:17.837Z"
   },
   {
    "duration": 26,
    "start_time": "2023-02-03T07:46:17.850Z"
   },
   {
    "duration": 14,
    "start_time": "2023-02-03T07:46:17.878Z"
   },
   {
    "duration": 19,
    "start_time": "2023-02-03T07:46:17.894Z"
   },
   {
    "duration": 26,
    "start_time": "2023-02-03T07:46:17.915Z"
   },
   {
    "duration": 17,
    "start_time": "2023-02-03T07:46:17.943Z"
   },
   {
    "duration": 23,
    "start_time": "2023-02-03T07:46:17.961Z"
   },
   {
    "duration": 44,
    "start_time": "2023-02-03T07:46:17.986Z"
   },
   {
    "duration": 130,
    "start_time": "2023-02-03T07:46:18.032Z"
   },
   {
    "duration": 15,
    "start_time": "2023-02-03T07:46:18.165Z"
   },
   {
    "duration": 30,
    "start_time": "2023-02-03T07:46:18.182Z"
   },
   {
    "duration": 31,
    "start_time": "2023-02-03T07:46:18.214Z"
   },
   {
    "duration": 39,
    "start_time": "2023-02-03T07:46:18.247Z"
   },
   {
    "duration": 1591,
    "start_time": "2023-02-03T07:46:18.288Z"
   },
   {
    "duration": 1137,
    "start_time": "2023-02-03T07:46:19.880Z"
   },
   {
    "duration": 19,
    "start_time": "2023-02-03T07:46:21.019Z"
   },
   {
    "duration": 519,
    "start_time": "2023-02-03T07:46:21.040Z"
   },
   {
    "duration": 435,
    "start_time": "2023-02-03T07:46:21.561Z"
   },
   {
    "duration": 529,
    "start_time": "2023-02-03T07:46:21.998Z"
   },
   {
    "duration": 80,
    "start_time": "2023-02-03T07:46:22.529Z"
   },
   {
    "duration": 433,
    "start_time": "2023-02-03T07:46:22.611Z"
   },
   {
    "duration": 4,
    "start_time": "2023-02-03T07:46:23.046Z"
   },
   {
    "duration": 8,
    "start_time": "2023-02-03T07:46:23.052Z"
   },
   {
    "duration": 5,
    "start_time": "2023-02-03T07:46:23.062Z"
   },
   {
    "duration": 14,
    "start_time": "2023-02-03T07:46:23.068Z"
   },
   {
    "duration": 9,
    "start_time": "2023-02-03T07:46:23.084Z"
   },
   {
    "duration": 4843,
    "start_time": "2023-02-03T07:46:23.094Z"
   },
   {
    "duration": 5704,
    "start_time": "2023-02-03T07:46:27.939Z"
   },
   {
    "duration": 92,
    "start_time": "2023-02-03T07:46:33.646Z"
   },
   {
    "duration": 245,
    "start_time": "2023-02-03T07:46:33.740Z"
   },
   {
    "duration": 15076,
    "start_time": "2023-02-03T07:46:33.988Z"
   },
   {
    "duration": 5517,
    "start_time": "2023-02-03T07:46:49.066Z"
   },
   {
    "duration": 15530,
    "start_time": "2023-02-03T07:46:54.585Z"
   },
   {
    "duration": 7788,
    "start_time": "2023-02-03T07:47:10.117Z"
   },
   {
    "duration": 4,
    "start_time": "2023-02-03T07:47:17.906Z"
   },
   {
    "duration": 327,
    "start_time": "2023-02-03T07:47:17.911Z"
   },
   {
    "duration": 441,
    "start_time": "2023-02-03T07:55:32.300Z"
   },
   {
    "duration": 1555,
    "start_time": "2023-02-03T13:25:06.046Z"
   },
   {
    "duration": 3195,
    "start_time": "2023-02-03T13:25:07.604Z"
   },
   {
    "duration": 8,
    "start_time": "2023-02-03T13:25:10.801Z"
   },
   {
    "duration": 13,
    "start_time": "2023-02-03T13:25:10.810Z"
   },
   {
    "duration": 13,
    "start_time": "2023-02-03T13:25:10.825Z"
   },
   {
    "duration": 10,
    "start_time": "2023-02-03T13:25:10.839Z"
   },
   {
    "duration": 6,
    "start_time": "2023-02-03T13:25:10.850Z"
   },
   {
    "duration": 8,
    "start_time": "2023-02-03T13:25:10.858Z"
   },
   {
    "duration": 11,
    "start_time": "2023-02-03T13:25:10.868Z"
   },
   {
    "duration": 11,
    "start_time": "2023-02-03T13:25:10.881Z"
   },
   {
    "duration": 15,
    "start_time": "2023-02-03T13:25:10.894Z"
   },
   {
    "duration": 18,
    "start_time": "2023-02-03T13:25:10.910Z"
   },
   {
    "duration": 148,
    "start_time": "2023-02-03T13:25:10.929Z"
   },
   {
    "duration": 18,
    "start_time": "2023-02-03T13:25:11.080Z"
   },
   {
    "duration": 6,
    "start_time": "2023-02-03T13:25:11.100Z"
   },
   {
    "duration": 12,
    "start_time": "2023-02-03T13:25:11.107Z"
   },
   {
    "duration": 33,
    "start_time": "2023-02-03T13:25:11.122Z"
   },
   {
    "duration": 1553,
    "start_time": "2023-02-03T13:25:11.156Z"
   },
   {
    "duration": 943,
    "start_time": "2023-02-03T13:25:12.711Z"
   },
   {
    "duration": 14,
    "start_time": "2023-02-03T13:25:13.656Z"
   },
   {
    "duration": 587,
    "start_time": "2023-02-03T13:25:13.672Z"
   },
   {
    "duration": 421,
    "start_time": "2023-02-03T13:25:14.261Z"
   },
   {
    "duration": 394,
    "start_time": "2023-02-03T13:25:14.683Z"
   },
   {
    "duration": 75,
    "start_time": "2023-02-03T13:25:15.079Z"
   },
   {
    "duration": 400,
    "start_time": "2023-02-03T13:25:15.156Z"
   },
   {
    "duration": 3,
    "start_time": "2023-02-03T13:25:15.558Z"
   },
   {
    "duration": 10,
    "start_time": "2023-02-03T13:25:15.563Z"
   },
   {
    "duration": 9,
    "start_time": "2023-02-03T13:25:15.575Z"
   },
   {
    "duration": 10,
    "start_time": "2023-02-03T13:25:15.591Z"
   },
   {
    "duration": 12,
    "start_time": "2023-02-03T13:25:15.602Z"
   },
   {
    "duration": 7480,
    "start_time": "2023-02-03T13:25:15.616Z"
   },
   {
    "duration": 11496,
    "start_time": "2023-02-03T13:25:23.099Z"
   },
   {
    "duration": 4,
    "start_time": "2023-02-03T13:25:34.598Z"
   },
   {
    "duration": 238,
    "start_time": "2023-02-03T13:25:34.604Z"
   },
   {
    "duration": 14819,
    "start_time": "2023-02-03T13:25:34.845Z"
   },
   {
    "duration": 5201,
    "start_time": "2023-02-03T13:25:49.666Z"
   },
   {
    "duration": 14804,
    "start_time": "2023-02-03T13:25:54.868Z"
   },
   {
    "duration": 7827,
    "start_time": "2023-02-03T13:26:09.674Z"
   },
   {
    "duration": 3,
    "start_time": "2023-02-03T13:26:17.503Z"
   },
   {
    "duration": 594,
    "start_time": "2023-02-03T13:26:17.509Z"
   },
   {
    "duration": 1626,
    "start_time": "2023-02-03T13:45:35.380Z"
   },
   {
    "duration": 10212,
    "start_time": "2023-02-03T13:46:25.998Z"
   },
   {
    "duration": 9853,
    "start_time": "2023-02-03T13:47:02.241Z"
   },
   {
    "duration": 371,
    "start_time": "2023-02-03T13:47:28.729Z"
   },
   {
    "duration": 1057,
    "start_time": "2023-02-03T13:50:00.541Z"
   },
   {
    "duration": 19,
    "start_time": "2023-02-03T13:51:06.355Z"
   },
   {
    "duration": 7,
    "start_time": "2023-02-03T13:53:10.124Z"
   },
   {
    "duration": 4,
    "start_time": "2023-02-03T13:53:31.313Z"
   },
   {
    "duration": 1322,
    "start_time": "2023-02-03T13:53:39.004Z"
   },
   {
    "duration": 1306,
    "start_time": "2023-02-03T13:53:50.625Z"
   },
   {
    "duration": 6,
    "start_time": "2023-02-03T13:53:59.824Z"
   },
   {
    "duration": 730,
    "start_time": "2023-02-03T13:53:59.833Z"
   },
   {
    "duration": 6,
    "start_time": "2023-02-03T13:54:00.565Z"
   },
   {
    "duration": 26,
    "start_time": "2023-02-03T13:54:00.594Z"
   },
   {
    "duration": 19,
    "start_time": "2023-02-03T13:54:00.622Z"
   },
   {
    "duration": 24,
    "start_time": "2023-02-03T13:54:00.645Z"
   },
   {
    "duration": 45,
    "start_time": "2023-02-03T13:54:00.671Z"
   },
   {
    "duration": 29,
    "start_time": "2023-02-03T13:54:00.717Z"
   },
   {
    "duration": 12,
    "start_time": "2023-02-03T13:54:00.748Z"
   },
   {
    "duration": 27,
    "start_time": "2023-02-03T13:54:00.763Z"
   },
   {
    "duration": 61,
    "start_time": "2023-02-03T13:54:00.792Z"
   },
   {
    "duration": 34,
    "start_time": "2023-02-03T13:54:00.855Z"
   },
   {
    "duration": 159,
    "start_time": "2023-02-03T13:54:00.891Z"
   },
   {
    "duration": 15,
    "start_time": "2023-02-03T13:54:01.053Z"
   },
   {
    "duration": 46,
    "start_time": "2023-02-03T13:54:01.070Z"
   },
   {
    "duration": 28,
    "start_time": "2023-02-03T13:54:01.120Z"
   },
   {
    "duration": 50,
    "start_time": "2023-02-03T13:54:01.150Z"
   },
   {
    "duration": 1742,
    "start_time": "2023-02-03T13:54:01.204Z"
   },
   {
    "duration": 1175,
    "start_time": "2023-02-03T13:54:02.948Z"
   },
   {
    "duration": 18,
    "start_time": "2023-02-03T13:54:04.124Z"
   },
   {
    "duration": 512,
    "start_time": "2023-02-03T13:54:04.145Z"
   },
   {
    "duration": 429,
    "start_time": "2023-02-03T13:54:04.659Z"
   },
   {
    "duration": 411,
    "start_time": "2023-02-03T13:54:05.098Z"
   },
   {
    "duration": 96,
    "start_time": "2023-02-03T13:54:05.516Z"
   },
   {
    "duration": 437,
    "start_time": "2023-02-03T13:54:05.614Z"
   },
   {
    "duration": 4,
    "start_time": "2023-02-03T13:54:06.053Z"
   },
   {
    "duration": 10,
    "start_time": "2023-02-03T13:54:06.060Z"
   },
   {
    "duration": 26,
    "start_time": "2023-02-03T13:54:06.075Z"
   },
   {
    "duration": 25,
    "start_time": "2023-02-03T13:54:06.103Z"
   },
   {
    "duration": 8,
    "start_time": "2023-02-03T13:54:06.130Z"
   },
   {
    "duration": 10,
    "start_time": "2023-02-03T13:54:06.140Z"
   },
   {
    "duration": 9850,
    "start_time": "2023-02-03T13:54:06.153Z"
   },
   {
    "duration": 10527,
    "start_time": "2023-02-03T13:54:16.005Z"
   },
   {
    "duration": 7,
    "start_time": "2023-02-03T13:54:26.595Z"
   },
   {
    "duration": 260,
    "start_time": "2023-02-03T13:54:26.611Z"
   },
   {
    "duration": 15457,
    "start_time": "2023-02-03T13:54:26.873Z"
   },
   {
    "duration": 5766,
    "start_time": "2023-02-03T13:54:42.332Z"
   },
   {
    "duration": 16285,
    "start_time": "2023-02-03T13:54:48.100Z"
   },
   {
    "duration": 8265,
    "start_time": "2023-02-03T13:55:04.393Z"
   },
   {
    "duration": 4,
    "start_time": "2023-02-03T13:55:12.660Z"
   },
   {
    "duration": 768,
    "start_time": "2023-02-03T13:55:12.666Z"
   }
  ],
  "kernelspec": {
   "display_name": "Python 3 (ipykernel)",
   "language": "python",
   "name": "python3"
  },
  "language_info": {
   "codemirror_mode": {
    "name": "ipython",
    "version": 3
   },
   "file_extension": ".py",
   "mimetype": "text/x-python",
   "name": "python",
   "nbconvert_exporter": "python",
   "pygments_lexer": "ipython3",
   "version": "3.9.5"
  },
  "toc": {
   "base_numbering": 1,
   "nav_menu": {},
   "number_sections": true,
   "sideBar": true,
   "skip_h1_title": true,
   "title_cell": "Содержание",
   "title_sidebar": "Contents",
   "toc_cell": true,
   "toc_position": {
    "height": "calc(100% - 180px)",
    "left": "10px",
    "top": "150px",
    "width": "165px"
   },
   "toc_section_display": true,
   "toc_window_display": true
  }
 },
 "nbformat": 4,
 "nbformat_minor": 2
}
