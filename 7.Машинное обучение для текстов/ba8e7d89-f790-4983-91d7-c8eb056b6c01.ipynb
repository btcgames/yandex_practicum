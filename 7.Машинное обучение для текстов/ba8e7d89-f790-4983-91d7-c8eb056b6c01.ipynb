{
 "cells": [
  {
   "cell_type": "markdown",
   "metadata": {},
   "source": [
    "# Проект для «Викишоп»"
   ]
  },
  {
   "cell_type": "markdown",
   "metadata": {},
   "source": [
    "Интернет-магазин «Викишоп» запускает новый сервис. Теперь пользователи могут редактировать и дополнять описания товаров, как в вики-сообществах. То есть клиенты предлагают свои правки и комментируют изменения других. Магазину нужен инструмент, который будет искать токсичные комментарии и отправлять их на модерацию. \n",
    "\n",
    "Обучите модель классифицировать комментарии на позитивные и негативные. В вашем распоряжении набор данных с разметкой о токсичности правок.\n",
    "\n",
    "Постройте модель со значением метрики качества *F1* не меньше 0.75. \n",
    "\n",
    "**Инструкция по выполнению проекта**\n",
    "\n",
    "1. Загрузите и подготовьте данные.\n",
    "2. Обучите разные модели. \n",
    "3. Сделайте выводы.\n",
    "\n",
    "Для выполнения проекта применять *BERT* необязательно, но вы можете попробовать.\n",
    "\n",
    "**Описание данных**\n",
    "\n",
    "Данные находятся в файле `toxic_comments.csv`. Столбец *text* в нём содержит текст комментария, а *toxic* — целевой признак."
   ]
  },
  {
   "cell_type": "markdown",
   "metadata": {},
   "source": [
    "## Подготовка"
   ]
  },
  {
   "cell_type": "code",
   "execution_count": 11,
   "metadata": {},
   "outputs": [],
   "source": [
    "import time\n",
    "import warnings\n",
    "\n",
    "import matplotlib.pyplot as plt\n",
    "import numpy as np\n",
    "import pandas as pd\n",
    "import re\n",
    "\n",
    "import spacy\n",
    "from nltk.stem import WordNetLemmatizer \n",
    "from nltk.corpus import stopwords\n",
    "import nltk\n",
    "\n",
    "from sklearn.linear_model import LogisticRegression\n",
    "from catboost import CatBoostRegressor\n",
    "\n",
    "from sklearn.feature_extraction.text import TfidfVectorizer\n",
    "from sklearn.metrics import f1_score\n",
    "from sklearn.model_selection import GridSearchCV\n",
    "from sklearn.model_selection import KFold\n",
    "from sklearn.model_selection import train_test_split\n",
    "from sklearn.model_selection import RandomizedSearchCV\n",
    "\n",
    "from sklearn.model_selection import cross_val_score\n",
    "\n",
    "from sklearn.tree import DecisionTreeClassifier\n",
    "from sklearn.utils import shuffle"
   ]
  },
  {
   "cell_type": "code",
   "execution_count": 12,
   "metadata": {},
   "outputs": [],
   "source": [
    "warnings.filterwarnings('ignore')"
   ]
  },
  {
   "cell_type": "code",
   "execution_count": 13,
   "metadata": {},
   "outputs": [],
   "source": [
    "df = pd.read_csv('/datasets/toxic_comments.csv')"
   ]
  },
  {
   "cell_type": "code",
   "execution_count": 14,
   "metadata": {},
   "outputs": [
    {
     "data": {
      "text/html": [
       "<div>\n",
       "<style scoped>\n",
       "    .dataframe tbody tr th:only-of-type {\n",
       "        vertical-align: middle;\n",
       "    }\n",
       "\n",
       "    .dataframe tbody tr th {\n",
       "        vertical-align: top;\n",
       "    }\n",
       "\n",
       "    .dataframe thead th {\n",
       "        text-align: right;\n",
       "    }\n",
       "</style>\n",
       "<table border=\"1\" class=\"dataframe\">\n",
       "  <thead>\n",
       "    <tr style=\"text-align: right;\">\n",
       "      <th></th>\n",
       "      <th>Unnamed: 0</th>\n",
       "      <th>text</th>\n",
       "      <th>toxic</th>\n",
       "    </tr>\n",
       "  </thead>\n",
       "  <tbody>\n",
       "    <tr>\n",
       "      <th>0</th>\n",
       "      <td>0</td>\n",
       "      <td>Explanation\\nWhy the edits made under my usern...</td>\n",
       "      <td>0</td>\n",
       "    </tr>\n",
       "    <tr>\n",
       "      <th>1</th>\n",
       "      <td>1</td>\n",
       "      <td>D'aww! He matches this background colour I'm s...</td>\n",
       "      <td>0</td>\n",
       "    </tr>\n",
       "    <tr>\n",
       "      <th>2</th>\n",
       "      <td>2</td>\n",
       "      <td>Hey man, I'm really not trying to edit war. It...</td>\n",
       "      <td>0</td>\n",
       "    </tr>\n",
       "    <tr>\n",
       "      <th>3</th>\n",
       "      <td>3</td>\n",
       "      <td>\"\\nMore\\nI can't make any real suggestions on ...</td>\n",
       "      <td>0</td>\n",
       "    </tr>\n",
       "    <tr>\n",
       "      <th>4</th>\n",
       "      <td>4</td>\n",
       "      <td>You, sir, are my hero. Any chance you remember...</td>\n",
       "      <td>0</td>\n",
       "    </tr>\n",
       "  </tbody>\n",
       "</table>\n",
       "</div>"
      ],
      "text/plain": [
       "   Unnamed: 0                                               text  toxic\n",
       "0           0  Explanation\\nWhy the edits made under my usern...      0\n",
       "1           1  D'aww! He matches this background colour I'm s...      0\n",
       "2           2  Hey man, I'm really not trying to edit war. It...      0\n",
       "3           3  \"\\nMore\\nI can't make any real suggestions on ...      0\n",
       "4           4  You, sir, are my hero. Any chance you remember...      0"
      ]
     },
     "execution_count": 14,
     "metadata": {},
     "output_type": "execute_result"
    }
   ],
   "source": [
    "df.head()"
   ]
  },
  {
   "cell_type": "code",
   "execution_count": 15,
   "metadata": {},
   "outputs": [
    {
     "name": "stdout",
     "output_type": "stream",
     "text": [
      "<class 'pandas.core.frame.DataFrame'>\n",
      "RangeIndex: 159292 entries, 0 to 159291\n",
      "Data columns (total 3 columns):\n",
      " #   Column      Non-Null Count   Dtype \n",
      "---  ------      --------------   ----- \n",
      " 0   Unnamed: 0  159292 non-null  int64 \n",
      " 1   text        159292 non-null  object\n",
      " 2   toxic       159292 non-null  int64 \n",
      "dtypes: int64(2), object(1)\n",
      "memory usage: 3.6+ MB\n"
     ]
    }
   ],
   "source": [
    "df.info()"
   ]
  },
  {
   "cell_type": "markdown",
   "metadata": {},
   "source": [
    "Лемматизация"
   ]
  },
  {
   "cell_type": "code",
   "execution_count": 16,
   "metadata": {},
   "outputs": [],
   "source": [
    "nlp = spacy.load('en_core_web_sm', disable=['parser', 'ner'])\n",
    "\n",
    "def spacy_lemm(row):\n",
    "    doc = nlp(row)  \n",
    "    lemma = ' '.join([token.lemma_ for token in doc])\n",
    "    lemma = ''.join(re.sub(r'[^A-Za-z]',' ',lemma))\n",
    "    lemma = \" \".join(lemma.split())\n",
    "    return lemma"
   ]
  },
  {
   "cell_type": "code",
   "execution_count": 17,
   "metadata": {},
   "outputs": [],
   "source": [
    "df['lemm']=df['text'].apply(spacy_lemm)"
   ]
  },
  {
   "cell_type": "markdown",
   "metadata": {},
   "source": [
    "Разделим на тренировочную и тестову выборки"
   ]
  },
  {
   "cell_type": "code",
   "execution_count": 18,
   "metadata": {},
   "outputs": [],
   "source": [
    "target = df['toxic']\n",
    "features = df['lemm']\n",
    "\n",
    "features_train, features_valid, target_train, target_valid = train_test_split(features, \n",
    "                                                                              target, \n",
    "                                                                              test_size=0.2, \n",
    "                                                                              random_state=12345)"
   ]
  },
  {
   "cell_type": "markdown",
   "metadata": {},
   "source": [
    "Токенизация"
   ]
  },
  {
   "cell_type": "code",
   "execution_count": 19,
   "metadata": {},
   "outputs": [
    {
     "name": "stderr",
     "output_type": "stream",
     "text": [
      "[nltk_data] Downloading package stopwords to /home/jovyan/nltk_data...\n",
      "[nltk_data]   Package stopwords is already up-to-date!\n"
     ]
    }
   ],
   "source": [
    "nltk.download('stopwords')\n",
    "stop_words_my = set(stopwords.words('english'))"
   ]
  },
  {
   "cell_type": "code",
   "execution_count": 20,
   "metadata": {},
   "outputs": [],
   "source": [
    "corpus_train = features_train\n",
    "corpus_valid = features_valid"
   ]
  },
  {
   "cell_type": "code",
   "execution_count": 21,
   "metadata": {},
   "outputs": [
    {
     "name": "stdout",
     "output_type": "stream",
     "text": [
      "Размер матрицы train: (127433, 137317)\n",
      "Размер матрицы train: (31859, 137317)\n",
      "CPU times: user 6.68 s, sys: 95.6 ms, total: 6.78 s\n",
      "Wall time: 6.93 s\n"
     ]
    }
   ],
   "source": [
    "%%time\n",
    "count_tf_idf = TfidfVectorizer(stop_words=stop_words_my) \n",
    "\n",
    "tf_idf_train = count_tf_idf.fit_transform(corpus_train) \n",
    "tf_idf_valid = count_tf_idf.transform(corpus_valid)\n",
    "\n",
    "print(\"Размер матрицы train:\", tf_idf_train.shape)\n",
    "print(\"Размер матрицы train:\", tf_idf_valid.shape)"
   ]
  },
  {
   "cell_type": "markdown",
   "metadata": {},
   "source": [
    "## Обучение"
   ]
  },
  {
   "cell_type": "code",
   "execution_count": 22,
   "metadata": {},
   "outputs": [],
   "source": [
    "cv = KFold(n_splits=3, shuffle=True, random_state=12345)"
   ]
  },
  {
   "cell_type": "markdown",
   "metadata": {},
   "source": [
    "LogisticRegression "
   ]
  },
  {
   "cell_type": "code",
   "execution_count": 23,
   "metadata": {},
   "outputs": [
    {
     "name": "stdout",
     "output_type": "stream",
     "text": [
      "F1 на CV 0.7479530151518589\n",
      "CPU times: user 32.2 s, sys: 59.9 s, total: 1min 32s\n",
      "Wall time: 1min 32s\n"
     ]
    }
   ],
   "source": [
    "%%time\n",
    "\n",
    "model_lr_bal = LogisticRegression(class_weight='balanced')\n",
    "\n",
    "train_f1 = cross_val_score(model_lr_bal, \n",
    "                      tf_idf_train, \n",
    "                      target_train, \n",
    "                      cv=cv, \n",
    "                      scoring='f1')\n",
    "\n",
    "print('F1 на CV', train_f1.mean())"
   ]
  },
  {
   "cell_type": "markdown",
   "metadata": {},
   "source": [
    "DecisionTree "
   ]
  },
  {
   "cell_type": "code",
   "execution_count": 17,
   "metadata": {},
   "outputs": [
    {
     "name": "stdout",
     "output_type": "stream",
     "text": [
      "{'class_weight': 'balanced', 'max_depth': 100, 'random_state': 12345}\n",
      "CPU times: user 6min 25s, sys: 636 ms, total: 6min 26s\n",
      "Wall time: 6min 26s\n"
     ]
    }
   ],
   "source": [
    "%%time\n",
    "\n",
    "model_dt = DecisionTreeClassifier()\n",
    "params = [{'max_depth':[10,30,50,100],\n",
    "                'random_state':[12345],\n",
    "                'class_weight':['balanced']}]\n",
    "\n",
    "gridsearch = GridSearchCV(model_dt, params, scoring='f1',cv=cv)\n",
    "gridsearch.fit(tf_idf_train, target_train)\n",
    "print(gridsearch.best_params_)"
   ]
  },
  {
   "cell_type": "code",
   "execution_count": 18,
   "metadata": {},
   "outputs": [
    {
     "data": {
      "text/plain": [
       "0.6425070378296799"
      ]
     },
     "execution_count": 18,
     "metadata": {},
     "output_type": "execute_result"
    }
   ],
   "source": [
    "gridsearch.best_score_"
   ]
  },
  {
   "cell_type": "markdown",
   "metadata": {},
   "source": [
    "Модель LogisticRegression показала себя лучше. Проверим ее на тестовой выборке"
   ]
  },
  {
   "cell_type": "code",
   "execution_count": 16,
   "metadata": {},
   "outputs": [
    {
     "name": "stdout",
     "output_type": "stream",
     "text": [
      "F1 valid 0.7535801134828425\n"
     ]
    }
   ],
   "source": [
    "model_lr_bal.fit(tf_idf_train, target_train)\n",
    "\n",
    "prediction_lr_valid = model_lr_bal.predict(tf_idf_valid)\n",
    "\n",
    "print('F1 valid', f1_score(target_valid, prediction_lr_valid))"
   ]
  },
  {
   "cell_type": "markdown",
   "metadata": {},
   "source": [
    "## Выводы"
   ]
  },
  {
   "cell_type": "markdown",
   "metadata": {},
   "source": [
    "Удалось достичь метрики F1 0.7535 на валидационном наборе данных, выполнив лемматизацию."
   ]
  }
 ],
 "metadata": {
  "ExecuteTimeLog": [
   {
    "duration": 5370,
    "start_time": "2023-03-23T10:15:57.845Z"
   },
   {
    "duration": 5,
    "start_time": "2023-03-23T10:16:12.449Z"
   },
   {
    "duration": 360,
    "start_time": "2023-03-23T10:16:13.223Z"
   },
   {
    "duration": 41,
    "start_time": "2023-03-23T10:17:27.248Z"
   },
   {
    "duration": 3838,
    "start_time": "2023-03-23T10:18:29.220Z"
   },
   {
    "duration": 12,
    "start_time": "2023-03-23T10:19:08.158Z"
   },
   {
    "duration": 25,
    "start_time": "2023-03-23T10:19:19.055Z"
   },
   {
    "duration": 599,
    "start_time": "2023-03-23T10:20:47.912Z"
   },
   {
    "duration": 977589,
    "start_time": "2023-03-23T10:20:57.266Z"
   },
   {
    "duration": 22,
    "start_time": "2023-03-23T10:37:29.478Z"
   },
   {
    "duration": 178,
    "start_time": "2023-03-23T10:37:34.392Z"
   },
   {
    "duration": 3,
    "start_time": "2023-03-23T10:37:35.420Z"
   },
   {
    "duration": 6107,
    "start_time": "2023-03-23T10:37:36.116Z"
   },
   {
    "duration": 2,
    "start_time": "2023-03-23T10:39:19.609Z"
   },
   {
    "duration": 95833,
    "start_time": "2023-03-23T10:39:39.023Z"
   },
   {
    "duration": 40519,
    "start_time": "2023-03-23T10:41:20.630Z"
   },
   {
    "duration": 386237,
    "start_time": "2023-03-23T10:42:44.684Z"
   },
   {
    "duration": 3,
    "start_time": "2023-03-23T10:50:08.110Z"
   },
   {
    "duration": 34,
    "start_time": "2023-03-23T10:50:10.087Z"
   },
   {
    "duration": 45,
    "start_time": "2023-03-24T10:25:02.487Z"
   },
   {
    "duration": 96,
    "start_time": "2023-03-24T10:25:18.107Z"
   },
   {
    "duration": 4171,
    "start_time": "2023-03-24T10:25:22.571Z"
   },
   {
    "duration": 19,
    "start_time": "2023-03-24T10:25:26.744Z"
   },
   {
    "duration": 1213,
    "start_time": "2023-03-24T10:25:26.766Z"
   },
   {
    "duration": 15,
    "start_time": "2023-03-24T10:25:27.980Z"
   },
   {
    "duration": 25,
    "start_time": "2023-03-24T10:25:27.998Z"
   },
   {
    "duration": 511,
    "start_time": "2023-03-24T10:25:28.025Z"
   },
   {
    "duration": 34648,
    "start_time": "2023-03-24T10:25:28.538Z"
   },
   {
    "duration": 2630,
    "start_time": "2023-03-24T10:26:03.188Z"
   },
   {
    "duration": 0,
    "start_time": "2023-03-24T10:26:05.819Z"
   },
   {
    "duration": 0,
    "start_time": "2023-03-24T10:26:05.820Z"
   },
   {
    "duration": 0,
    "start_time": "2023-03-24T10:26:05.822Z"
   },
   {
    "duration": 0,
    "start_time": "2023-03-24T10:26:05.822Z"
   },
   {
    "duration": 4,
    "start_time": "2023-03-24T10:26:09.502Z"
   },
   {
    "duration": 12,
    "start_time": "2023-03-24T10:26:09.508Z"
   },
   {
    "duration": 846,
    "start_time": "2023-03-24T10:26:09.522Z"
   },
   {
    "duration": 8,
    "start_time": "2023-03-24T10:26:10.371Z"
   },
   {
    "duration": 30,
    "start_time": "2023-03-24T10:26:10.381Z"
   },
   {
    "duration": 454,
    "start_time": "2023-03-24T10:26:10.413Z"
   },
   {
    "duration": 1040088,
    "start_time": "2023-03-24T10:26:10.869Z"
   },
   {
    "duration": 32,
    "start_time": "2023-03-24T10:43:30.959Z"
   },
   {
    "duration": 220,
    "start_time": "2023-03-24T10:43:30.993Z"
   },
   {
    "duration": 2,
    "start_time": "2023-03-24T10:43:31.214Z"
   },
   {
    "duration": 6970,
    "start_time": "2023-03-24T10:43:31.217Z"
   },
   {
    "duration": 3,
    "start_time": "2023-03-24T10:43:38.190Z"
   },
   {
    "duration": 92270,
    "start_time": "2023-03-24T10:43:38.195Z"
   }
  ],
  "kernelspec": {
   "display_name": "Python 3 (ipykernel)",
   "language": "python",
   "name": "python3"
  },
  "language_info": {
   "codemirror_mode": {
    "name": "ipython",
    "version": 3
   },
   "file_extension": ".py",
   "mimetype": "text/x-python",
   "name": "python",
   "nbconvert_exporter": "python",
   "pygments_lexer": "ipython3",
   "version": "3.9.5"
  },
  "toc": {
   "base_numbering": 1,
   "nav_menu": {},
   "number_sections": true,
   "sideBar": true,
   "skip_h1_title": true,
   "title_cell": "Содержание",
   "title_sidebar": "Contents",
   "toc_cell": true,
   "toc_position": {
    "height": "calc(100% - 180px)",
    "left": "10px",
    "top": "150px",
    "width": "302.391px"
   },
   "toc_section_display": true,
   "toc_window_display": false
  }
 },
 "nbformat": 4,
 "nbformat_minor": 2
}
