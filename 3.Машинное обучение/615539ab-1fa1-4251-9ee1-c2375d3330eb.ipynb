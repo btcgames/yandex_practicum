{
 "cells": [
  {
   "cell_type": "markdown",
   "metadata": {},
   "source": [
    "# Выбор локации для скважины"
   ]
  },
  {
   "cell_type": "markdown",
   "metadata": {},
   "source": [
    "Допустим, вы работаете в добывающей компании «ГлавРосГосНефть». Нужно решить, где бурить новую скважину.\n",
    "\n",
    "Вам предоставлены пробы нефти в трёх регионах: в каждом 10 000 месторождений, где измерили качество нефти и объём её запасов. Постройте модель машинного обучения, которая поможет определить регион, где добыча принесёт наибольшую прибыль. Проанализируйте возможную прибыль и риски техникой *Bootstrap.*\n",
    "\n",
    "Шаги для выбора локации:\n",
    "\n",
    "- В избранном регионе ищут месторождения, для каждого определяют значения признаков;\n",
    "- Строят модель и оценивают объём запасов;\n",
    "- Выбирают месторождения с самым высокими оценками значений. Количество месторождений зависит от бюджета компании и стоимости разработки одной скважины;\n",
    "- Прибыль равна суммарной прибыли отобранных месторождений."
   ]
  },
  {
   "cell_type": "markdown",
   "metadata": {},
   "source": [
    "## Загрузка и подготовка данных"
   ]
  },
  {
   "cell_type": "code",
   "execution_count": 1,
   "metadata": {},
   "outputs": [],
   "source": [
    "import matplotlib.pyplot as plt\n",
    "import numpy as np\n",
    "import pandas as pd\n",
    "from scipy import stats as st\n",
    "\n",
    "from sklearn.linear_model import LinearRegression\n",
    "from sklearn.metrics import mean_squared_error\n",
    "from sklearn.model_selection import train_test_split"
   ]
  },
  {
   "cell_type": "code",
   "execution_count": 2,
   "metadata": {},
   "outputs": [],
   "source": [
    "df1 = pd.read_csv('/datasets/geo_data_0.csv')\n",
    "df2 = pd.read_csv('/datasets/geo_data_1.csv')\n",
    "df3 = pd.read_csv('/datasets/geo_data_2.csv')"
   ]
  },
  {
   "cell_type": "code",
   "execution_count": 3,
   "metadata": {},
   "outputs": [
    {
     "data": {
      "text/html": [
       "<div>\n",
       "<style scoped>\n",
       "    .dataframe tbody tr th:only-of-type {\n",
       "        vertical-align: middle;\n",
       "    }\n",
       "\n",
       "    .dataframe tbody tr th {\n",
       "        vertical-align: top;\n",
       "    }\n",
       "\n",
       "    .dataframe thead th {\n",
       "        text-align: right;\n",
       "    }\n",
       "</style>\n",
       "<table border=\"1\" class=\"dataframe\">\n",
       "  <thead>\n",
       "    <tr style=\"text-align: right;\">\n",
       "      <th></th>\n",
       "      <th>id</th>\n",
       "      <th>f0</th>\n",
       "      <th>f1</th>\n",
       "      <th>f2</th>\n",
       "      <th>product</th>\n",
       "    </tr>\n",
       "  </thead>\n",
       "  <tbody>\n",
       "    <tr>\n",
       "      <th>0</th>\n",
       "      <td>txEyH</td>\n",
       "      <td>0.705745</td>\n",
       "      <td>-0.497823</td>\n",
       "      <td>1.221170</td>\n",
       "      <td>105.280062</td>\n",
       "    </tr>\n",
       "    <tr>\n",
       "      <th>1</th>\n",
       "      <td>2acmU</td>\n",
       "      <td>1.334711</td>\n",
       "      <td>-0.340164</td>\n",
       "      <td>4.365080</td>\n",
       "      <td>73.037750</td>\n",
       "    </tr>\n",
       "    <tr>\n",
       "      <th>2</th>\n",
       "      <td>409Wp</td>\n",
       "      <td>1.022732</td>\n",
       "      <td>0.151990</td>\n",
       "      <td>1.419926</td>\n",
       "      <td>85.265647</td>\n",
       "    </tr>\n",
       "    <tr>\n",
       "      <th>3</th>\n",
       "      <td>iJLyR</td>\n",
       "      <td>-0.032172</td>\n",
       "      <td>0.139033</td>\n",
       "      <td>2.978566</td>\n",
       "      <td>168.620776</td>\n",
       "    </tr>\n",
       "    <tr>\n",
       "      <th>4</th>\n",
       "      <td>Xdl7t</td>\n",
       "      <td>1.988431</td>\n",
       "      <td>0.155413</td>\n",
       "      <td>4.751769</td>\n",
       "      <td>154.036647</td>\n",
       "    </tr>\n",
       "  </tbody>\n",
       "</table>\n",
       "</div>"
      ],
      "text/plain": [
       "      id        f0        f1        f2     product\n",
       "0  txEyH  0.705745 -0.497823  1.221170  105.280062\n",
       "1  2acmU  1.334711 -0.340164  4.365080   73.037750\n",
       "2  409Wp  1.022732  0.151990  1.419926   85.265647\n",
       "3  iJLyR -0.032172  0.139033  2.978566  168.620776\n",
       "4  Xdl7t  1.988431  0.155413  4.751769  154.036647"
      ]
     },
     "metadata": {},
     "output_type": "display_data"
    },
    {
     "data": {
      "text/html": [
       "<div>\n",
       "<style scoped>\n",
       "    .dataframe tbody tr th:only-of-type {\n",
       "        vertical-align: middle;\n",
       "    }\n",
       "\n",
       "    .dataframe tbody tr th {\n",
       "        vertical-align: top;\n",
       "    }\n",
       "\n",
       "    .dataframe thead th {\n",
       "        text-align: right;\n",
       "    }\n",
       "</style>\n",
       "<table border=\"1\" class=\"dataframe\">\n",
       "  <thead>\n",
       "    <tr style=\"text-align: right;\">\n",
       "      <th></th>\n",
       "      <th>id</th>\n",
       "      <th>f0</th>\n",
       "      <th>f1</th>\n",
       "      <th>f2</th>\n",
       "      <th>product</th>\n",
       "    </tr>\n",
       "  </thead>\n",
       "  <tbody>\n",
       "    <tr>\n",
       "      <th>0</th>\n",
       "      <td>kBEdx</td>\n",
       "      <td>-15.001348</td>\n",
       "      <td>-8.276000</td>\n",
       "      <td>-0.005876</td>\n",
       "      <td>3.179103</td>\n",
       "    </tr>\n",
       "    <tr>\n",
       "      <th>1</th>\n",
       "      <td>62mP7</td>\n",
       "      <td>14.272088</td>\n",
       "      <td>-3.475083</td>\n",
       "      <td>0.999183</td>\n",
       "      <td>26.953261</td>\n",
       "    </tr>\n",
       "    <tr>\n",
       "      <th>2</th>\n",
       "      <td>vyE1P</td>\n",
       "      <td>6.263187</td>\n",
       "      <td>-5.948386</td>\n",
       "      <td>5.001160</td>\n",
       "      <td>134.766305</td>\n",
       "    </tr>\n",
       "    <tr>\n",
       "      <th>3</th>\n",
       "      <td>KcrkZ</td>\n",
       "      <td>-13.081196</td>\n",
       "      <td>-11.506057</td>\n",
       "      <td>4.999415</td>\n",
       "      <td>137.945408</td>\n",
       "    </tr>\n",
       "    <tr>\n",
       "      <th>4</th>\n",
       "      <td>AHL4O</td>\n",
       "      <td>12.702195</td>\n",
       "      <td>-8.147433</td>\n",
       "      <td>5.004363</td>\n",
       "      <td>134.766305</td>\n",
       "    </tr>\n",
       "  </tbody>\n",
       "</table>\n",
       "</div>"
      ],
      "text/plain": [
       "      id         f0         f1        f2     product\n",
       "0  kBEdx -15.001348  -8.276000 -0.005876    3.179103\n",
       "1  62mP7  14.272088  -3.475083  0.999183   26.953261\n",
       "2  vyE1P   6.263187  -5.948386  5.001160  134.766305\n",
       "3  KcrkZ -13.081196 -11.506057  4.999415  137.945408\n",
       "4  AHL4O  12.702195  -8.147433  5.004363  134.766305"
      ]
     },
     "metadata": {},
     "output_type": "display_data"
    },
    {
     "data": {
      "text/html": [
       "<div>\n",
       "<style scoped>\n",
       "    .dataframe tbody tr th:only-of-type {\n",
       "        vertical-align: middle;\n",
       "    }\n",
       "\n",
       "    .dataframe tbody tr th {\n",
       "        vertical-align: top;\n",
       "    }\n",
       "\n",
       "    .dataframe thead th {\n",
       "        text-align: right;\n",
       "    }\n",
       "</style>\n",
       "<table border=\"1\" class=\"dataframe\">\n",
       "  <thead>\n",
       "    <tr style=\"text-align: right;\">\n",
       "      <th></th>\n",
       "      <th>id</th>\n",
       "      <th>f0</th>\n",
       "      <th>f1</th>\n",
       "      <th>f2</th>\n",
       "      <th>product</th>\n",
       "    </tr>\n",
       "  </thead>\n",
       "  <tbody>\n",
       "    <tr>\n",
       "      <th>0</th>\n",
       "      <td>fwXo0</td>\n",
       "      <td>-1.146987</td>\n",
       "      <td>0.963328</td>\n",
       "      <td>-0.828965</td>\n",
       "      <td>27.758673</td>\n",
       "    </tr>\n",
       "    <tr>\n",
       "      <th>1</th>\n",
       "      <td>WJtFt</td>\n",
       "      <td>0.262778</td>\n",
       "      <td>0.269839</td>\n",
       "      <td>-2.530187</td>\n",
       "      <td>56.069697</td>\n",
       "    </tr>\n",
       "    <tr>\n",
       "      <th>2</th>\n",
       "      <td>ovLUW</td>\n",
       "      <td>0.194587</td>\n",
       "      <td>0.289035</td>\n",
       "      <td>-5.586433</td>\n",
       "      <td>62.871910</td>\n",
       "    </tr>\n",
       "    <tr>\n",
       "      <th>3</th>\n",
       "      <td>q6cA6</td>\n",
       "      <td>2.236060</td>\n",
       "      <td>-0.553760</td>\n",
       "      <td>0.930038</td>\n",
       "      <td>114.572842</td>\n",
       "    </tr>\n",
       "    <tr>\n",
       "      <th>4</th>\n",
       "      <td>WPMUX</td>\n",
       "      <td>-0.515993</td>\n",
       "      <td>1.716266</td>\n",
       "      <td>5.899011</td>\n",
       "      <td>149.600746</td>\n",
       "    </tr>\n",
       "  </tbody>\n",
       "</table>\n",
       "</div>"
      ],
      "text/plain": [
       "      id        f0        f1        f2     product\n",
       "0  fwXo0 -1.146987  0.963328 -0.828965   27.758673\n",
       "1  WJtFt  0.262778  0.269839 -2.530187   56.069697\n",
       "2  ovLUW  0.194587  0.289035 -5.586433   62.871910\n",
       "3  q6cA6  2.236060 -0.553760  0.930038  114.572842\n",
       "4  WPMUX -0.515993  1.716266  5.899011  149.600746"
      ]
     },
     "metadata": {},
     "output_type": "display_data"
    }
   ],
   "source": [
    "display(df1.head())\n",
    "display(df2.head())\n",
    "display(df3.head())"
   ]
  },
  {
   "cell_type": "code",
   "execution_count": 4,
   "metadata": {},
   "outputs": [
    {
     "name": "stdout",
     "output_type": "stream",
     "text": [
      "<class 'pandas.core.frame.DataFrame'>\n",
      "RangeIndex: 100000 entries, 0 to 99999\n",
      "Data columns (total 5 columns):\n",
      " #   Column   Non-Null Count   Dtype  \n",
      "---  ------   --------------   -----  \n",
      " 0   id       100000 non-null  object \n",
      " 1   f0       100000 non-null  float64\n",
      " 2   f1       100000 non-null  float64\n",
      " 3   f2       100000 non-null  float64\n",
      " 4   product  100000 non-null  float64\n",
      "dtypes: float64(4), object(1)\n",
      "memory usage: 3.8+ MB\n",
      "<class 'pandas.core.frame.DataFrame'>\n",
      "RangeIndex: 100000 entries, 0 to 99999\n",
      "Data columns (total 5 columns):\n",
      " #   Column   Non-Null Count   Dtype  \n",
      "---  ------   --------------   -----  \n",
      " 0   id       100000 non-null  object \n",
      " 1   f0       100000 non-null  float64\n",
      " 2   f1       100000 non-null  float64\n",
      " 3   f2       100000 non-null  float64\n",
      " 4   product  100000 non-null  float64\n",
      "dtypes: float64(4), object(1)\n",
      "memory usage: 3.8+ MB\n",
      "<class 'pandas.core.frame.DataFrame'>\n",
      "RangeIndex: 100000 entries, 0 to 99999\n",
      "Data columns (total 5 columns):\n",
      " #   Column   Non-Null Count   Dtype  \n",
      "---  ------   --------------   -----  \n",
      " 0   id       100000 non-null  object \n",
      " 1   f0       100000 non-null  float64\n",
      " 2   f1       100000 non-null  float64\n",
      " 3   f2       100000 non-null  float64\n",
      " 4   product  100000 non-null  float64\n",
      "dtypes: float64(4), object(1)\n",
      "memory usage: 3.8+ MB\n"
     ]
    }
   ],
   "source": [
    "df1.info()\n",
    "df2.info()\n",
    "df3.info()"
   ]
  },
  {
   "cell_type": "code",
   "execution_count": 5,
   "metadata": {},
   "outputs": [
    {
     "name": "stdout",
     "output_type": "stream",
     "text": [
      "Количеcтво дубликатов df1 по id: 10\n",
      "Количеcтво дубликатов df2 по id: 4\n",
      "Количеcтво дубликатов df3 по id: 4\n"
     ]
    }
   ],
   "source": [
    "print('Количеcтво дубликатов df1 по id:', df1['id'].duplicated().sum())\n",
    "print('Количеcтво дубликатов df2 по id:', df2['id'].duplicated().sum())\n",
    "print('Количеcтво дубликатов df3 по id:', df3['id'].duplicated().sum())"
   ]
  },
  {
   "cell_type": "code",
   "execution_count": 6,
   "metadata": {},
   "outputs": [
    {
     "name": "stdout",
     "output_type": "stream",
     "text": [
      "          id        f0        f1         f2     product\n",
      "66136  74z30  1.084962 -0.312358   6.990771  127.643327\n",
      "64022  74z30  0.741456  0.459229   5.153109  140.771492\n",
      "51970  A5aEY -0.180335  0.935548  -2.094773   33.020205\n",
      "3389   A5aEY -0.039949  0.156872   0.209861   89.249364\n",
      "69163  AGS9W -0.933795  0.116194  -3.655896   19.230453\n",
      "42529  AGS9W  1.454747 -0.479651   0.683380  126.370504\n",
      "931    HZww2  0.755284  0.368511   1.863211   30.681774\n",
      "7530   HZww2  1.061194 -0.373969  10.430210  158.828695\n",
      "63593  QcMuo  0.635635 -0.473422   0.862670   64.578675\n",
      "1949   QcMuo  0.506563 -0.323775  -2.215583   75.496502\n",
      "75715  Tdehs  0.112079  0.430296   3.218993   60.964018\n",
      "21426  Tdehs  0.829407  0.298807  -0.049563   96.035308\n",
      "92341  TtcGQ  0.110711  1.022689   0.911381  101.318008\n",
      "60140  TtcGQ  0.569276 -0.104876   6.440215   85.350186\n",
      "89582  bsk9y  0.398908 -0.400253  10.122376  163.433078\n",
      "97785  bsk9y  0.378429  0.005837   0.160827  160.637302\n",
      "41724  bxg6G -0.823752  0.546319   3.630479   93.007798\n",
      "1364   bxg6G  0.411645  0.856830  -3.653440   73.604260\n",
      "16633  fiKDv  0.157341  1.028359   5.585586   95.817889\n",
      "90815  fiKDv  0.049883  0.841313   6.394613  137.346586\n",
      "          id         f0         f1        f2     product\n",
      "5849   5ltQ6  -3.435401 -12.296043  1.999796   57.085625\n",
      "84461  5ltQ6  18.213839   2.191999  3.993869  107.813044\n",
      "1305   LHZR0  11.170835  -1.945066  3.002872   80.859783\n",
      "41906  LHZR0  -8.989672  -4.286607  2.009139   57.085625\n",
      "2721   bfPNe  -9.494442  -5.463692  4.006042  110.992147\n",
      "82178  bfPNe  -6.202799  -4.820045  2.995107   84.038886\n",
      "47591  wt4Uk  -9.091098  -8.109279 -0.002314    3.179103\n",
      "82873  wt4Uk  10.259972  -9.376355  4.994297  134.766305\n",
      "          id        f0        f1        f2     product\n",
      "45404  KUPhW  0.231846 -1.698941  4.990775   11.716299\n",
      "55967  KUPhW  1.211150  3.176408  5.543540  132.831802\n",
      "11449  VF7Jo  2.122656 -0.858275  5.746001  181.716817\n",
      "49564  VF7Jo -0.883115  0.560537  0.723601  136.233420\n",
      "44378  Vcm5J -1.229484 -2.439204  1.222909  137.968290\n",
      "95090  Vcm5J  2.587702  1.986875  2.482245   92.327572\n",
      "28039  xCHr8  1.633027  0.368135 -2.378367    6.120525\n",
      "43233  xCHr8 -0.847066  2.101796  5.597130  184.388641\n"
     ]
    }
   ],
   "source": [
    "def drop_duplicates_by_column(df, column_name, drop=False, show_duplicates=True, show_index=False):\n",
    "    duplicates_list = df[df[column_name].duplicated()][column_name].tolist()\n",
    "    if show_duplicates:\n",
    "        print(\n",
    "            df[df['id'].isin(duplicates_list)]\n",
    "            .sort_values(by='id')\n",
    "        )\n",
    "    duplicates_indexes = df[df['id'].isin(duplicates_list)].index\n",
    "    if show_index:\n",
    "        print('Duplicated indexes:', duplicates_indexes)\n",
    "    if drop:\n",
    "        df = df.drop(index=duplicates_indexes)\n",
    "        df.reset_index(drop=True, inplace=True)\n",
    "    return df\n",
    "\n",
    "df1 = drop_duplicates_by_column(df1, 'id', True)\n",
    "df2 = drop_duplicates_by_column(df2, 'id', True)\n",
    "df3 = drop_duplicates_by_column(df3, 'id', True)"
   ]
  },
  {
   "cell_type": "code",
   "execution_count": 7,
   "metadata": {},
   "outputs": [
    {
     "name": "stdout",
     "output_type": "stream",
     "text": [
      "(99980, 5)\n",
      "(99992, 5)\n",
      "(99992, 5)\n"
     ]
    }
   ],
   "source": [
    "print(df1.shape)\n",
    "print(df2.shape)\n",
    "print(df3.shape)"
   ]
  },
  {
   "cell_type": "markdown",
   "metadata": {},
   "source": [
    "Удалим ненужные столбцы"
   ]
  },
  {
   "cell_type": "code",
   "execution_count": 8,
   "metadata": {},
   "outputs": [],
   "source": [
    "df1 = df1.drop(['id'], axis=1)\n",
    "df2 = df2.drop(['id'], axis=1)\n",
    "df3 = df3.drop(['id'], axis=1)"
   ]
  },
  {
   "cell_type": "markdown",
   "metadata": {},
   "source": [
    "Вывод:\n",
    "- Данные предобработаны;\n",
    "- Сгруппировали дубликаты и отобразили их перед удалением;\n",
    "- Удалили ненужные столбцы\n"
   ]
  },
  {
   "cell_type": "markdown",
   "metadata": {},
   "source": [
    "## Обучение и проверка модели"
   ]
  },
  {
   "cell_type": "markdown",
   "metadata": {},
   "source": [
    "Разделим данные"
   ]
  },
  {
   "cell_type": "code",
   "execution_count": 9,
   "metadata": {},
   "outputs": [],
   "source": [
    "def prepare_Xy(df, feature_column):\n",
    "    X = df.drop([feature_column], axis=1)\n",
    "    y = df[feature_column]\n",
    "    return X,y\n",
    "\n",
    "X1,y1 = prepare_Xy(df1,'product')\n",
    "X2,y2 = prepare_Xy(df2,'product')\n",
    "X3,y3 = prepare_Xy(df3,'product')\n",
    "\n",
    "features_train1, features_valid1, target_train1, target_valid1 = train_test_split(\n",
    "    X1, y1, test_size=0.25, random_state=12345)\n",
    "features_train2, features_valid2, target_train2, target_valid2 = train_test_split(\n",
    "    X2, y2, test_size=0.25, random_state=12345)\n",
    "features_train3, features_valid3, target_train3, target_valid3 = train_test_split(\n",
    "    X3, y3, test_size=0.25, random_state=12345)"
   ]
  },
  {
   "cell_type": "markdown",
   "metadata": {},
   "source": [
    "Обучение и прогнозирование на валидационных данных"
   ]
  },
  {
   "cell_type": "code",
   "execution_count": 10,
   "metadata": {},
   "outputs": [],
   "source": [
    "model1 = LinearRegression(normalize = True)\n",
    "model1.fit(features_train1, target_train1)\n",
    "predictions_valid1 = pd.Series(model1.predict(features_valid1))\n",
    "\n",
    "model2 = LinearRegression(normalize = True)\n",
    "model2.fit(features_train2, target_train2)\n",
    "predictions_valid2 = pd.Series(model2.predict(features_valid2))\n",
    "\n",
    "model3 = LinearRegression(normalize = True)\n",
    "model3.fit(features_train3, target_train3)\n",
    "predictions_valid3 = pd.Series(model3.predict(features_valid3))\n",
    "\n",
    "\n",
    "target_valid_i1 = target_valid1.reset_index(drop=True)\n",
    "target_valid_i2 = target_valid2.reset_index(drop=True)\n",
    "target_valid_i3 = target_valid3.reset_index(drop=True)"
   ]
  },
  {
   "cell_type": "code",
   "execution_count": 11,
   "metadata": {},
   "outputs": [
    {
     "data": {
      "text/plain": [
       "{'copy_X': True,\n",
       " 'fit_intercept': True,\n",
       " 'n_jobs': None,\n",
       " 'normalize': True,\n",
       " 'positive': False}"
      ]
     },
     "execution_count": 11,
     "metadata": {},
     "output_type": "execute_result"
    }
   ],
   "source": [
    "model1.get_params(deep=True)"
   ]
  },
  {
   "cell_type": "code",
   "execution_count": 12,
   "metadata": {},
   "outputs": [
    {
     "name": "stdout",
     "output_type": "stream",
     "text": [
      "Регион 1.\n",
      "Средний запас предсказанного сырья: 92.42384109947359\n",
      "RMSE модели линейной регрессии на валидационной выборке: 37.716904960382735 \n",
      "\n",
      "Регион 2.\n",
      "Средний запас предсказанного сырья: 68.98311857983123\n",
      "RMSE модели линейной регрессии на валидационной выборке: 0.8914901390348537 \n",
      "\n",
      "Регион 3.\n",
      "Средний запас предсказанного сырья: 95.11622302076479\n",
      "RMSE модели линейной регрессии на валидационной выборке: 39.975543264382345\n"
     ]
    }
   ],
   "source": [
    "result1 = mean_squared_error(target_valid_i1, \n",
    "                            predictions_valid1, \n",
    "                            squared=False)\n",
    "\n",
    "result2 = mean_squared_error(target_valid_i2, \n",
    "                            predictions_valid2, \n",
    "                            squared=False)\n",
    "\n",
    "result3 = mean_squared_error(target_valid_i3, \n",
    "                            predictions_valid3, \n",
    "                            squared=False)\n",
    "print('Регион 1.')\n",
    "print('Средний запас предсказанного сырья:', predictions_valid1.mean())\n",
    "print('RMSE модели линейной регрессии на валидационной выборке:', result1, '\\n')\n",
    "\n",
    "print('Регион 2.')\n",
    "print('Средний запас предсказанного сырья:', predictions_valid2.mean())\n",
    "print('RMSE модели линейной регрессии на валидационной выборке:', result2, '\\n')\n",
    "\n",
    "print('Регион 3.')\n",
    "print('Средний запас предсказанного сырья:', predictions_valid3.mean())\n",
    "print('RMSE модели линейной регрессии на валидационной выборке:', result3)"
   ]
  },
  {
   "cell_type": "markdown",
   "metadata": {},
   "source": [
    "Средний запас сырья самый низкий в регионе 2, но RMSE там лучший. Район 1 и 3 выглядит адекватно, как и значение RMSE."
   ]
  },
  {
   "cell_type": "markdown",
   "metadata": {},
   "source": [
    "## Подготовка к расчёту прибыли"
   ]
  },
  {
   "cell_type": "code",
   "execution_count": 13,
   "metadata": {},
   "outputs": [],
   "source": [
    "BUDGET = 10 * 10 ** 9\n",
    "INCOME_1K = 450000\n",
    "LOSS_PROB = 0.025\n",
    "\n",
    "POINTS_TO_EXPLORE = 500\n",
    "BEST_POINTS = 200"
   ]
  },
  {
   "cell_type": "code",
   "execution_count": 14,
   "metadata": {},
   "outputs": [
    {
     "name": "stdout",
     "output_type": "stream",
     "text": [
      "Объём безубыточности разработки, тыс. баррелей: 22222.22\n",
      "Объём безубыточности разработки, для одной скважины 111.11\n",
      "Регион 1 средний запас в скважине, тыс. баррелей: 92.50\n",
      "Регион 2 средний запас в скважине, тыс. баррелей: 68.82\n",
      "Регион 3 средний запас в скважине, тыс. баррелей: 95.00\n"
     ]
    }
   ],
   "source": [
    "sufficient_volume = BUDGET/INCOME_1K\n",
    "print('Объём безубыточности разработки, тыс. баррелей: %.2f' % sufficient_volume)\n",
    "sufficient_volume_per_well = sufficient_volume/BEST_POINTS\n",
    "print('Объём безубыточности разработки, для одной скважины %.2f' % sufficient_volume_per_well)\n",
    "\n",
    "print('Регион 1 средний запас в скважине, тыс. баррелей: %.2f' % df1['product'].mean())\n",
    "print('Регион 2 средний запас в скважине, тыс. баррелей: %.2f' % df2['product'].mean())\n",
    "print('Регион 3 средний запас в скважине, тыс. баррелей: %.2f' % df3['product'].mean())"
   ]
  },
  {
   "cell_type": "markdown",
   "metadata": {},
   "source": [
    "Получается объем безубыточной разработки больше, чем средние запасы по скважине в каждом из регионов. Это значит, что случайный выбор скважин не даст прибыли и мы пойдем в убыток."
   ]
  },
  {
   "cell_type": "markdown",
   "metadata": {},
   "source": [
    "## Расчёт прибыли и рисков "
   ]
  },
  {
   "cell_type": "markdown",
   "metadata": {},
   "source": [
    "функция для расчета прибыли от выбранных скважин и прогнозов модели"
   ]
  },
  {
   "cell_type": "code",
   "execution_count": 15,
   "metadata": {},
   "outputs": [],
   "source": [
    "def max_profit(predictions, target, sufficient_volume):\n",
    "    predictions_sorted_best = predictions.sort_values(ascending=False)\n",
    "    predicted_volume_total = target[predictions_sorted_best.index][:BEST_POINTS].sum()\n",
    "    profit = (predicted_volume_total - sufficient_volume) * INCOME_1K\n",
    "    return profit"
   ]
  },
  {
   "cell_type": "markdown",
   "metadata": {},
   "source": [
    "Bootstrap с 1000 выборками для определения распределения прибыли"
   ]
  },
  {
   "cell_type": "code",
   "execution_count": 16,
   "metadata": {},
   "outputs": [],
   "source": [
    "def bootstrap_4region(predictions_valid, target_valid_i):\n",
    "    \n",
    "    state = np.random.RandomState(12345)\n",
    "    values = []\n",
    "    \n",
    "    for i in range(1000):\n",
    "        predictions_subsample = predictions_valid.sample(n=500, replace=True, random_state=state)\n",
    "        values.append(max_profit(predictions_subsample, target_valid_i, sufficient_volume)) \n",
    "\n",
    "    values = pd.Series(values)\n",
    "    return values"
   ]
  },
  {
   "cell_type": "code",
   "execution_count": 17,
   "metadata": {},
   "outputs": [],
   "source": [
    "val = []\n",
    "val.append(bootstrap_4region(predictions_valid1, target_valid_i1))\n",
    "val.append(bootstrap_4region(predictions_valid2, target_valid_i2))\n",
    "val.append(bootstrap_4region(predictions_valid3, target_valid_i3))"
   ]
  },
  {
   "cell_type": "markdown",
   "metadata": {},
   "source": [
    "Находим среднюю доходность, 95% доверительный интервал и риск потери. Убыток - это отрицательная прибыль."
   ]
  },
  {
   "cell_type": "code",
   "execution_count": 18,
   "metadata": {},
   "outputs": [
    {
     "name": "stdout",
     "output_type": "stream",
     "text": [
      "Регион 1 \n",
      "  Процент прибыльных в 1000 выборок: 94.5%\n",
      "  Вероятность убытка: 5.5%\n",
      "  Среднее значение прибыли: 431,538,186\n",
      "  95%-й доверительный интервал:\n",
      "     Нижний квантиль -80,924,627\n",
      "     Верхний квантиль 941,037,638\n",
      "Регион 2 \n",
      "  Процент прибыльных в 1000 выборок: 98.0%\n",
      "  Вероятность убытка: 2.0%\n",
      "  Среднее значение прибыли: 477,948,839\n",
      "  95%-й доверительный интервал:\n",
      "     Нижний квантиль 51,741,836\n",
      "     Верхний квантиль 897,944,131\n",
      "Регион 3 \n",
      "  Процент прибыльных в 1000 выборок: 87.7%\n",
      "  Вероятность убытка: 12.3%\n",
      "  Среднее значение прибыли: 322,147,249\n",
      "  95%-й доверительный интервал:\n",
      "     Нижний квантиль -173,464,434\n",
      "     Верхний квантиль 843,529,290\n"
     ]
    }
   ],
   "source": [
    "for i in range(3):\n",
    "    lower = val[i].quantile(0.025)\n",
    "    higher = val[i].quantile(0.975)\n",
    "    print(f'Регион {i+1} \\n  Процент прибыльных в 1000 выборок: {(val[i] > 0).mean()*100}%')\n",
    "    print(f'  Вероятность убытка: {(val[i] < 0).mean()*100}%')\n",
    "    print(f'  Среднее значение прибыли: {int(val[i].mean()):,}')\n",
    "    print(f'  95%-й доверительный интервал:')\n",
    "    print(f'     Нижний квантиль {lower:,.0f}')\n",
    "    print(f'     Верхний квантиль {higher:,.0f}')"
   ]
  },
  {
   "cell_type": "markdown",
   "metadata": {},
   "source": [
    "Рентабельность более 95% наблюдается только в регионе 2.\n",
    "\n",
    "Регион 1 не оправдал ожиданий.\n",
    "\n",
    "В этом случае можно рекомендовать рассматривать для производства только второй регион.\n",
    "Впрочем, и первый регион тоже достоин права считаться при условии увеличения риска на 0,5%."
   ]
  }
 ],
 "metadata": {
  "ExecuteTimeLog": [
   {
    "duration": 1598,
    "start_time": "2023-01-19T13:15:12.851Z"
   },
   {
    "duration": 111,
    "start_time": "2023-01-19T13:15:35.004Z"
   },
   {
    "duration": 1806,
    "start_time": "2023-01-19T13:15:38.874Z"
   },
   {
    "duration": 30,
    "start_time": "2023-01-19T13:15:41.688Z"
   },
   {
    "duration": 34,
    "start_time": "2023-01-19T13:16:11.000Z"
   },
   {
    "duration": 580,
    "start_time": "2023-01-19T13:16:36.711Z"
   },
   {
    "duration": 579,
    "start_time": "2023-01-19T13:16:46.678Z"
   },
   {
    "duration": 660,
    "start_time": "2023-01-19T13:17:02.764Z"
   },
   {
    "duration": 39,
    "start_time": "2023-01-19T13:17:24.871Z"
   },
   {
    "duration": 50,
    "start_time": "2023-01-19T13:17:39.785Z"
   },
   {
    "duration": 109,
    "start_time": "2023-01-19T13:17:50.501Z"
   },
   {
    "duration": 16,
    "start_time": "2023-01-19T13:20:12.956Z"
   },
   {
    "duration": 12,
    "start_time": "2023-01-19T13:51:14.483Z"
   },
   {
    "duration": 40,
    "start_time": "2023-01-19T13:51:20.098Z"
   },
   {
    "duration": 193,
    "start_time": "2023-01-19T13:51:21.746Z"
   },
   {
    "duration": 4,
    "start_time": "2023-01-19T13:51:49.871Z"
   },
   {
    "duration": 11,
    "start_time": "2023-01-19T13:52:55.540Z"
   },
   {
    "duration": 3,
    "start_time": "2023-01-19T13:54:18.549Z"
   },
   {
    "duration": 8,
    "start_time": "2023-01-19T13:54:47.437Z"
   },
   {
    "duration": 3,
    "start_time": "2023-01-19T13:56:41.240Z"
   },
   {
    "duration": 4,
    "start_time": "2023-01-19T13:59:58.535Z"
   },
   {
    "duration": 5,
    "start_time": "2023-01-19T13:59:59.274Z"
   },
   {
    "duration": 2212,
    "start_time": "2023-01-19T14:00:00.562Z"
   },
   {
    "duration": 15,
    "start_time": "2023-01-19T14:01:46.741Z"
   },
   {
    "duration": 961,
    "start_time": "2023-01-19T14:08:51.301Z"
   },
   {
    "duration": 3,
    "start_time": "2023-01-19T14:09:08.386Z"
   },
   {
    "duration": 466,
    "start_time": "2023-01-19T14:09:08.391Z"
   },
   {
    "duration": 22,
    "start_time": "2023-01-19T14:09:08.859Z"
   },
   {
    "duration": 54,
    "start_time": "2023-01-19T14:09:08.882Z"
   },
   {
    "duration": 51,
    "start_time": "2023-01-19T14:09:08.939Z"
   },
   {
    "duration": 125,
    "start_time": "2023-01-19T14:09:08.992Z"
   },
   {
    "duration": 4,
    "start_time": "2023-01-19T14:09:09.119Z"
   },
   {
    "duration": 15,
    "start_time": "2023-01-19T14:09:09.137Z"
   },
   {
    "duration": 54,
    "start_time": "2023-01-19T14:09:09.154Z"
   },
   {
    "duration": 131,
    "start_time": "2023-01-19T14:09:09.210Z"
   },
   {
    "duration": 5,
    "start_time": "2023-01-19T14:09:09.343Z"
   },
   {
    "duration": 187,
    "start_time": "2023-01-19T14:09:09.350Z"
   },
   {
    "duration": 4,
    "start_time": "2023-01-19T14:09:09.538Z"
   },
   {
    "duration": 9,
    "start_time": "2023-01-19T14:09:09.544Z"
   },
   {
    "duration": 13,
    "start_time": "2023-01-19T14:09:09.554Z"
   },
   {
    "duration": 5,
    "start_time": "2023-01-19T14:09:09.568Z"
   },
   {
    "duration": 2161,
    "start_time": "2023-01-19T14:09:09.575Z"
   },
   {
    "duration": 11,
    "start_time": "2023-01-19T14:09:11.738Z"
   },
   {
    "duration": 1510,
    "start_time": "2023-01-20T13:28:52.444Z"
   },
   {
    "duration": 849,
    "start_time": "2023-01-20T13:28:53.957Z"
   },
   {
    "duration": 24,
    "start_time": "2023-01-20T13:28:54.807Z"
   },
   {
    "duration": 33,
    "start_time": "2023-01-20T13:28:54.833Z"
   },
   {
    "duration": 40,
    "start_time": "2023-01-20T13:28:54.867Z"
   },
   {
    "duration": 98,
    "start_time": "2023-01-20T13:28:54.909Z"
   },
   {
    "duration": 4,
    "start_time": "2023-01-20T13:28:55.009Z"
   },
   {
    "duration": 29,
    "start_time": "2023-01-20T13:28:55.014Z"
   },
   {
    "duration": 39,
    "start_time": "2023-01-20T13:28:55.045Z"
   },
   {
    "duration": 153,
    "start_time": "2023-01-20T13:28:55.086Z"
   },
   {
    "duration": 5,
    "start_time": "2023-01-20T13:28:55.240Z"
   },
   {
    "duration": 20,
    "start_time": "2023-01-20T13:28:55.336Z"
   },
   {
    "duration": 3,
    "start_time": "2023-01-20T13:28:55.437Z"
   },
   {
    "duration": 7,
    "start_time": "2023-01-20T13:28:55.442Z"
   },
   {
    "duration": 14,
    "start_time": "2023-01-20T13:28:55.451Z"
   },
   {
    "duration": 8,
    "start_time": "2023-01-20T13:28:55.466Z"
   },
   {
    "duration": 1885,
    "start_time": "2023-01-20T13:28:55.475Z"
   },
   {
    "duration": 13,
    "start_time": "2023-01-20T13:28:57.362Z"
   }
  ],
  "kernelspec": {
   "display_name": "Python 3 (ipykernel)",
   "language": "python",
   "name": "python3"
  },
  "language_info": {
   "codemirror_mode": {
    "name": "ipython",
    "version": 3
   },
   "file_extension": ".py",
   "mimetype": "text/x-python",
   "name": "python",
   "nbconvert_exporter": "python",
   "pygments_lexer": "ipython3",
   "version": "3.9.5"
  },
  "toc": {
   "base_numbering": 1,
   "nav_menu": {},
   "number_sections": true,
   "sideBar": true,
   "skip_h1_title": true,
   "title_cell": "Table of Contents",
   "title_sidebar": "Contents",
   "toc_cell": false,
   "toc_position": {},
   "toc_section_display": true,
   "toc_window_display": false
  }
 },
 "nbformat": 4,
 "nbformat_minor": 2
}
