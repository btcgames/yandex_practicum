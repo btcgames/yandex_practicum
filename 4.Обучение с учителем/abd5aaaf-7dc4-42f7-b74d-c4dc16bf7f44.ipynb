{
 "cells": [
  {
   "cell_type": "markdown",
   "metadata": {
    "toc": true
   },
   "source": [
    "<h1>Содержание<span class=\"tocSkip\"></span></h1>\n",
    "<div class=\"toc\"><ul class=\"toc-item\"><li><span><a href=\"#Подготовка-данных\" data-toc-modified-id=\"Подготовка-данных-1\"><span class=\"toc-item-num\">1&nbsp;&nbsp;</span>Подготовка данных</a></span></li><li><span><a href=\"#Исследование-задачи\" data-toc-modified-id=\"Исследование-задачи-2\"><span class=\"toc-item-num\">2&nbsp;&nbsp;</span>Исследование задачи</a></span></li><li><span><a href=\"#Борьба-с-дисбалансом\" data-toc-modified-id=\"Борьба-с-дисбалансом-3\"><span class=\"toc-item-num\">3&nbsp;&nbsp;</span>Борьба с дисбалансом</a></span></li><li><span><a href=\"#Тестирование-модели\" data-toc-modified-id=\"Тестирование-модели-4\"><span class=\"toc-item-num\">4&nbsp;&nbsp;</span>Тестирование модели</a></span></li><li><span><a href=\"#Чек-лист-готовности-проекта\" data-toc-modified-id=\"Чек-лист-готовности-проекта-5\"><span class=\"toc-item-num\">5&nbsp;&nbsp;</span>Чек-лист готовности проекта</a></span></li></ul></div>"
   ]
  },
  {
   "cell_type": "markdown",
   "metadata": {},
   "source": [
    "# Отток клиентов"
   ]
  },
  {
   "cell_type": "markdown",
   "metadata": {},
   "source": [
    "Из «Бета-Банка» стали уходить клиенты. Каждый месяц. Немного, но заметно. Банковские маркетологи посчитали: сохранять текущих клиентов дешевле, чем привлекать новых.\n",
    "\n",
    "Нужно спрогнозировать, уйдёт клиент из банка в ближайшее время или нет. Вам предоставлены исторические данные о поведении клиентов и расторжении договоров с банком. \n",
    "\n",
    "Постройте модель с предельно большим значением *F1*-меры. Чтобы сдать проект успешно, нужно довести метрику до 0.59. Проверьте *F1*-меру на тестовой выборке самостоятельно.\n",
    "\n",
    "Дополнительно измеряйте *AUC-ROC*, сравнивайте её значение с *F1*-мерой.\n",
    "\n",
    "Источник данных: [https://www.kaggle.com/barelydedicated/bank-customer-churn-modeling](https://www.kaggle.com/barelydedicated/bank-customer-churn-modeling)"
   ]
  },
  {
   "cell_type": "markdown",
   "metadata": {},
   "source": [
    "## Подготовка данных"
   ]
  },
  {
   "cell_type": "code",
   "execution_count": 36,
   "metadata": {},
   "outputs": [],
   "source": [
    "import pandas as pd\n",
    "import numpy as np\n",
    "from sklearn.model_selection import train_test_split\n",
    "from sklearn.preprocessing import StandardScaler\n",
    "from sklearn.metrics import f1_score, roc_auc_score, accuracy_score, roc_curve\n",
    "from sklearn.ensemble import RandomForestClassifier\n",
    "from sklearn.linear_model import LogisticRegression\n",
    "from sklearn.utils import shuffle\n",
    "from sklearn.tree import DecisionTreeClassifier\n",
    "import matplotlib.pyplot as plt"
   ]
  },
  {
   "cell_type": "code",
   "execution_count": 37,
   "metadata": {},
   "outputs": [],
   "source": [
    "df = pd.read_csv('/datasets/Churn.csv')"
   ]
  },
  {
   "cell_type": "code",
   "execution_count": 38,
   "metadata": {},
   "outputs": [
    {
     "name": "stdout",
     "output_type": "stream",
     "text": [
      "   RowNumber  CustomerId   Surname  CreditScore Geography  Gender  Age  \\\n",
      "0          1    15634602  Hargrave          619    France  Female   42   \n",
      "1          2    15647311      Hill          608     Spain  Female   41   \n",
      "2          3    15619304      Onio          502    France  Female   42   \n",
      "3          4    15701354      Boni          699    France  Female   39   \n",
      "4          5    15737888  Mitchell          850     Spain  Female   43   \n",
      "\n",
      "   Tenure    Balance  NumOfProducts  HasCrCard  IsActiveMember  \\\n",
      "0     2.0       0.00              1          1               1   \n",
      "1     1.0   83807.86              1          0               1   \n",
      "2     8.0  159660.80              3          1               0   \n",
      "3     1.0       0.00              2          0               0   \n",
      "4     2.0  125510.82              1          1               1   \n",
      "\n",
      "   EstimatedSalary  Exited  \n",
      "0        101348.88       1  \n",
      "1        112542.58       0  \n",
      "2        113931.57       1  \n",
      "3         93826.63       0  \n",
      "4         79084.10       0  \n"
     ]
    }
   ],
   "source": [
    "print(df.head())"
   ]
  },
  {
   "cell_type": "code",
   "execution_count": 39,
   "metadata": {},
   "outputs": [
    {
     "name": "stdout",
     "output_type": "stream",
     "text": [
      "<class 'pandas.core.frame.DataFrame'>\n",
      "RangeIndex: 10000 entries, 0 to 9999\n",
      "Data columns (total 14 columns):\n",
      " #   Column           Non-Null Count  Dtype  \n",
      "---  ------           --------------  -----  \n",
      " 0   RowNumber        10000 non-null  int64  \n",
      " 1   CustomerId       10000 non-null  int64  \n",
      " 2   Surname          10000 non-null  object \n",
      " 3   CreditScore      10000 non-null  int64  \n",
      " 4   Geography        10000 non-null  object \n",
      " 5   Gender           10000 non-null  object \n",
      " 6   Age              10000 non-null  int64  \n",
      " 7   Tenure           9091 non-null   float64\n",
      " 8   Balance          10000 non-null  float64\n",
      " 9   NumOfProducts    10000 non-null  int64  \n",
      " 10  HasCrCard        10000 non-null  int64  \n",
      " 11  IsActiveMember   10000 non-null  int64  \n",
      " 12  EstimatedSalary  10000 non-null  float64\n",
      " 13  Exited           10000 non-null  int64  \n",
      "dtypes: float64(3), int64(8), object(3)\n",
      "memory usage: 1.1+ MB\n"
     ]
    }
   ],
   "source": [
    "df.info()"
   ]
  },
  {
   "cell_type": "code",
   "execution_count": 40,
   "metadata": {},
   "outputs": [
    {
     "data": {
      "text/html": [
       "<div>\n",
       "<style scoped>\n",
       "    .dataframe tbody tr th:only-of-type {\n",
       "        vertical-align: middle;\n",
       "    }\n",
       "\n",
       "    .dataframe tbody tr th {\n",
       "        vertical-align: top;\n",
       "    }\n",
       "\n",
       "    .dataframe thead th {\n",
       "        text-align: right;\n",
       "    }\n",
       "</style>\n",
       "<table border=\"1\" class=\"dataframe\">\n",
       "  <thead>\n",
       "    <tr style=\"text-align: right;\">\n",
       "      <th></th>\n",
       "      <th>RowNumber</th>\n",
       "      <th>CustomerId</th>\n",
       "      <th>CreditScore</th>\n",
       "      <th>Age</th>\n",
       "      <th>Tenure</th>\n",
       "      <th>Balance</th>\n",
       "      <th>NumOfProducts</th>\n",
       "      <th>HasCrCard</th>\n",
       "      <th>IsActiveMember</th>\n",
       "      <th>EstimatedSalary</th>\n",
       "      <th>Exited</th>\n",
       "    </tr>\n",
       "  </thead>\n",
       "  <tbody>\n",
       "    <tr>\n",
       "      <th>count</th>\n",
       "      <td>10000.00000</td>\n",
       "      <td>1.000000e+04</td>\n",
       "      <td>10000.000000</td>\n",
       "      <td>10000.000000</td>\n",
       "      <td>9091.000000</td>\n",
       "      <td>10000.000000</td>\n",
       "      <td>10000.000000</td>\n",
       "      <td>10000.00000</td>\n",
       "      <td>10000.000000</td>\n",
       "      <td>10000.000000</td>\n",
       "      <td>10000.000000</td>\n",
       "    </tr>\n",
       "    <tr>\n",
       "      <th>mean</th>\n",
       "      <td>5000.50000</td>\n",
       "      <td>1.569094e+07</td>\n",
       "      <td>650.528800</td>\n",
       "      <td>38.921800</td>\n",
       "      <td>4.997690</td>\n",
       "      <td>76485.889288</td>\n",
       "      <td>1.530200</td>\n",
       "      <td>0.70550</td>\n",
       "      <td>0.515100</td>\n",
       "      <td>100090.239881</td>\n",
       "      <td>0.203700</td>\n",
       "    </tr>\n",
       "    <tr>\n",
       "      <th>std</th>\n",
       "      <td>2886.89568</td>\n",
       "      <td>7.193619e+04</td>\n",
       "      <td>96.653299</td>\n",
       "      <td>10.487806</td>\n",
       "      <td>2.894723</td>\n",
       "      <td>62397.405202</td>\n",
       "      <td>0.581654</td>\n",
       "      <td>0.45584</td>\n",
       "      <td>0.499797</td>\n",
       "      <td>57510.492818</td>\n",
       "      <td>0.402769</td>\n",
       "    </tr>\n",
       "    <tr>\n",
       "      <th>min</th>\n",
       "      <td>1.00000</td>\n",
       "      <td>1.556570e+07</td>\n",
       "      <td>350.000000</td>\n",
       "      <td>18.000000</td>\n",
       "      <td>0.000000</td>\n",
       "      <td>0.000000</td>\n",
       "      <td>1.000000</td>\n",
       "      <td>0.00000</td>\n",
       "      <td>0.000000</td>\n",
       "      <td>11.580000</td>\n",
       "      <td>0.000000</td>\n",
       "    </tr>\n",
       "    <tr>\n",
       "      <th>25%</th>\n",
       "      <td>2500.75000</td>\n",
       "      <td>1.562853e+07</td>\n",
       "      <td>584.000000</td>\n",
       "      <td>32.000000</td>\n",
       "      <td>2.000000</td>\n",
       "      <td>0.000000</td>\n",
       "      <td>1.000000</td>\n",
       "      <td>0.00000</td>\n",
       "      <td>0.000000</td>\n",
       "      <td>51002.110000</td>\n",
       "      <td>0.000000</td>\n",
       "    </tr>\n",
       "    <tr>\n",
       "      <th>50%</th>\n",
       "      <td>5000.50000</td>\n",
       "      <td>1.569074e+07</td>\n",
       "      <td>652.000000</td>\n",
       "      <td>37.000000</td>\n",
       "      <td>5.000000</td>\n",
       "      <td>97198.540000</td>\n",
       "      <td>1.000000</td>\n",
       "      <td>1.00000</td>\n",
       "      <td>1.000000</td>\n",
       "      <td>100193.915000</td>\n",
       "      <td>0.000000</td>\n",
       "    </tr>\n",
       "    <tr>\n",
       "      <th>75%</th>\n",
       "      <td>7500.25000</td>\n",
       "      <td>1.575323e+07</td>\n",
       "      <td>718.000000</td>\n",
       "      <td>44.000000</td>\n",
       "      <td>7.000000</td>\n",
       "      <td>127644.240000</td>\n",
       "      <td>2.000000</td>\n",
       "      <td>1.00000</td>\n",
       "      <td>1.000000</td>\n",
       "      <td>149388.247500</td>\n",
       "      <td>0.000000</td>\n",
       "    </tr>\n",
       "    <tr>\n",
       "      <th>max</th>\n",
       "      <td>10000.00000</td>\n",
       "      <td>1.581569e+07</td>\n",
       "      <td>850.000000</td>\n",
       "      <td>92.000000</td>\n",
       "      <td>10.000000</td>\n",
       "      <td>250898.090000</td>\n",
       "      <td>4.000000</td>\n",
       "      <td>1.00000</td>\n",
       "      <td>1.000000</td>\n",
       "      <td>199992.480000</td>\n",
       "      <td>1.000000</td>\n",
       "    </tr>\n",
       "  </tbody>\n",
       "</table>\n",
       "</div>"
      ],
      "text/plain": [
       "         RowNumber    CustomerId   CreditScore           Age       Tenure  \\\n",
       "count  10000.00000  1.000000e+04  10000.000000  10000.000000  9091.000000   \n",
       "mean    5000.50000  1.569094e+07    650.528800     38.921800     4.997690   \n",
       "std     2886.89568  7.193619e+04     96.653299     10.487806     2.894723   \n",
       "min        1.00000  1.556570e+07    350.000000     18.000000     0.000000   \n",
       "25%     2500.75000  1.562853e+07    584.000000     32.000000     2.000000   \n",
       "50%     5000.50000  1.569074e+07    652.000000     37.000000     5.000000   \n",
       "75%     7500.25000  1.575323e+07    718.000000     44.000000     7.000000   \n",
       "max    10000.00000  1.581569e+07    850.000000     92.000000    10.000000   \n",
       "\n",
       "             Balance  NumOfProducts    HasCrCard  IsActiveMember  \\\n",
       "count   10000.000000   10000.000000  10000.00000    10000.000000   \n",
       "mean    76485.889288       1.530200      0.70550        0.515100   \n",
       "std     62397.405202       0.581654      0.45584        0.499797   \n",
       "min         0.000000       1.000000      0.00000        0.000000   \n",
       "25%         0.000000       1.000000      0.00000        0.000000   \n",
       "50%     97198.540000       1.000000      1.00000        1.000000   \n",
       "75%    127644.240000       2.000000      1.00000        1.000000   \n",
       "max    250898.090000       4.000000      1.00000        1.000000   \n",
       "\n",
       "       EstimatedSalary        Exited  \n",
       "count     10000.000000  10000.000000  \n",
       "mean     100090.239881      0.203700  \n",
       "std       57510.492818      0.402769  \n",
       "min          11.580000      0.000000  \n",
       "25%       51002.110000      0.000000  \n",
       "50%      100193.915000      0.000000  \n",
       "75%      149388.247500      0.000000  \n",
       "max      199992.480000      1.000000  "
      ]
     },
     "execution_count": 40,
     "metadata": {},
     "output_type": "execute_result"
    }
   ],
   "source": [
    "df.describe()"
   ]
  },
  {
   "cell_type": "markdown",
   "metadata": {},
   "source": [
    "Признаки RowNumber, CustomerId и Surname не нужны в обучающей выборке, так как не несут в себе информацию о человеке как о клиента банка. Удалим их"
   ]
  },
  {
   "cell_type": "code",
   "execution_count": 42,
   "metadata": {},
   "outputs": [],
   "source": [
    "data = df.drop(['RowNumber', 'CustomerId', 'Surname'], axis=1)"
   ]
  },
  {
   "cell_type": "markdown",
   "metadata": {},
   "source": [
    "Заменим название столбцов на удобные для дальнейшей работы - заменим на нижний регист и добавим нижнее подчеркивание между словами"
   ]
  },
  {
   "cell_type": "code",
   "execution_count": 51,
   "metadata": {},
   "outputs": [],
   "source": [
    "data.columns = ['credit_score', 'geography',\n",
    "       'gender', 'age', 'tenure', 'balance', 'num_of_products', 'has_cr_card',\n",
    "       'is_active_member', 'estimated_salary', 'exited']"
   ]
  },
  {
   "cell_type": "code",
   "execution_count": 44,
   "metadata": {},
   "outputs": [],
   "source": [
    "data.columns = data.columns.str.lower()"
   ]
  },
  {
   "cell_type": "markdown",
   "metadata": {},
   "source": [
    "tenure - это количество лет, в течение которых человек является клиентом банка."
   ]
  },
  {
   "cell_type": "code",
   "execution_count": 46,
   "metadata": {},
   "outputs": [
    {
     "data": {
      "text/plain": [
       "909"
      ]
     },
     "execution_count": 46,
     "metadata": {},
     "output_type": "execute_result"
    }
   ],
   "source": [
    "data['tenure'].isna().sum()"
   ]
  },
  {
   "cell_type": "code",
   "execution_count": 48,
   "metadata": {},
   "outputs": [],
   "source": [
    "data.dropna(subset=['tenure'], inplace=True)\n",
    "data.reset_index(drop=True, inplace=True)"
   ]
  },
  {
   "cell_type": "markdown",
   "metadata": {},
   "source": [
    "<b>Вывод</b>\n",
    "\n",
    "Мы сделали обработку данных: Переименовали столбцы в нижний регистр, обработали NaN."
   ]
  },
  {
   "cell_type": "markdown",
   "metadata": {},
   "source": [
    "## Исследование задачи"
   ]
  },
  {
   "cell_type": "markdown",
   "metadata": {},
   "source": [
    "Изучим баланс классов"
   ]
  },
  {
   "cell_type": "code",
   "execution_count": 59,
   "metadata": {},
   "outputs": [
    {
     "data": {
      "text/plain": [
       "0    0.796062\n",
       "1    0.203938\n",
       "Name: exited, dtype: float64"
      ]
     },
     "execution_count": 59,
     "metadata": {},
     "output_type": "execute_result"
    }
   ],
   "source": [
    "data['exited'].value_counts(normalize=True)"
   ]
  },
  {
   "cell_type": "markdown",
   "metadata": {},
   "source": [
    "Доля объектов положительного класса составляет 20%"
   ]
  },
  {
   "cell_type": "markdown",
   "metadata": {},
   "source": [
    "Преобразуем категориальные переменные в численные методом OHE"
   ]
  },
  {
   "cell_type": "code",
   "execution_count": 60,
   "metadata": {},
   "outputs": [],
   "source": [
    "data_ohe = pd.get_dummies(data, drop_first=True)"
   ]
  },
  {
   "cell_type": "markdown",
   "metadata": {},
   "source": [
    "Поделим датафрейм на обучающую, валидационную и тестовую выборки в соотношении 3:1:1"
   ]
  },
  {
   "cell_type": "code",
   "execution_count": 62,
   "metadata": {},
   "outputs": [],
   "source": [
    "features = data_ohe.drop(['exited'], axis=1)\n",
    "target = data_ohe['exited']\n",
    "\n",
    "features_train, features_tempor, target_train, target_tempor = train_test_split(features, target, train_size=0.6, random_state=12345)\n",
    "features_valid, features_test, target_valid, target_test = train_test_split(features_tempor, target_tempor, train_size=0.5, random_state=13245)"
   ]
  },
  {
   "cell_type": "markdown",
   "metadata": {},
   "source": [
    "Масштабируем численные признаки"
   ]
  },
  {
   "cell_type": "code",
   "execution_count": 63,
   "metadata": {},
   "outputs": [],
   "source": [
    "numeric = ['credit_score', 'age', 'tenure', 'balance', 'num_of_products', 'estimated_salary']\n",
    "scaler = StandardScaler()\n",
    "scaler.fit(features_train[numeric])\n",
    "pd.options.mode.chained_assignment = None\n",
    "features_train[numeric] = scaler.transform(features_train[numeric])\n",
    "features_valid[numeric] = scaler.transform(features_valid[numeric])\n",
    "features_test[numeric] = scaler.transform(features_test[numeric])"
   ]
  },
  {
   "cell_type": "markdown",
   "metadata": {},
   "source": [
    "Проверим работу разных моделей на несбалансированной выборке"
   ]
  },
  {
   "cell_type": "code",
   "execution_count": 64,
   "metadata": {},
   "outputs": [
    {
     "name": "stdout",
     "output_type": "stream",
     "text": [
      "F1-мера: 0.3236514522821577. AUC-ROC: 0.7719077513018364\n"
     ]
    }
   ],
   "source": [
    "model = LogisticRegression(random_state=12345, solver='liblinear')\n",
    "model.fit(features_train, target_train)\n",
    "predicted_valid = model.predict(features_valid)\n",
    "f1 = f1_score(target_valid, predicted_valid)\n",
    "probabilities_valid = model.predict_proba(features_valid)\n",
    "probabilities_one_valid = probabilities_valid[:, 1]\n",
    "auc_roc = roc_auc_score(target_valid, probabilities_one_valid)\n",
    "print('F1-мера: {}. AUC-ROC: {}'.format(f1, auc_roc))"
   ]
  },
  {
   "cell_type": "code",
   "execution_count": 73,
   "metadata": {},
   "outputs": [
    {
     "name": "stdout",
     "output_type": "stream",
     "text": [
      "Глубина дерева: 7, F1: 0.5663430420711975, AUC-ROC: 0.8200273418501193\n"
     ]
    }
   ],
   "source": [
    "best_depth = 0\n",
    "best_f1 = 0\n",
    "best_auc_roc = 0\n",
    "for depth in range(1, 21):\n",
    "    model = DecisionTreeClassifier(max_depth=depth, random_state=12345)\n",
    "    model.fit(features_train, target_train)\n",
    "    predicted_valid = model.predict(features_valid)\n",
    "    f1 = f1_score(target_valid, predicted_valid)\n",
    "    probabilities_valid = model.predict_proba(features_valid)\n",
    "    probabilities_one_valid = probabilities_valid[:, 1]\n",
    "    auc_roc = roc_auc_score(target_valid, probabilities_one_valid)\n",
    "    if f1 > best_f1:\n",
    "        best_f1 = f1\n",
    "        best_auc_roc = auc_roc\n",
    "        best_depth = depth\n",
    "print('Глубина дерева: {}, F1: {}, AUC-ROC: {}'.format(\n",
    "    best_depth, best_f1, best_auc_roc))"
   ]
  },
  {
   "cell_type": "code",
   "execution_count": 75,
   "metadata": {},
   "outputs": [
    {
     "name": "stdout",
     "output_type": "stream",
     "text": [
      "f1: 0.5759717314487633, AUC-ROC: 0.8491409663916833.\n",
      "Количестве деревьев: 15, глубина: 8\n"
     ]
    }
   ],
   "source": [
    "best_f1 = 0\n",
    "best_estimators = 0\n",
    "best_depth = 0\n",
    "best_auc_roc = 0\n",
    "for estimators in range(1, 16, 1):\n",
    "    for depth in range(1, 10):\n",
    "        model = RandomForestClassifier(random_state=12345, n_estimators=estimators, max_depth=depth)\n",
    "        model.fit(features_train, target_train)\n",
    "        predicted_valid = model.predict(features_valid)\n",
    "        probabilities_valid = model.predict_proba(features_valid)\n",
    "        probabilities_one_valid = probabilities_valid[:, 1]\n",
    "        auc_roc = roc_auc_score(target_valid, probabilities_one_valid)\n",
    "        f1 = f1_score(target_valid, predicted_valid)\n",
    "        if f1 > best_f1:\n",
    "            best_f1 = f1\n",
    "            best_estimators = estimators\n",
    "            best_depth = depth\n",
    "            best_auc_roc = auc_roc\n",
    "print('f1: {}, AUC-ROC: {}.'.format(\n",
    "    best_f1, best_auc_roc))\n",
    "print('Количестве деревьев: {}, глубина: {}'.format(\n",
    "    best_estimators, best_depth))"
   ]
  },
  {
   "cell_type": "markdown",
   "metadata": {},
   "source": [
    "Наилучший результат F1 на несбалансированной выборке составляет 0,57 при AUC-ROC 0.84"
   ]
  },
  {
   "cell_type": "markdown",
   "metadata": {},
   "source": [
    "## Борьба с дисбалансом"
   ]
  },
  {
   "cell_type": "markdown",
   "metadata": {},
   "source": [
    "Придадим объектам редкого класса больший вес. Оценим работу всех трех моделей с параметром class_weight='balanced'"
   ]
  },
  {
   "cell_type": "code",
   "execution_count": 76,
   "metadata": {},
   "outputs": [
    {
     "name": "stdout",
     "output_type": "stream",
     "text": [
      "F1-мера: 0.5019455252918288. AUC-ROC: 0.77601278456838\n"
     ]
    }
   ],
   "source": [
    "model = LogisticRegression(random_state=12345, solver='liblinear', class_weight='balanced')\n",
    "model.fit(features_train, target_train)\n",
    "predicted_valid = model.predict(features_valid)\n",
    "f1 = f1_score(target_valid, predicted_valid)\n",
    "probabilities_valid = model.predict_proba(features_valid)\n",
    "probabilities_one_valid = probabilities_valid[:, 1]\n",
    "auc_roc = roc_auc_score(target_valid, probabilities_one_valid)\n",
    "print('F1-мера: {}. AUC-ROC: {}'.format(f1, auc_roc))"
   ]
  },
  {
   "cell_type": "markdown",
   "metadata": {},
   "source": [
    "Результат логистической модели гораздо лучше, чем на несбалансированной выборке\n",
    "\n"
   ]
  },
  {
   "cell_type": "code",
   "execution_count": 77,
   "metadata": {},
   "outputs": [
    {
     "name": "stdout",
     "output_type": "stream",
     "text": [
      "глубина дерева: 5, F1: 0.5792349726775956, AUC-ROC: 0.8350860160332909\n"
     ]
    }
   ],
   "source": [
    "best_depth = 0\n",
    "best_f1 = 0\n",
    "best_auc_roc = 0\n",
    "for depth in range(1, 21):\n",
    "    model = DecisionTreeClassifier(max_depth=depth, random_state=12345, class_weight='balanced')\n",
    "    model.fit(features_train, target_train)\n",
    "    predicted_valid = model.predict(features_valid)\n",
    "    f1 = f1_score(target_valid, predicted_valid)\n",
    "    probabilities_valid = model.predict_proba(features_valid)\n",
    "    probabilities_one_valid = probabilities_valid[:, 1]\n",
    "    auc_roc = roc_auc_score(target_valid, probabilities_one_valid)\n",
    "    if f1 > best_f1:\n",
    "        best_f1 = f1\n",
    "        best_auc_roc = auc_roc\n",
    "        best_depth = depth\n",
    "print('Глубина дерева: {}, F1: {}, AUC-ROC: {}'.format(\n",
    "    best_depth, best_f1, best_auc_roc))"
   ]
  },
  {
   "cell_type": "code",
   "execution_count": 79,
   "metadata": {},
   "outputs": [
    {
     "name": "stdout",
     "output_type": "stream",
     "text": [
      "f1: 0.6206896551724139, AUC-ROC: 0.8550290413263801\n",
      "Количество деревьев: 11, глубина: 9. \n"
     ]
    }
   ],
   "source": [
    "best_f1 = 0\n",
    "best_estimators = 0\n",
    "best_depth = 0\n",
    "best_auc_roc = 0\n",
    "for estimators in range(1, 16, 10):\n",
    "    for depth in range(1, 10):\n",
    "        model = RandomForestClassifier(random_state=12345, n_estimators=estimators, max_depth=depth, class_weight='balanced')\n",
    "        model.fit(features_train, target_train)\n",
    "        predicted_valid = model.predict(features_valid)\n",
    "        probabilities_valid = model.predict_proba(features_valid)\n",
    "        probabilities_one_valid = probabilities_valid[:, 1]\n",
    "        auc_roc = roc_auc_score(target_valid, probabilities_one_valid)\n",
    "        f1 = f1_score(target_valid, predicted_valid)\n",
    "        if f1 > best_f1:\n",
    "            best_f1 = f1\n",
    "            best_estimators = estimators\n",
    "            best_depth = depth\n",
    "            best_auc_roc = auc_roc\n",
    "print('f1: {}, AUC-ROC: {}'.format(\n",
    "    best_f1, best_auc_roc))\n",
    "print('Количество деревьев: {}, глубина: {}. '.format(\n",
    "    best_estimators, best_depth))"
   ]
  },
  {
   "cell_type": "markdown",
   "metadata": {},
   "source": [
    "Получился неплохой результат, F1 лучшей модели составило 0,62 при AUC-ROC 0.85. Проверим результаты борьбы с дисбалансом другими методами"
   ]
  },
  {
   "cell_type": "markdown",
   "metadata": {},
   "source": [
    "Избавимся от дисбаланса классов путем увеличения выборки. Напишем функцию, которая увеличивает количество объектов меньшего класса и перемешивает сбалансированную выборку."
   ]
  },
  {
   "cell_type": "code",
   "execution_count": 81,
   "metadata": {},
   "outputs": [],
   "source": [
    "def upsample(features, target):\n",
    "    features_zeros = features[target==0]\n",
    "    features_ones = features[target==1]\n",
    "    target_zeros = target[target==0]\n",
    "    target_ones = target[target==1]\n",
    "    repeat = np.round(len(target_zeros) / len(target_ones)).astype(int)\n",
    "    features_upsampled = pd.concat([features_zeros] + [features_ones] * repeat)\n",
    "    target_upsampled = pd.concat([target_zeros] + [target_ones] * repeat)\n",
    "    features_upsampled, target_upsampled = shuffle(\n",
    "        features_upsampled, target_upsampled, random_state=12345)\n",
    "    return features_upsampled, target_upsampled"
   ]
  },
  {
   "cell_type": "markdown",
   "metadata": {},
   "source": [
    "Применим функцию к нашей обучающей выборке"
   ]
  },
  {
   "cell_type": "code",
   "execution_count": 82,
   "metadata": {},
   "outputs": [],
   "source": [
    "features_upsampled, target_upsampled = upsample(features_train, target_train)\n"
   ]
  },
  {
   "cell_type": "markdown",
   "metadata": {},
   "source": [
    "Проверим результат увеличения выборки"
   ]
  },
  {
   "cell_type": "code",
   "execution_count": 83,
   "metadata": {},
   "outputs": [
    {
     "name": "stdout",
     "output_type": "stream",
     "text": [
      "(4504, 11) (4328, 11)\n"
     ]
    }
   ],
   "source": [
    "print(features_upsampled[target_upsampled==1].shape, features_upsampled[target_upsampled==0].shape)"
   ]
  },
  {
   "cell_type": "markdown",
   "metadata": {},
   "source": [
    "Проверим работу моделей на увеличенной выборке"
   ]
  },
  {
   "cell_type": "code",
   "execution_count": 84,
   "metadata": {},
   "outputs": [
    {
     "name": "stdout",
     "output_type": "stream",
     "text": [
      "F1-мера: 0.49668246445497627. AUC-ROC: 0.7760540978034504\n"
     ]
    }
   ],
   "source": [
    "model = LogisticRegression(random_state=12345, solver='liblinear')\n",
    "model.fit(features_upsampled, target_upsampled)\n",
    "predicted_valid = model.predict(features_valid)\n",
    "f1 = f1_score(target_valid, predicted_valid)\n",
    "probabilities_valid = model.predict_proba(features_valid)\n",
    "probabilities_one_valid = probabilities_valid[:, 1]\n",
    "auc_roc = roc_auc_score(target_valid, probabilities_one_valid)\n",
    "print('F1-мера: {}. AUC-ROC: {}'.format(f1, auc_roc))"
   ]
  },
  {
   "cell_type": "code",
   "execution_count": 86,
   "metadata": {},
   "outputs": [
    {
     "name": "stdout",
     "output_type": "stream",
     "text": [
      "Глубина дерева: 5. F1: 0.5792349726775956, AUC-ROC: 0.8350860160332909\n"
     ]
    }
   ],
   "source": [
    "best_depth = 0\n",
    "best_f1 = 0\n",
    "best_auc_roc = 0\n",
    "for depth in range(1, 21):\n",
    "    model = DecisionTreeClassifier(max_depth=depth, random_state=12345)\n",
    "    model.fit(features_upsampled, target_upsampled)\n",
    "    predicted_valid = model.predict(features_valid)\n",
    "    f1 = f1_score(target_valid, predicted_valid)\n",
    "    probabilities_valid = model.predict_proba(features_valid)\n",
    "    probabilities_one_valid = probabilities_valid[:, 1]\n",
    "    auc_roc = roc_auc_score(target_valid, probabilities_one_valid)\n",
    "    if f1 > best_f1:\n",
    "        best_f1 = f1\n",
    "        best_auc_roc = auc_roc\n",
    "        best_depth = depth\n",
    "print('Глубина дерева: {}. F1: {}, AUC-ROC: {}'.format(\n",
    "    best_depth, best_f1, best_auc_roc))"
   ]
  },
  {
   "cell_type": "code",
   "execution_count": 96,
   "metadata": {},
   "outputs": [
    {
     "name": "stdout",
     "output_type": "stream",
     "text": [
      "f1: 0.5969802555168409. AUC-ROC: 0.843141157934864.\n",
      "Количество деревьев: 14, глубина: 9. \n"
     ]
    }
   ],
   "source": [
    "best_f1 = 0\n",
    "best_estimators = 0\n",
    "best_depth = 0\n",
    "best_auc_roc = 0\n",
    "for estimators in range(1, 16, 1):\n",
    "    for depth in range(1, 10):\n",
    "        model = RandomForestClassifier(random_state=12345, n_estimators=estimators, max_depth=depth)\n",
    "        model.fit(features_upsampled, target_upsampled)\n",
    "        predicted_valid = model.predict(features_valid)\n",
    "        probabilities_valid = model.predict_proba(features_valid)\n",
    "        probabilities_one_valid = probabilities_valid[:, 1]\n",
    "        auc_roc = roc_auc_score(target_valid, probabilities_one_valid)\n",
    "        f1 = f1_score(target_valid, predicted_valid)\n",
    "        if f1 > best_f1:\n",
    "            best_f1 = f1\n",
    "            best_estimators = estimators\n",
    "            best_depth = depth\n",
    "            best_auc_roc = auc_roc\n",
    "print('f1: {}. AUC-ROC: {}.'.format(\n",
    "    best_f1, best_auc_roc))\n",
    "print('Количество деревьев: {}, глубина: {}. '.format(\n",
    "    best_estimators, best_depth))"
   ]
  },
  {
   "cell_type": "markdown",
   "metadata": {},
   "source": [
    "Лучший результат для метода увеличения выборки получен в модели RandomForestClassifier F1 0.59, AUC-ROC 0.84 со следующими параметрами: количество деревьев 14, глубина 9"
   ]
  },
  {
   "cell_type": "markdown",
   "metadata": {},
   "source": [
    "Избавимся от дисбаланса классов путем уменьшения выборки. Напишем функцию, которая уменьшает количество объектов большего класса и перемешивает сбалансированную выборку."
   ]
  },
  {
   "cell_type": "code",
   "execution_count": 89,
   "metadata": {},
   "outputs": [],
   "source": [
    "def downsample(features, target):\n",
    "    features_zeros = features[target == 0]\n",
    "    features_ones = features[target == 1]\n",
    "    target_zeros = target[target == 0]\n",
    "    target_ones = target[target == 1]\n",
    "    fraction = len(target_ones) / len(target_zeros)\n",
    "    features_downsampled = pd.concat(\n",
    "        [features_zeros.sample(frac=fraction, random_state=12345)] + [features_ones])\n",
    "    target_downsampled = pd.concat(\n",
    "        [target_zeros.sample(frac=fraction, random_state=12345)] + [target_ones]) \n",
    "    features_downsampled, target_downsampled = shuffle(\n",
    "        features_downsampled, target_downsampled, random_state=12345)\n",
    "    return features_downsampled, target_downsampled"
   ]
  },
  {
   "cell_type": "markdown",
   "metadata": {},
   "source": [
    "Применим функцию к нашей обучающей выборке"
   ]
  },
  {
   "cell_type": "code",
   "execution_count": 90,
   "metadata": {},
   "outputs": [],
   "source": [
    "features_downsampled, target_downsampled = downsample(features_train, target_train)"
   ]
  },
  {
   "cell_type": "markdown",
   "metadata": {},
   "source": [
    "Проверим результат увеличения выборки"
   ]
  },
  {
   "cell_type": "code",
   "execution_count": 91,
   "metadata": {},
   "outputs": [
    {
     "name": "stdout",
     "output_type": "stream",
     "text": [
      "(1126, 11) (1126, 11)\n"
     ]
    }
   ],
   "source": [
    "print(features_downsampled[target_downsampled==1].shape, features_downsampled[target_downsampled==0].shape)\n"
   ]
  },
  {
   "cell_type": "markdown",
   "metadata": {},
   "source": [
    "Теперь проверим работу трех видов моделей с полученными выборками"
   ]
  },
  {
   "cell_type": "code",
   "execution_count": 92,
   "metadata": {},
   "outputs": [
    {
     "name": "stdout",
     "output_type": "stream",
     "text": [
      "F1-мера: 0.48803827751196177. AUC-ROC: 0.774463538253239\n"
     ]
    }
   ],
   "source": [
    "model = LogisticRegression(random_state=12345, solver='liblinear')\n",
    "model.fit(features_downsampled, target_downsampled)\n",
    "predicted_valid = model.predict(features_valid)\n",
    "f1 = f1_score(target_valid, predicted_valid)\n",
    "probabilities_valid = model.predict_proba(features_valid)\n",
    "probabilities_one_valid = probabilities_valid[:, 1]\n",
    "auc_roc = roc_auc_score(target_valid, probabilities_one_valid)\n",
    "print('F1-мера: {}. AUC-ROC: {}'.format(f1, auc_roc))"
   ]
  },
  {
   "cell_type": "code",
   "execution_count": 93,
   "metadata": {},
   "outputs": [
    {
     "name": "stdout",
     "output_type": "stream",
     "text": [
      "глубина дерева 7. F1 0.5609243697478992, AUC-ROC 0.8212517159076611\n"
     ]
    }
   ],
   "source": [
    "best_depth = 0\n",
    "best_f1 = 0\n",
    "best_auc_roc = 0\n",
    "for depth in range(1, 21):\n",
    "    model = DecisionTreeClassifier(max_depth=depth, random_state=12345)\n",
    "    model.fit(features_downsampled, target_downsampled)\n",
    "    predicted_valid = model.predict(features_valid)\n",
    "    f1 = f1_score(target_valid, predicted_valid)\n",
    "    probabilities_valid = model.predict_proba(features_valid)\n",
    "    probabilities_one_valid = probabilities_valid[:, 1]\n",
    "    auc_roc = roc_auc_score(target_valid, probabilities_one_valid)\n",
    "    if f1 > best_f1:\n",
    "        best_f1 = f1\n",
    "        best_auc_roc = auc_roc\n",
    "        best_depth = depth\n",
    "print('глубина дерева {}. F1 {}, AUC-ROC {}'.format(\n",
    "    best_depth, best_f1, best_auc_roc))"
   ]
  },
  {
   "cell_type": "code",
   "execution_count": 97,
   "metadata": {},
   "outputs": [
    {
     "name": "stdout",
     "output_type": "stream",
     "text": [
      "f1 0.5871369294605808, AUC-ROC: 0.8539473857172635.\n",
      "количество деревьев 15 и глубина 7. \n"
     ]
    }
   ],
   "source": [
    "best_f1 = 0\n",
    "best_estimators = 0\n",
    "best_depth = 0\n",
    "best_auc_roc = 0\n",
    "for estimators in range(1, 16, 1):\n",
    "    for depth in range(1, 10):\n",
    "        model = RandomForestClassifier(random_state=12345, n_estimators=estimators, max_depth=depth)\n",
    "        model.fit(features_downsampled, target_downsampled)\n",
    "        predicted_valid = model.predict(features_valid)\n",
    "        probabilities_valid = model.predict_proba(features_valid)\n",
    "        probabilities_one_valid = probabilities_valid[:, 1]\n",
    "        auc_roc = roc_auc_score(target_valid, probabilities_one_valid)\n",
    "        f1 = f1_score(target_valid, predicted_valid)\n",
    "        if f1 > best_f1:\n",
    "            best_f1 = f1\n",
    "            best_estimators = estimators\n",
    "            best_depth = depth\n",
    "            best_auc_roc = auc_roc\n",
    "print('f1 {}, AUC-ROC: {}.'.format(\n",
    "    best_f1, best_auc_roc))\n",
    "print('количество деревьев {} и глубина {}. '.format(\n",
    "    best_estimators, best_depth))"
   ]
  },
  {
   "cell_type": "markdown",
   "metadata": {},
   "source": [
    "Результат неплохой, но хуже, чем при методах взвешивания классов и увеличения выборки."
   ]
  },
  {
   "cell_type": "markdown",
   "metadata": {},
   "source": [
    "Наилучший результат получен при взвешивании классов у модели RandomForestClassifier со следующими гиперпарамтерами: количество деревьев 15 и глубина 7. F1-мера составила 0,58 при AUC-ROC 0.85."
   ]
  },
  {
   "cell_type": "markdown",
   "metadata": {},
   "source": [
    "## Тестирование модели"
   ]
  },
  {
   "cell_type": "markdown",
   "metadata": {},
   "source": [
    "Обучим модель с определенными ранее параметрами и определим ее эффективность на тестовой выборке"
   ]
  },
  {
   "cell_type": "code",
   "execution_count": 103,
   "metadata": {},
   "outputs": [
    {
     "name": "stdout",
     "output_type": "stream",
     "text": [
      "F1 0.62, AUC-ROC 0.8623061606800194\n"
     ]
    }
   ],
   "source": [
    "model = RandomForestClassifier(random_state=12345, n_estimators=11, max_depth=9, class_weight='balanced')\n",
    "model.fit(features_train, target_train)\n",
    "predicted_test = model.predict(features_test)\n",
    "probabilities_test = model.predict_proba(features_test)\n",
    "probabilities_one_test = probabilities_test[:, 1]\n",
    "f1 = f1_score(target_test, predicted_test)\n",
    "auc_roc = roc_auc_score(target_test, probabilities_one_test)\n",
    "print('F1 {}, AUC-ROC {}'.format(f1, auc_roc))"
   ]
  },
  {
   "cell_type": "markdown",
   "metadata": {},
   "source": [
    "Построим ROC-кривую"
   ]
  },
  {
   "cell_type": "code",
   "execution_count": 104,
   "metadata": {},
   "outputs": [
    {
     "data": {
      "image/png": "[encoded data removed]",
      "text/plain": [
       "<Figure size 432x288 with 1 Axes>"
      ]
     },
     "metadata": {
      "needs_background": "light"
     },
     "output_type": "display_data"
    }
   ],
   "source": [
    "fpr, tpr, thresholds = roc_curve(target_test, probabilities_one_test)\n",
    "plt.figure()\n",
    "plt.plot(fpr, tpr)\n",
    "plt.plot([0, 1], [0, 1], linestyle='--')\n",
    "plt.xlabel(\"False Positive Rate\")\n",
    "plt.ylabel(\"True Positive Rate\")\n",
    "plt.title(\"ROC-кривая\")\n",
    "plt.show()"
   ]
  },
  {
   "cell_type": "markdown",
   "metadata": {},
   "source": [
    "<b>Вывод</b>\n",
    "\n",
    "В данной работе была оценена работа разных моделей на несбалансированной и сбалансированной выборках. Для этого выборки были подготовлены: категориальные переменные преобразованы в численные методом OHE, численные значения масштабированы. Исследован результат борьбы с дисбалансом методами взвешивания классов, увеличения и уменьшения выборки. Наилучший результат показала модель RandomForestClassifier на выборке с взвешенными классами: F1-мера составила 0,62 при AUC-ROC 0.85. Результат работы этой модели на тестовой выборке удовлетворительный: F1-мера 0.62, AUC-ROC 0,86."
   ]
  },
  {
   "cell_type": "code",
   "execution_count": null,
   "metadata": {},
   "outputs": [],
   "source": []
  }
 ],
 "metadata": {
  "ExecuteTimeLog": [
   {
    "duration": 67,
    "start_time": "2022-12-29T09:32:50.231Z"
   },
   {
    "duration": 394,
    "start_time": "2022-12-29T09:33:23.051Z"
   },
   {
    "duration": 187,
    "start_time": "2022-12-29T09:33:23.447Z"
   },
   {
    "duration": 10,
    "start_time": "2022-12-29T09:33:34.930Z"
   },
   {
    "duration": 13,
    "start_time": "2022-12-29T09:34:21.412Z"
   },
   {
    "duration": 57,
    "start_time": "2022-12-29T09:34:38.910Z"
   },
   {
    "duration": 1446,
    "start_time": "2022-12-29T09:36:24.955Z"
   },
   {
    "duration": 1149,
    "start_time": "2022-12-29T09:36:39.621Z"
   },
   {
    "duration": 1805,
    "start_time": "2022-12-29T09:36:49.107Z"
   },
   {
    "duration": 5,
    "start_time": "2022-12-29T09:40:02.195Z"
   },
   {
    "duration": 3,
    "start_time": "2022-12-29T09:40:21.627Z"
   },
   {
    "duration": 4,
    "start_time": "2022-12-29T09:40:39.949Z"
   },
   {
    "duration": 1563,
    "start_time": "2022-12-29T09:41:14.155Z"
   },
   {
    "duration": 5,
    "start_time": "2022-12-29T09:42:27.069Z"
   },
   {
    "duration": 40,
    "start_time": "2022-12-29T09:42:45.408Z"
   },
   {
    "duration": 12,
    "start_time": "2022-12-29T09:42:49.715Z"
   },
   {
    "duration": 512,
    "start_time": "2022-12-29T09:43:05.331Z"
   },
   {
    "duration": 11,
    "start_time": "2022-12-29T09:43:06.400Z"
   },
   {
    "duration": 3,
    "start_time": "2022-12-29T09:43:18.600Z"
   },
   {
    "duration": 95,
    "start_time": "2022-12-29T09:43:18.605Z"
   },
   {
    "duration": 29,
    "start_time": "2022-12-29T09:43:18.702Z"
   },
   {
    "duration": 34,
    "start_time": "2022-12-29T09:43:18.733Z"
   },
   {
    "duration": 80,
    "start_time": "2022-12-29T09:43:18.769Z"
   },
   {
    "duration": 1605,
    "start_time": "2022-12-29T09:43:18.851Z"
   },
   {
    "duration": 4,
    "start_time": "2022-12-29T09:43:20.458Z"
   },
   {
    "duration": 37,
    "start_time": "2022-12-29T09:43:20.463Z"
   },
   {
    "duration": 6,
    "start_time": "2022-12-29T09:43:24.368Z"
   },
   {
    "duration": 14,
    "start_time": "2022-12-29T10:44:10.259Z"
   },
   {
    "duration": 10,
    "start_time": "2022-12-29T10:44:38.866Z"
   },
   {
    "duration": 4,
    "start_time": "2022-12-29T10:45:03.459Z"
   },
   {
    "duration": 24,
    "start_time": "2022-12-29T10:45:32.112Z"
   },
   {
    "duration": 14,
    "start_time": "2022-12-29T10:47:31.702Z"
   },
   {
    "duration": 10,
    "start_time": "2022-12-29T10:49:23.307Z"
   },
   {
    "duration": 5,
    "start_time": "2022-12-29T10:57:35.497Z"
   },
   {
    "duration": 8,
    "start_time": "2022-12-29T11:10:15.664Z"
   },
   {
    "duration": 765,
    "start_time": "2022-12-29T11:10:24.081Z"
   },
   {
    "duration": 38,
    "start_time": "2022-12-29T11:10:24.848Z"
   },
   {
    "duration": 8,
    "start_time": "2022-12-29T11:10:24.887Z"
   },
   {
    "duration": 15,
    "start_time": "2022-12-29T11:10:24.897Z"
   },
   {
    "duration": 49,
    "start_time": "2022-12-29T11:10:24.915Z"
   },
   {
    "duration": 41,
    "start_time": "2022-12-29T11:10:28.960Z"
   },
   {
    "duration": 4,
    "start_time": "2022-12-29T11:10:43.465Z"
   },
   {
    "duration": 3,
    "start_time": "2022-12-29T11:11:15.743Z"
   },
   {
    "duration": 3,
    "start_time": "2022-12-29T11:11:32.817Z"
   },
   {
    "duration": 6,
    "start_time": "2022-12-29T11:12:50.640Z"
   },
   {
    "duration": 4,
    "start_time": "2022-12-29T11:13:42.079Z"
   },
   {
    "duration": 11,
    "start_time": "2022-12-29T11:14:09.093Z"
   },
   {
    "duration": 6,
    "start_time": "2022-12-29T11:14:20.555Z"
   },
   {
    "duration": 1441,
    "start_time": "2022-12-29T11:15:29.708Z"
   },
   {
    "duration": 15,
    "start_time": "2022-12-29T11:18:37.259Z"
   },
   {
    "duration": 3,
    "start_time": "2022-12-29T11:30:39.370Z"
   },
   {
    "duration": 1519,
    "start_time": "2022-12-29T11:30:41.459Z"
   },
   {
    "duration": 1106,
    "start_time": "2022-12-29T11:30:50.938Z"
   },
   {
    "duration": 128,
    "start_time": "2022-12-29T11:32:11.737Z"
   },
   {
    "duration": 3,
    "start_time": "2022-12-29T11:32:56.896Z"
   },
   {
    "duration": 157,
    "start_time": "2022-12-29T11:32:57.299Z"
   },
   {
    "duration": 5,
    "start_time": "2022-12-29T11:33:37.003Z"
   },
   {
    "duration": 129,
    "start_time": "2022-12-29T11:33:37.695Z"
   },
   {
    "duration": 6,
    "start_time": "2022-12-29T11:37:33.071Z"
   },
   {
    "duration": 9,
    "start_time": "2022-12-29T11:38:27.788Z"
   },
   {
    "duration": 10,
    "start_time": "2022-12-29T11:39:11.670Z"
   },
   {
    "duration": 9,
    "start_time": "2022-12-29T11:39:29.917Z"
   },
   {
    "duration": 27,
    "start_time": "2022-12-29T11:39:58.183Z"
   },
   {
    "duration": 116,
    "start_time": "2022-12-29T11:40:28.367Z"
   },
   {
    "duration": 446,
    "start_time": "2022-12-29T11:40:53.174Z"
   },
   {
    "duration": 483,
    "start_time": "2022-12-29T11:41:26.720Z"
   },
   {
    "duration": 444,
    "start_time": "2022-12-29T11:41:44.809Z"
   },
   {
    "duration": 5747,
    "start_time": "2022-12-29T11:45:58.996Z"
   },
   {
    "duration": 483,
    "start_time": "2022-12-29T11:46:04.745Z"
   },
   {
    "duration": 454,
    "start_time": "2022-12-29T11:46:14.749Z"
   },
   {
    "duration": 5453,
    "start_time": "2022-12-29T11:46:18.860Z"
   },
   {
    "duration": 5711,
    "start_time": "2022-12-29T11:47:22.767Z"
   },
   {
    "duration": 97,
    "start_time": "2022-12-29T11:48:46.982Z"
   },
   {
    "duration": 474,
    "start_time": "2022-12-29T11:50:17.186Z"
   },
   {
    "duration": 0,
    "start_time": "2022-12-29T11:52:21.103Z"
   },
   {
    "duration": 611,
    "start_time": "2022-12-29T11:52:35.941Z"
   },
   {
    "duration": 10,
    "start_time": "2022-12-29T11:55:13.415Z"
   },
   {
    "duration": 5,
    "start_time": "2022-12-29T11:55:18.110Z"
   },
   {
    "duration": 9,
    "start_time": "2022-12-29T11:55:19.259Z"
   },
   {
    "duration": 6,
    "start_time": "2022-12-29T11:55:43.089Z"
   },
   {
    "duration": 33,
    "start_time": "2022-12-29T11:56:15.652Z"
   },
   {
    "duration": 576,
    "start_time": "2022-12-29T11:56:32.904Z"
   },
   {
    "duration": 567,
    "start_time": "2022-12-29T11:56:56.184Z"
   },
   {
    "duration": 4307,
    "start_time": "2022-12-29T11:57:54.444Z"
   },
   {
    "duration": 750,
    "start_time": "2022-12-29T11:58:06.443Z"
   },
   {
    "duration": 4,
    "start_time": "2022-12-29T12:01:09.038Z"
   },
   {
    "duration": 9,
    "start_time": "2022-12-29T12:01:09.977Z"
   },
   {
    "duration": 5,
    "start_time": "2022-12-29T12:01:31.429Z"
   },
   {
    "duration": 58,
    "start_time": "2022-12-29T12:02:04.132Z"
   },
   {
    "duration": 278,
    "start_time": "2022-12-29T12:02:47.124Z"
   },
   {
    "duration": 2643,
    "start_time": "2022-12-29T12:03:33.628Z"
   },
   {
    "duration": 3769,
    "start_time": "2022-12-29T12:03:44.697Z"
   },
   {
    "duration": 7058,
    "start_time": "2022-12-29T12:03:58.132Z"
   },
   {
    "duration": 3773,
    "start_time": "2022-12-29T12:04:13.545Z"
   },
   {
    "duration": 271,
    "start_time": "2022-12-29T12:10:43.504Z"
   },
   {
    "duration": 80,
    "start_time": "2022-12-29T12:11:09.141Z"
   },
   {
    "duration": 108,
    "start_time": "2022-12-29T12:11:22.451Z"
   },
   {
    "duration": 84,
    "start_time": "2022-12-29T12:12:54.524Z"
   },
   {
    "duration": 83,
    "start_time": "2022-12-29T12:13:04.306Z"
   },
   {
    "duration": 71,
    "start_time": "2022-12-29T12:13:16.085Z"
   },
   {
    "duration": 136,
    "start_time": "2022-12-29T12:14:00.747Z"
   }
  ],
  "kernelspec": {
   "display_name": "Python 3 (ipykernel)",
   "language": "python",
   "name": "python3"
  },
  "language_info": {
   "codemirror_mode": {
    "name": "ipython",
    "version": 3
   },
   "file_extension": ".py",
   "mimetype": "text/x-python",
   "name": "python",
   "nbconvert_exporter": "python",
   "pygments_lexer": "ipython3",
   "version": "3.9.5"
  },
  "toc": {
   "base_numbering": 1,
   "nav_menu": {},
   "number_sections": true,
   "sideBar": true,
   "skip_h1_title": true,
   "title_cell": "Содержание",
   "title_sidebar": "Contents",
   "toc_cell": true,
   "toc_position": {},
   "toc_section_display": true,
   "toc_window_display": false
  }
 },
 "nbformat": 4,
 "nbformat_minor": 2
}
